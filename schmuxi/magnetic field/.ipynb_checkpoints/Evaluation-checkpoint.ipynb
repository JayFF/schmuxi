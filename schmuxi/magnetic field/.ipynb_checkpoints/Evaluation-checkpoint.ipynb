{
 "cells": [
  {
   "cell_type": "code",
   "execution_count": 126,
   "metadata": {},
   "outputs": [],
   "source": [
    "import numpy as np\n",
    "import pandas as pd\n",
    "import matplotlib.pyplot as plt\n",
    "from scipy.optimize import curve_fit\n",
    "from glob import glob\n",
    "from bokeh.layouts import gridplot\n",
    "from bokeh.plotting import figure, show\n",
    "from bokeh.io import output_notebook\n",
    "from scipy import stats"
   ]
  },
  {
   "cell_type": "code",
   "execution_count": 122,
   "metadata": {},
   "outputs": [
    {
     "data": {
      "text/plain": [
       "5.7883818012e-05"
      ]
     },
     "execution_count": 122,
     "metadata": {},
     "output_type": "execute_result"
    }
   ],
   "source": [
    "mu_b = 5.7883818012 * 10**(-5)\n",
    "mu_b"
   ]
  },
  {
   "cell_type": "code",
   "execution_count": 2,
   "metadata": {},
   "outputs": [],
   "source": [
    "list_sweepVT = sorted(glob('*Voltage_Sweep.tsv.gz'))"
   ]
  },
  {
   "cell_type": "code",
   "execution_count": 3,
   "metadata": {},
   "outputs": [],
   "source": [
    "list_calibration = glob('*.wlen_to_px.tsv.gz')"
   ]
  },
  {
   "cell_type": "code",
   "execution_count": 4,
   "metadata": {},
   "outputs": [],
   "source": [
    "calibration = 1230.8 / (pd.read_csv(list_calibration[0], header=None).as_matrix().transpose())[0]"
   ]
  },
  {
   "cell_type": "code",
   "execution_count": 5,
   "metadata": {},
   "outputs": [],
   "source": [
    "sweepVT_sigmam = np.array([pd.read_csv(file, sep='\\t', header=None).as_matrix() for file in list_sweepVT[:9]])\n",
    "sweepVT_sigmap = np.array([pd.read_csv(file, sep='\\t', header=None).as_matrix() for file in list_sweepVT[9:]])"
   ]
  },
  {
   "cell_type": "code",
   "execution_count": 6,
   "metadata": {},
   "outputs": [
    {
     "data": {
      "text/plain": [
       "(9, 81, 1340)"
      ]
     },
     "execution_count": 6,
     "metadata": {},
     "output_type": "execute_result"
    }
   ],
   "source": [
    "np.shape(sweepVT_sigmam)\n"
   ]
  },
  {
   "cell_type": "code",
   "execution_count": 7,
   "metadata": {},
   "outputs": [
    {
     "data": {
      "text/plain": [
       "(9, 81, 1340)"
      ]
     },
     "execution_count": 7,
     "metadata": {},
     "output_type": "execute_result"
    }
   ],
   "source": [
    "np.shape(sweepVT_sigmap)"
   ]
  },
  {
   "cell_type": "code",
   "execution_count": 8,
   "metadata": {},
   "outputs": [
    {
     "data": {
      "text/plain": [
       "(1340,)"
      ]
     },
     "execution_count": 8,
     "metadata": {},
     "output_type": "execute_result"
    }
   ],
   "source": [
    "np.shape(sweepVT_sigmap[0,0,:])"
   ]
  },
  {
   "cell_type": "code",
   "execution_count": 9,
   "metadata": {},
   "outputs": [
    {
     "data": {
      "text/plain": [
       "array([1.85623947, 1.85587281, 1.85550909, ..., 1.47222415, 1.47199701,\n",
       "       1.47177171])"
      ]
     },
     "execution_count": 9,
     "metadata": {},
     "output_type": "execute_result"
    }
   ],
   "source": [
    "spec = sweepVT_sigmap[0,15,:]\n",
    "calibration"
   ]
  },
  {
   "cell_type": "code",
   "execution_count": 10,
   "metadata": {},
   "outputs": [
    {
     "data": {
      "text/html": [
       "\n",
       "    <div class=\"bk-root\">\n",
       "        <a href=\"https://bokeh.pydata.org\" target=\"_blank\" class=\"bk-logo bk-logo-small bk-logo-notebook\"></a>\n",
       "        <span id=\"62896678-1066-412c-a996-b511f96f9505\">Loading BokehJS ...</span>\n",
       "    </div>"
      ]
     },
     "metadata": {},
     "output_type": "display_data"
    },
    {
     "data": {
      "application/javascript": [
       "\n",
       "(function(root) {\n",
       "  function now() {\n",
       "    return new Date();\n",
       "  }\n",
       "\n",
       "  var force = true;\n",
       "\n",
       "  if (typeof (root._bokeh_onload_callbacks) === \"undefined\" || force === true) {\n",
       "    root._bokeh_onload_callbacks = [];\n",
       "    root._bokeh_is_loading = undefined;\n",
       "  }\n",
       "\n",
       "  var JS_MIME_TYPE = 'application/javascript';\n",
       "  var HTML_MIME_TYPE = 'text/html';\n",
       "  var EXEC_MIME_TYPE = 'application/vnd.bokehjs_exec.v0+json';\n",
       "  var CLASS_NAME = 'output_bokeh rendered_html';\n",
       "\n",
       "  /**\n",
       "   * Render data to the DOM node\n",
       "   */\n",
       "  function render(props, node) {\n",
       "    var script = document.createElement(\"script\");\n",
       "    node.appendChild(script);\n",
       "  }\n",
       "\n",
       "  /**\n",
       "   * Handle when an output is cleared or removed\n",
       "   */\n",
       "  function handleClearOutput(event, handle) {\n",
       "    var cell = handle.cell;\n",
       "\n",
       "    var id = cell.output_area._bokeh_element_id;\n",
       "    var server_id = cell.output_area._bokeh_server_id;\n",
       "    // Clean up Bokeh references\n",
       "    if (id !== undefined) {\n",
       "      Bokeh.index[id].model.document.clear();\n",
       "      delete Bokeh.index[id];\n",
       "    }\n",
       "\n",
       "    if (server_id !== undefined) {\n",
       "      // Clean up Bokeh references\n",
       "      var cmd = \"from bokeh.io.state import curstate; print(curstate().uuid_to_server['\" + server_id + \"'].get_sessions()[0].document.roots[0]._id)\";\n",
       "      cell.notebook.kernel.execute(cmd, {\n",
       "        iopub: {\n",
       "          output: function(msg) {\n",
       "            var element_id = msg.content.text.trim();\n",
       "            Bokeh.index[element_id].model.document.clear();\n",
       "            delete Bokeh.index[element_id];\n",
       "          }\n",
       "        }\n",
       "      });\n",
       "      // Destroy server and session\n",
       "      var cmd = \"import bokeh.io.notebook as ion; ion.destroy_server('\" + server_id + \"')\";\n",
       "      cell.notebook.kernel.execute(cmd);\n",
       "    }\n",
       "  }\n",
       "\n",
       "  /**\n",
       "   * Handle when a new output is added\n",
       "   */\n",
       "  function handleAddOutput(event, handle) {\n",
       "    var output_area = handle.output_area;\n",
       "    var output = handle.output;\n",
       "\n",
       "    // limit handleAddOutput to display_data with EXEC_MIME_TYPE content only\n",
       "    if ((output.output_type != \"display_data\") || (!output.data.hasOwnProperty(EXEC_MIME_TYPE))) {\n",
       "      return\n",
       "    }\n",
       "\n",
       "    var toinsert = output_area.element.find(\".\" + CLASS_NAME.split(' ')[0]);\n",
       "\n",
       "    if (output.metadata[EXEC_MIME_TYPE][\"id\"] !== undefined) {\n",
       "      toinsert[0].firstChild.textContent = output.data[JS_MIME_TYPE];\n",
       "      // store reference to embed id on output_area\n",
       "      output_area._bokeh_element_id = output.metadata[EXEC_MIME_TYPE][\"id\"];\n",
       "    }\n",
       "    if (output.metadata[EXEC_MIME_TYPE][\"server_id\"] !== undefined) {\n",
       "      var bk_div = document.createElement(\"div\");\n",
       "      bk_div.innerHTML = output.data[HTML_MIME_TYPE];\n",
       "      var script_attrs = bk_div.children[0].attributes;\n",
       "      for (var i = 0; i < script_attrs.length; i++) {\n",
       "        toinsert[0].firstChild.setAttribute(script_attrs[i].name, script_attrs[i].value);\n",
       "      }\n",
       "      // store reference to server id on output_area\n",
       "      output_area._bokeh_server_id = output.metadata[EXEC_MIME_TYPE][\"server_id\"];\n",
       "    }\n",
       "  }\n",
       "\n",
       "  function register_renderer(events, OutputArea) {\n",
       "\n",
       "    function append_mime(data, metadata, element) {\n",
       "      // create a DOM node to render to\n",
       "      var toinsert = this.create_output_subarea(\n",
       "        metadata,\n",
       "        CLASS_NAME,\n",
       "        EXEC_MIME_TYPE\n",
       "      );\n",
       "      this.keyboard_manager.register_events(toinsert);\n",
       "      // Render to node\n",
       "      var props = {data: data, metadata: metadata[EXEC_MIME_TYPE]};\n",
       "      render(props, toinsert[0]);\n",
       "      element.append(toinsert);\n",
       "      return toinsert\n",
       "    }\n",
       "\n",
       "    /* Handle when an output is cleared or removed */\n",
       "    events.on('clear_output.CodeCell', handleClearOutput);\n",
       "    events.on('delete.Cell', handleClearOutput);\n",
       "\n",
       "    /* Handle when a new output is added */\n",
       "    events.on('output_added.OutputArea', handleAddOutput);\n",
       "\n",
       "    /**\n",
       "     * Register the mime type and append_mime function with output_area\n",
       "     */\n",
       "    OutputArea.prototype.register_mime_type(EXEC_MIME_TYPE, append_mime, {\n",
       "      /* Is output safe? */\n",
       "      safe: true,\n",
       "      /* Index of renderer in `output_area.display_order` */\n",
       "      index: 0\n",
       "    });\n",
       "  }\n",
       "\n",
       "  // register the mime type if in Jupyter Notebook environment and previously unregistered\n",
       "  if (root.Jupyter !== undefined) {\n",
       "    var events = require('base/js/events');\n",
       "    var OutputArea = require('notebook/js/outputarea').OutputArea;\n",
       "\n",
       "    if (OutputArea.prototype.mime_types().indexOf(EXEC_MIME_TYPE) == -1) {\n",
       "      register_renderer(events, OutputArea);\n",
       "    }\n",
       "  }\n",
       "\n",
       "  \n",
       "  if (typeof (root._bokeh_timeout) === \"undefined\" || force === true) {\n",
       "    root._bokeh_timeout = Date.now() + 5000;\n",
       "    root._bokeh_failed_load = false;\n",
       "  }\n",
       "\n",
       "  var NB_LOAD_WARNING = {'data': {'text/html':\n",
       "     \"<div style='background-color: #fdd'>\\n\"+\n",
       "     \"<p>\\n\"+\n",
       "     \"BokehJS does not appear to have successfully loaded. If loading BokehJS from CDN, this \\n\"+\n",
       "     \"may be due to a slow or bad network connection. Possible fixes:\\n\"+\n",
       "     \"</p>\\n\"+\n",
       "     \"<ul>\\n\"+\n",
       "     \"<li>re-rerun `output_notebook()` to attempt to load from CDN again, or</li>\\n\"+\n",
       "     \"<li>use INLINE resources instead, as so:</li>\\n\"+\n",
       "     \"</ul>\\n\"+\n",
       "     \"<code>\\n\"+\n",
       "     \"from bokeh.resources import INLINE\\n\"+\n",
       "     \"output_notebook(resources=INLINE)\\n\"+\n",
       "     \"</code>\\n\"+\n",
       "     \"</div>\"}};\n",
       "\n",
       "  function display_loaded() {\n",
       "    var el = document.getElementById(\"62896678-1066-412c-a996-b511f96f9505\");\n",
       "    if (el != null) {\n",
       "      el.textContent = \"BokehJS is loading...\";\n",
       "    }\n",
       "    if (root.Bokeh !== undefined) {\n",
       "      if (el != null) {\n",
       "        el.textContent = \"BokehJS \" + root.Bokeh.version + \" successfully loaded.\";\n",
       "      }\n",
       "    } else if (Date.now() < root._bokeh_timeout) {\n",
       "      setTimeout(display_loaded, 100)\n",
       "    }\n",
       "  }\n",
       "\n",
       "\n",
       "  function run_callbacks() {\n",
       "    try {\n",
       "      root._bokeh_onload_callbacks.forEach(function(callback) { callback() });\n",
       "    }\n",
       "    finally {\n",
       "      delete root._bokeh_onload_callbacks\n",
       "    }\n",
       "    console.info(\"Bokeh: all callbacks have finished\");\n",
       "  }\n",
       "\n",
       "  function load_libs(js_urls, callback) {\n",
       "    root._bokeh_onload_callbacks.push(callback);\n",
       "    if (root._bokeh_is_loading > 0) {\n",
       "      console.log(\"Bokeh: BokehJS is being loaded, scheduling callback at\", now());\n",
       "      return null;\n",
       "    }\n",
       "    if (js_urls == null || js_urls.length === 0) {\n",
       "      run_callbacks();\n",
       "      return null;\n",
       "    }\n",
       "    console.log(\"Bokeh: BokehJS not loaded, scheduling load and callback at\", now());\n",
       "    root._bokeh_is_loading = js_urls.length;\n",
       "    for (var i = 0; i < js_urls.length; i++) {\n",
       "      var url = js_urls[i];\n",
       "      var s = document.createElement('script');\n",
       "      s.src = url;\n",
       "      s.async = false;\n",
       "      s.onreadystatechange = s.onload = function() {\n",
       "        root._bokeh_is_loading--;\n",
       "        if (root._bokeh_is_loading === 0) {\n",
       "          console.log(\"Bokeh: all BokehJS libraries loaded\");\n",
       "          run_callbacks()\n",
       "        }\n",
       "      };\n",
       "      s.onerror = function() {\n",
       "        console.warn(\"failed to load library \" + url);\n",
       "      };\n",
       "      console.log(\"Bokeh: injecting script tag for BokehJS library: \", url);\n",
       "      document.getElementsByTagName(\"head\")[0].appendChild(s);\n",
       "    }\n",
       "  };var element = document.getElementById(\"62896678-1066-412c-a996-b511f96f9505\");\n",
       "  if (element == null) {\n",
       "    console.log(\"Bokeh: ERROR: autoload.js configured with elementid '62896678-1066-412c-a996-b511f96f9505' but no matching script tag was found. \")\n",
       "    return false;\n",
       "  }\n",
       "\n",
       "  var js_urls = [\"https://cdn.pydata.org/bokeh/release/bokeh-0.12.14.min.js\", \"https://cdn.pydata.org/bokeh/release/bokeh-widgets-0.12.14.min.js\", \"https://cdn.pydata.org/bokeh/release/bokeh-tables-0.12.14.min.js\", \"https://cdn.pydata.org/bokeh/release/bokeh-gl-0.12.14.min.js\"];\n",
       "\n",
       "  var inline_js = [\n",
       "    function(Bokeh) {\n",
       "      Bokeh.set_log_level(\"info\");\n",
       "    },\n",
       "    \n",
       "    function(Bokeh) {\n",
       "      \n",
       "    },\n",
       "    function(Bokeh) {\n",
       "      console.log(\"Bokeh: injecting CSS: https://cdn.pydata.org/bokeh/release/bokeh-0.12.14.min.css\");\n",
       "      Bokeh.embed.inject_css(\"https://cdn.pydata.org/bokeh/release/bokeh-0.12.14.min.css\");\n",
       "      console.log(\"Bokeh: injecting CSS: https://cdn.pydata.org/bokeh/release/bokeh-widgets-0.12.14.min.css\");\n",
       "      Bokeh.embed.inject_css(\"https://cdn.pydata.org/bokeh/release/bokeh-widgets-0.12.14.min.css\");\n",
       "      console.log(\"Bokeh: injecting CSS: https://cdn.pydata.org/bokeh/release/bokeh-tables-0.12.14.min.css\");\n",
       "      Bokeh.embed.inject_css(\"https://cdn.pydata.org/bokeh/release/bokeh-tables-0.12.14.min.css\");\n",
       "    }\n",
       "  ];\n",
       "\n",
       "  function run_inline_js() {\n",
       "    \n",
       "    if ((root.Bokeh !== undefined) || (force === true)) {\n",
       "      for (var i = 0; i < inline_js.length; i++) {\n",
       "        inline_js[i].call(root, root.Bokeh);\n",
       "      }if (force === true) {\n",
       "        display_loaded();\n",
       "      }} else if (Date.now() < root._bokeh_timeout) {\n",
       "      setTimeout(run_inline_js, 100);\n",
       "    } else if (!root._bokeh_failed_load) {\n",
       "      console.log(\"Bokeh: BokehJS failed to load within specified timeout.\");\n",
       "      root._bokeh_failed_load = true;\n",
       "    } else if (force !== true) {\n",
       "      var cell = $(document.getElementById(\"62896678-1066-412c-a996-b511f96f9505\")).parents('.cell').data().cell;\n",
       "      cell.output_area.append_execute_result(NB_LOAD_WARNING)\n",
       "    }\n",
       "\n",
       "  }\n",
       "\n",
       "  if (root._bokeh_is_loading === 0) {\n",
       "    console.log(\"Bokeh: BokehJS loaded, going straight to plotting\");\n",
       "    run_inline_js();\n",
       "  } else {\n",
       "    load_libs(js_urls, function() {\n",
       "      console.log(\"Bokeh: BokehJS plotting callback run at\", now());\n",
       "      run_inline_js();\n",
       "    });\n",
       "  }\n",
       "}(window));"
      ],
      "application/vnd.bokehjs_load.v0+json": "\n(function(root) {\n  function now() {\n    return new Date();\n  }\n\n  var force = true;\n\n  if (typeof (root._bokeh_onload_callbacks) === \"undefined\" || force === true) {\n    root._bokeh_onload_callbacks = [];\n    root._bokeh_is_loading = undefined;\n  }\n\n  \n\n  \n  if (typeof (root._bokeh_timeout) === \"undefined\" || force === true) {\n    root._bokeh_timeout = Date.now() + 5000;\n    root._bokeh_failed_load = false;\n  }\n\n  var NB_LOAD_WARNING = {'data': {'text/html':\n     \"<div style='background-color: #fdd'>\\n\"+\n     \"<p>\\n\"+\n     \"BokehJS does not appear to have successfully loaded. If loading BokehJS from CDN, this \\n\"+\n     \"may be due to a slow or bad network connection. Possible fixes:\\n\"+\n     \"</p>\\n\"+\n     \"<ul>\\n\"+\n     \"<li>re-rerun `output_notebook()` to attempt to load from CDN again, or</li>\\n\"+\n     \"<li>use INLINE resources instead, as so:</li>\\n\"+\n     \"</ul>\\n\"+\n     \"<code>\\n\"+\n     \"from bokeh.resources import INLINE\\n\"+\n     \"output_notebook(resources=INLINE)\\n\"+\n     \"</code>\\n\"+\n     \"</div>\"}};\n\n  function display_loaded() {\n    var el = document.getElementById(\"62896678-1066-412c-a996-b511f96f9505\");\n    if (el != null) {\n      el.textContent = \"BokehJS is loading...\";\n    }\n    if (root.Bokeh !== undefined) {\n      if (el != null) {\n        el.textContent = \"BokehJS \" + root.Bokeh.version + \" successfully loaded.\";\n      }\n    } else if (Date.now() < root._bokeh_timeout) {\n      setTimeout(display_loaded, 100)\n    }\n  }\n\n\n  function run_callbacks() {\n    try {\n      root._bokeh_onload_callbacks.forEach(function(callback) { callback() });\n    }\n    finally {\n      delete root._bokeh_onload_callbacks\n    }\n    console.info(\"Bokeh: all callbacks have finished\");\n  }\n\n  function load_libs(js_urls, callback) {\n    root._bokeh_onload_callbacks.push(callback);\n    if (root._bokeh_is_loading > 0) {\n      console.log(\"Bokeh: BokehJS is being loaded, scheduling callback at\", now());\n      return null;\n    }\n    if (js_urls == null || js_urls.length === 0) {\n      run_callbacks();\n      return null;\n    }\n    console.log(\"Bokeh: BokehJS not loaded, scheduling load and callback at\", now());\n    root._bokeh_is_loading = js_urls.length;\n    for (var i = 0; i < js_urls.length; i++) {\n      var url = js_urls[i];\n      var s = document.createElement('script');\n      s.src = url;\n      s.async = false;\n      s.onreadystatechange = s.onload = function() {\n        root._bokeh_is_loading--;\n        if (root._bokeh_is_loading === 0) {\n          console.log(\"Bokeh: all BokehJS libraries loaded\");\n          run_callbacks()\n        }\n      };\n      s.onerror = function() {\n        console.warn(\"failed to load library \" + url);\n      };\n      console.log(\"Bokeh: injecting script tag for BokehJS library: \", url);\n      document.getElementsByTagName(\"head\")[0].appendChild(s);\n    }\n  };var element = document.getElementById(\"62896678-1066-412c-a996-b511f96f9505\");\n  if (element == null) {\n    console.log(\"Bokeh: ERROR: autoload.js configured with elementid '62896678-1066-412c-a996-b511f96f9505' but no matching script tag was found. \")\n    return false;\n  }\n\n  var js_urls = [\"https://cdn.pydata.org/bokeh/release/bokeh-0.12.14.min.js\", \"https://cdn.pydata.org/bokeh/release/bokeh-widgets-0.12.14.min.js\", \"https://cdn.pydata.org/bokeh/release/bokeh-tables-0.12.14.min.js\", \"https://cdn.pydata.org/bokeh/release/bokeh-gl-0.12.14.min.js\"];\n\n  var inline_js = [\n    function(Bokeh) {\n      Bokeh.set_log_level(\"info\");\n    },\n    \n    function(Bokeh) {\n      \n    },\n    function(Bokeh) {\n      console.log(\"Bokeh: injecting CSS: https://cdn.pydata.org/bokeh/release/bokeh-0.12.14.min.css\");\n      Bokeh.embed.inject_css(\"https://cdn.pydata.org/bokeh/release/bokeh-0.12.14.min.css\");\n      console.log(\"Bokeh: injecting CSS: https://cdn.pydata.org/bokeh/release/bokeh-widgets-0.12.14.min.css\");\n      Bokeh.embed.inject_css(\"https://cdn.pydata.org/bokeh/release/bokeh-widgets-0.12.14.min.css\");\n      console.log(\"Bokeh: injecting CSS: https://cdn.pydata.org/bokeh/release/bokeh-tables-0.12.14.min.css\");\n      Bokeh.embed.inject_css(\"https://cdn.pydata.org/bokeh/release/bokeh-tables-0.12.14.min.css\");\n    }\n  ];\n\n  function run_inline_js() {\n    \n    if ((root.Bokeh !== undefined) || (force === true)) {\n      for (var i = 0; i < inline_js.length; i++) {\n        inline_js[i].call(root, root.Bokeh);\n      }if (force === true) {\n        display_loaded();\n      }} else if (Date.now() < root._bokeh_timeout) {\n      setTimeout(run_inline_js, 100);\n    } else if (!root._bokeh_failed_load) {\n      console.log(\"Bokeh: BokehJS failed to load within specified timeout.\");\n      root._bokeh_failed_load = true;\n    } else if (force !== true) {\n      var cell = $(document.getElementById(\"62896678-1066-412c-a996-b511f96f9505\")).parents('.cell').data().cell;\n      cell.output_area.append_execute_result(NB_LOAD_WARNING)\n    }\n\n  }\n\n  if (root._bokeh_is_loading === 0) {\n    console.log(\"Bokeh: BokehJS loaded, going straight to plotting\");\n    run_inline_js();\n  } else {\n    load_libs(js_urls, function() {\n      console.log(\"Bokeh: BokehJS plotting callback run at\", now());\n      run_inline_js();\n    });\n  }\n}(window));"
     },
     "metadata": {},
     "output_type": "display_data"
    }
   ],
   "source": [
    "output_notebook()"
   ]
  },
  {
   "cell_type": "code",
   "execution_count": 11,
   "metadata": {},
   "outputs": [
    {
     "data": {
      "text/html": [
       "\n",
       "<div class=\"bk-root\">\n",
       "    <div class=\"bk-plotdiv\" id=\"d60bdb45-77de-405c-8d82-d9a24601e44d\"></div>\n",
       "</div>"
      ]
     },
     "metadata": {},
     "output_type": "display_data"
    },
    {
     "data": {
      "application/javascript": [
       "(function(root) {\n",
       "  function embed_document(root) {\n",
       "    \n",
       "  var docs_json = {\"d755cd8c-3905-4bd2-bf2e-2b01c59482fc\":{\"roots\":{\"references\":[{\"attributes\":{\"callback\":null,\"column_names\":[\"x\",\"y\"],\"data\":{\"x\":{\"__ndarray__\":\"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\",\"dtype\":\"float64\",\"shape\":[1340]},\"y\":[-5,-1,0,0,-2,0,0,0,0,-1,0,1,0,-1,0,0,0,-2,-1,0,1,0,2,0,-2,0,0,0,0,-1,1,2,0,-1,1,-1,0,0,0,0,-1,-1,-1,0,0,0,0,0,-1,0,-1,-1,0,-2,0,-1,0,0,-1,-1,-1,0,-1,1,0,-2,-1,0,-1,0,0,0,0,-2,-1,-1,-1,0,-1,1,-3,0,-1,0,1,-1,0,-1,0,-1,1,-1,-2,0,1,-1,-1,1,0,1,-1,-1,-2,0,0,0,-1,1,0,-1,-1,-1,-2,0,0,0,-1,0,-1,0,-1,-1,1,0,1,-2,0,1,0,-1,-1,0,1,1,0,0,-1,-1,1,-1,-1,1,-1,0,-2,0,1,0,2,0,-1,-2,1,-1,-2,1,-1,0,1,0,-2,0,-1,-1,-3,0,-1,0,-1,-1,1,-1,-1,0,0,0,-1,-1,2,1,-1,-2,-3,-2,-1,-1,0,0,-1,0,0,-2,-1,-1,-1,0,0,-2,0,0,0,-2,-1,-2,-1,1,0,0,0,0,1,0,-1,1,1,0,-1,1,-1,1,-2,1,0,-1,0,0,-1,0,0,-1,-1,-1,0,0,1,0,0,-1,0,0,-1,-1,0,0,0,-2,0,-1,1,-1,2,-2,-2,0,-1,-1,0,-2,-1,-2,-2,0,1,0,-1,0,0,0,0,2,-1,0,1,-1,-1,-1,0,-1,0,-1,0,0,0,-2,-2,-1,0,0,0,-1,-1,0,-2,-2,0,-1,0,1,0,0,-2,0,0,0,-2,-1,-1,-1,-1,0,0,-2,-1,0,-2,-1,1,-1,0,-1,0,-1,-3,-1,-1,-1,1,0,-1,-2,-2,1,0,-1,0,-1,-2,0,-2,0,-2,0,0,0,0,-1,-2,2,1,1,0,1,0,1,6,6,8,8,8,12,12,13,14,13,13,9,9,6,6,3,2,2,1,3,3,2,2,4,2,5,4,2,2,4,2,3,3,1,4,2,6,3,3,4,2,5,4,7,6,5,4,3,5,6,4,6,4,6,7,6,7,7,5,8,8,9,7,10,11,11,10,11,16,18,17,19,29,29,27,32,45,40,56,53,62,71,83,99,135,135,149,191,197,228,254,254,256,283,293,274,274,264,244,241,228,219,188,173,176,153,143,116,113,104,83,71,77,57,60,56,47,43,42,35,35,33,26,34,33,30,25,27,23,24,26,31,28,23,24,28,32,30,33,27,31,35,36,42,35,33,34,43,43,44,45,40,44,46,35,46,43,49,52,53,54,50,52,48,54,51,49,62,60,56,61,64,66,78,81,73,88,95,108,122,128,140,163,202,229,261,345,402,486,600,715,864,1146,1268,1287,1341,1383,1577,1580,1436,1345,1442,1281,1113,1046,1028,1007,953,790,823,816,730,590,515,443,374,337,285,261,225,215,202,185,155,145,141,136,136,114,106,109,106,107,98,97,101,95,99,91,98,95,102,91,84,98,93,92,98,100,90,91,85,75,81,66,63,59,56,59,53,47,39,45,36,46,40,35,39,36,33,29,34,34,32,30,35,52,52,54,46,60,68,81,81,86,89,114,119,100,98,94,91,99,87,93,81,75,74,69,72,68,68,76,60,58,52,53,46,39,40,36,31,32,33,23,33,26,25,27,19,23,22,23,26,21,20,21,23,21,24,18,22,20,24,22,15,22,18,20,24,18,21,26,21,22,19,17,19,17,17,15,18,19,18,16,19,14,17,15,16,13,14,16,14,15,14,12,8,12,12,13,7,10,11,9,8,9,10,8,10,10,8,9,8,6,5,10,5,7,7,3,6,5,5,8,6,5,3,4,4,5,4,6,8,6,4,8,5,9,5,5,4,4,3,6,5,4,4,6,3,5,1,5,1,4,3,3,2,3,0,3,0,5,4,2,2,5,3,4,1,1,3,2,3,1,3,2,2,3,2,4,3,1,5,3,2,0,2,1,1,1,1,2,3,2,2,2,2,1,0,1,2,-1,2,3,1,1,2,2,1,2,3,-1,1,0,1,1,0,3,-1,2,3,0,2,-1,1,2,1,0,2,1,1,3,1,0,1,1,3,1,1,2,1,-1,1,1,3,2,0,1,0,1,1,0,4,1,0,0,-1,-1,2,1,2,0,0,0,1,1,0,0,-1,1,1,1,2,2,1,-2,0,2,2,0,0,3,0,1,0,0,1,1,1,2,1,0,2,0,3,1,1,0,0,-2,0,-2,2,3,0,1,-1,1,1,0,1,0,0,1,0,1,1,1,-1,2,0,2,0,-1,1,1,0,2,2,1,1,2,1,1,0,0,1,2,0,1,0,-1,1,1,2,2,2,1,2,2,1,1,2,0,1,0,1,1,2,-2,0,1,3,1,1,3,1,-1,-1,1,1,1,-1,2,0,0,0,0,1,0,1,1,-1,0,1,0,2,0,1,0,0,1,2,2,0,2,0,3,2,2,0,0,2,-1,0,1,3,2,1,1,1,0,3,2,3,-1,2,2,1,0,3,3,2,3,0,0,1,1,2,2,2,2,2,1,2,2,1,3,2,0,0,1,2,3,4,2,1,2,2,2,3,2,1,1,4,2,2,2,0,2,2,1,-2,3,2,1,1,3,0,2,0,1,2,3,2,1,2,3,2,4,3,0,2,1,4,1,0,2,2,2,1,4,4,1,3,1,4,3,2,1,2,2,3,1,3,1,3,2,2,1,3,2,3,3,2,4,2,5,2,0,3,0,2,3,1,5,0,2,2,3,3,0,2,0,2,2,1,4,4,4,4,2,5,2,3,3,3,2,4,2,4,0,5,3,2,3,3,5,3,5,4,3,6,1,3,1,2,2,1,3,2,1,4,2,3,4,4,2,4,2,1,3,3,3,5,2,7,5,5,4,5,3,4,3,5,5,6,4,5,1,3,3,4,8,5,3,4,2,3,2,3,4,2,3,3,3,4,3,4,6,4,5,3,6,3,7,0,5,2,3,6,3,3,6,4,3,2,5,3,6,2,5,3,7,4,3,3,5,5,5,6,4,6,6,2,7,3,3,5,4,5,7,4,6,3,5,5,4,4,4,5,3,5,4,4,5,10,6,7,6,6,3,2,4,6,2,4,4,3,3,2,8,3,7,5,6,3,5,2,5,4,7,6,6,4,9,6,5,4,5,3,5,7,4,5]}},\"id\":\"b30cd0a5-5dfc-464d-8e12-767346ba0dcb\",\"type\":\"ColumnDataSource\"},{\"attributes\":{\"line_alpha\":0.1,\"line_color\":\"#1f77b4\",\"x\":{\"field\":\"x\"},\"y\":{\"field\":\"y\"}},\"id\":\"c5c388c2-c757-4590-992d-310885cd534b\",\"type\":\"Line\"},{\"attributes\":{\"callback\":null},\"id\":\"41bcb5c9-fa6b-433c-a6fe-adc4992d0240\",\"type\":\"DataRange1d\"},{\"attributes\":{\"bottom_units\":\"screen\",\"fill_alpha\":{\"value\":0.5},\"fill_color\":{\"value\":\"lightgrey\"},\"left_units\":\"screen\",\"level\":\"overlay\",\"line_alpha\":{\"value\":1.0},\"line_color\":{\"value\":\"black\"},\"line_dash\":[4,4],\"line_width\":{\"value\":2},\"plot\":null,\"render_mode\":\"css\",\"right_units\":\"screen\",\"top_units\":\"screen\"},\"id\":\"ac2f9dd7-a3d4-4af1-a468-bc0f9bc3bacc\",\"type\":\"BoxAnnotation\"},{\"attributes\":{\"plot\":{\"id\":\"9ee0975d-3b4d-43fe-b06c-b6a742690ac6\",\"subtype\":\"Figure\",\"type\":\"Plot\"},\"ticker\":{\"id\":\"d21f9791-b9fe-42c6-a51a-ffcb42d8842e\",\"type\":\"BasicTicker\"}},\"id\":\"875ab073-8fce-4753-8de0-4c76885c0e41\",\"type\":\"Grid\"},{\"attributes\":{\"data_source\":{\"id\":\"b30cd0a5-5dfc-464d-8e12-767346ba0dcb\",\"type\":\"ColumnDataSource\"},\"glyph\":{\"id\":\"f635aa13-5616-44de-8c6f-5f630e2520bf\",\"type\":\"Line\"},\"hover_glyph\":null,\"muted_glyph\":null,\"nonselection_glyph\":{\"id\":\"c5c388c2-c757-4590-992d-310885cd534b\",\"type\":\"Line\"},\"selection_glyph\":null,\"view\":{\"id\":\"51a2a593-6c81-4a5e-b12f-84bd373275eb\",\"type\":\"CDSView\"}},\"id\":\"66123551-b445-462d-bd35-2c1c1865b10b\",\"type\":\"GlyphRenderer\"},{\"attributes\":{},\"id\":\"70f84ec2-4fbf-447c-9622-cca58af76630\",\"type\":\"PanTool\"},{\"attributes\":{\"below\":[{\"id\":\"f92986a3-bfee-45d8-af8d-3f1297418e59\",\"type\":\"LinearAxis\"}],\"left\":[{\"id\":\"7590a4f8-df4e-431a-a30c-2fc05db6e2fb\",\"type\":\"LinearAxis\"}],\"renderers\":[{\"id\":\"f92986a3-bfee-45d8-af8d-3f1297418e59\",\"type\":\"LinearAxis\"},{\"id\":\"875ab073-8fce-4753-8de0-4c76885c0e41\",\"type\":\"Grid\"},{\"id\":\"7590a4f8-df4e-431a-a30c-2fc05db6e2fb\",\"type\":\"LinearAxis\"},{\"id\":\"a51ac287-5350-4d92-bf5b-6abceca7bd6f\",\"type\":\"Grid\"},{\"id\":\"ac2f9dd7-a3d4-4af1-a468-bc0f9bc3bacc\",\"type\":\"BoxAnnotation\"},{\"id\":\"66123551-b445-462d-bd35-2c1c1865b10b\",\"type\":\"GlyphRenderer\"}],\"title\":{\"id\":\"f794a462-da57-4ec2-b697-28cdca2a9aa8\",\"type\":\"Title\"},\"toolbar\":{\"id\":\"c2c3cefd-ef08-4c05-af5c-6697bfe6c348\",\"type\":\"Toolbar\"},\"x_range\":{\"id\":\"41bcb5c9-fa6b-433c-a6fe-adc4992d0240\",\"type\":\"DataRange1d\"},\"x_scale\":{\"id\":\"fbbb69f5-5051-46c9-b4eb-5dd953063f05\",\"type\":\"LinearScale\"},\"y_range\":{\"id\":\"d8d7f4e5-b1a0-467b-bf64-6b46d2433d4d\",\"type\":\"DataRange1d\"},\"y_scale\":{\"id\":\"a3e418d4-1346-40ea-8455-e6430cb6ab71\",\"type\":\"LinearScale\"}},\"id\":\"9ee0975d-3b4d-43fe-b06c-b6a742690ac6\",\"subtype\":\"Figure\",\"type\":\"Plot\"},{\"attributes\":{},\"id\":\"2efe13f0-d0da-4de2-963d-4f8b2b311178\",\"type\":\"WheelZoomTool\"},{\"attributes\":{\"dimension\":1,\"plot\":{\"id\":\"9ee0975d-3b4d-43fe-b06c-b6a742690ac6\",\"subtype\":\"Figure\",\"type\":\"Plot\"},\"ticker\":{\"id\":\"fec3c8e6-2b9c-4fa9-8bac-163d55bf67d8\",\"type\":\"BasicTicker\"}},\"id\":\"a51ac287-5350-4d92-bf5b-6abceca7bd6f\",\"type\":\"Grid\"},{\"attributes\":{\"overlay\":{\"id\":\"ac2f9dd7-a3d4-4af1-a468-bc0f9bc3bacc\",\"type\":\"BoxAnnotation\"}},\"id\":\"5acb7291-59a2-4154-8258-8994e7c30e36\",\"type\":\"BoxZoomTool\"},{\"attributes\":{\"plot\":null,\"text\":\"\"},\"id\":\"f794a462-da57-4ec2-b697-28cdca2a9aa8\",\"type\":\"Title\"},{\"attributes\":{},\"id\":\"bf2f882a-79ab-4de0-b1e7-25c09fe6f1f6\",\"type\":\"SaveTool\"},{\"attributes\":{},\"id\":\"5b7af2ed-2c8f-4ef0-bf51-54175621ddac\",\"type\":\"ResetTool\"},{\"attributes\":{},\"id\":\"d21f9791-b9fe-42c6-a51a-ffcb42d8842e\",\"type\":\"BasicTicker\"},{\"attributes\":{\"active_drag\":\"auto\",\"active_inspect\":\"auto\",\"active_scroll\":\"auto\",\"active_tap\":\"auto\",\"tools\":[{\"id\":\"70f84ec2-4fbf-447c-9622-cca58af76630\",\"type\":\"PanTool\"},{\"id\":\"2efe13f0-d0da-4de2-963d-4f8b2b311178\",\"type\":\"WheelZoomTool\"},{\"id\":\"5acb7291-59a2-4154-8258-8994e7c30e36\",\"type\":\"BoxZoomTool\"},{\"id\":\"bf2f882a-79ab-4de0-b1e7-25c09fe6f1f6\",\"type\":\"SaveTool\"},{\"id\":\"5b7af2ed-2c8f-4ef0-bf51-54175621ddac\",\"type\":\"ResetTool\"},{\"id\":\"dba96908-26d1-4294-aafd-9a84286a4902\",\"type\":\"HelpTool\"}]},\"id\":\"c2c3cefd-ef08-4c05-af5c-6697bfe6c348\",\"type\":\"Toolbar\"},{\"attributes\":{},\"id\":\"dba96908-26d1-4294-aafd-9a84286a4902\",\"type\":\"HelpTool\"},{\"attributes\":{},\"id\":\"cd599d7d-4bee-4437-977f-29cd1d92dba1\",\"type\":\"BasicTickFormatter\"},{\"attributes\":{\"formatter\":{\"id\":\"cd599d7d-4bee-4437-977f-29cd1d92dba1\",\"type\":\"BasicTickFormatter\"},\"plot\":{\"id\":\"9ee0975d-3b4d-43fe-b06c-b6a742690ac6\",\"subtype\":\"Figure\",\"type\":\"Plot\"},\"ticker\":{\"id\":\"d21f9791-b9fe-42c6-a51a-ffcb42d8842e\",\"type\":\"BasicTicker\"}},\"id\":\"f92986a3-bfee-45d8-af8d-3f1297418e59\",\"type\":\"LinearAxis\"},{\"attributes\":{\"line_color\":\"#1f77b4\",\"x\":{\"field\":\"x\"},\"y\":{\"field\":\"y\"}},\"id\":\"f635aa13-5616-44de-8c6f-5f630e2520bf\",\"type\":\"Line\"},{\"attributes\":{},\"id\":\"fbbb69f5-5051-46c9-b4eb-5dd953063f05\",\"type\":\"LinearScale\"},{\"attributes\":{\"source\":{\"id\":\"b30cd0a5-5dfc-464d-8e12-767346ba0dcb\",\"type\":\"ColumnDataSource\"}},\"id\":\"51a2a593-6c81-4a5e-b12f-84bd373275eb\",\"type\":\"CDSView\"},{\"attributes\":{},\"id\":\"ff729d6b-bfed-451d-8ef2-6f111747f5a9\",\"type\":\"BasicTickFormatter\"},{\"attributes\":{},\"id\":\"a3e418d4-1346-40ea-8455-e6430cb6ab71\",\"type\":\"LinearScale\"},{\"attributes\":{},\"id\":\"fec3c8e6-2b9c-4fa9-8bac-163d55bf67d8\",\"type\":\"BasicTicker\"},{\"attributes\":{\"formatter\":{\"id\":\"ff729d6b-bfed-451d-8ef2-6f111747f5a9\",\"type\":\"BasicTickFormatter\"},\"plot\":{\"id\":\"9ee0975d-3b4d-43fe-b06c-b6a742690ac6\",\"subtype\":\"Figure\",\"type\":\"Plot\"},\"ticker\":{\"id\":\"fec3c8e6-2b9c-4fa9-8bac-163d55bf67d8\",\"type\":\"BasicTicker\"}},\"id\":\"7590a4f8-df4e-431a-a30c-2fc05db6e2fb\",\"type\":\"LinearAxis\"},{\"attributes\":{\"callback\":null},\"id\":\"d8d7f4e5-b1a0-467b-bf64-6b46d2433d4d\",\"type\":\"DataRange1d\"}],\"root_ids\":[\"9ee0975d-3b4d-43fe-b06c-b6a742690ac6\"]},\"title\":\"Bokeh Application\",\"version\":\"0.12.14\"}};\n",
       "  var render_items = [{\"docid\":\"d755cd8c-3905-4bd2-bf2e-2b01c59482fc\",\"elementid\":\"d60bdb45-77de-405c-8d82-d9a24601e44d\",\"modelid\":\"9ee0975d-3b4d-43fe-b06c-b6a742690ac6\"}];\n",
       "  root.Bokeh.embed.embed_items_notebook(docs_json, render_items);\n",
       "\n",
       "  }\n",
       "  if (root.Bokeh !== undefined) {\n",
       "    embed_document(root);\n",
       "  } else {\n",
       "    var attempts = 0;\n",
       "    var timer = setInterval(function(root) {\n",
       "      if (root.Bokeh !== undefined) {\n",
       "        embed_document(root);\n",
       "        clearInterval(timer);\n",
       "      }\n",
       "      attempts++;\n",
       "      if (attempts > 100) {\n",
       "        console.log(\"Bokeh: ERROR: Unable to run BokehJS code because BokehJS library is missing\")\n",
       "        clearInterval(timer);\n",
       "      }\n",
       "    }, 10, root)\n",
       "  }\n",
       "})(window);"
      ],
      "application/vnd.bokehjs_exec.v0+json": ""
     },
     "metadata": {
      "application/vnd.bokehjs_exec.v0+json": {
       "id": "9ee0975d-3b4d-43fe-b06c-b6a742690ac6"
      }
     },
     "output_type": "display_data"
    }
   ],
   "source": [
    "p = figure()\n",
    "p.line(calibration, spec)\n",
    "show(p)"
   ]
  },
  {
   "cell_type": "code",
   "execution_count": 37,
   "metadata": {},
   "outputs": [],
   "source": [
    "def lorentz(x, x_n, G):\n",
    "    X = (x_n - x)/(G/2)\n",
    "    return 1/(1+X**2)"
   ]
  },
  {
   "cell_type": "code",
   "execution_count": 38,
   "metadata": {},
   "outputs": [],
   "source": [
    "a_min, a_max = 1.69, 1.72"
   ]
  },
  {
   "cell_type": "code",
   "execution_count": 43,
   "metadata": {},
   "outputs": [],
   "source": [
    "a_ex_slice = spec[np.logical_and(calibration>a_min, calibration<a_max)]/a_ex_slice.max()\n",
    "cal_a_ex = calibration[np.logical_and(calibration>a_min, calibration<a_max)]"
   ]
  },
  {
   "cell_type": "code",
   "execution_count": 46,
   "metadata": {},
   "outputs": [],
   "source": [
    "\n",
    "popt, pcov = curve_fit(lorentz, cal_a_ex, a_ex_slice, p0 = [1.71, 0.05])\n",
    "a, b = popt\n",
    "y = lorentz(calibration, a, b)"
   ]
  },
  {
   "cell_type": "code",
   "execution_count": 110,
   "metadata": {},
   "outputs": [],
   "source": [
    "def fit_a(data,\n",
    "          cal=calibration,\n",
    "          a_min=1.695,\n",
    "          a_max=1.72,\n",
    "          base_function=lorentz,\n",
    "          p0=[1.70, 0.05]):\n",
    "    data_slice = data[np.logical_and(cal>a_min, cal<a_max)]\n",
    "    data_slice = data_slice/data_slice.max()\n",
    "    cal_slice = cal[np.logical_and(cal>a_min, cal<a_max)]\n",
    "    popt, pcov = curve_fit(lorentz, cal_slice, data_slice, p0=p0)\n",
    "    return popt[0]  "
   ]
  },
  {
   "cell_type": "code",
   "execution_count": 139,
   "metadata": {},
   "outputs": [
    {
     "name": "stderr",
     "output_type": "stream",
     "text": [
      "/usr/local/lib/python3.6/dist-packages/ipykernel_launcher.py:3: RuntimeWarning: divide by zero encountered in true_divide\n",
      "  This is separate from the ipykernel package so we can avoid doing imports until\n"
     ]
    },
    {
     "data": {
      "text/plain": [
       "array([1.70593731, 1.70613772, 1.70624259, 1.70650409, 1.70673637,\n",
       "       1.70706786, 1.7072896 , 1.70777744, 1.70855424])"
      ]
     },
     "execution_count": 139,
     "metadata": {},
     "output_type": "execute_result"
    }
   ],
   "source": [
    "a_energies_sp = np.array([fit_a(field) for field in sweepVT_sigmap[:,23,:]])\n",
    "a_energies_sm = np.array([fit_a(field) for field in sweepVT_sigmam[:,23,:]])\n",
    "g_factors = (a_energies_sm - a_energies_sp)/(mu_b * np.arange(9))\n",
    "a_energies_sp"
   ]
  },
  {
   "cell_type": "code",
   "execution_count": 145,
   "metadata": {},
   "outputs": [
    {
     "name": "stdout",
     "output_type": "stream",
     "text": [
      "8.480355743420247e-05\n"
     ]
    },
    {
     "data": {
      "image/png": "[encoded data removed]",
      "text/plain": [
       "<matplotlib.figure.Figure at 0x7fe82e165048>"
      ]
     },
     "metadata": {},
     "output_type": "display_data"
    }
   ],
   "source": [
    "slope, intercept, r_value, p_value, std_err = stats.linregress(np.arange(9), a_energies_sm)\n",
    "teslas = np.arange(9)\n",
    "linear = slope * teslas + intercept\n",
    "plt.plot(teslas, a_energies_sm)\n",
    "plt.plot(mu_b * np.arange(9), linear)\n",
    "print(slope)\n",
    "#plt.plot(calibration, y)\n",
    "plt.show()"
   ]
  },
  {
   "cell_type": "code",
   "execution_count": 51,
   "metadata": {},
   "outputs": [
    {
     "data": {
      "text/plain": [
       "array([[-5, -1,  0, ...,  7,  4,  5],\n",
       "       [-3, -2,  2, ...,  2,  1,  5],\n",
       "       [-4, -1,  1, ...,  2,  3,  1],\n",
       "       ...,\n",
       "       [-3,  1,  2, ...,  3,  3,  2],\n",
       "       [-1, -1,  1, ...,  0,  1,  2],\n",
       "       [-3, -2,  1, ...,  0,  3,  0]])"
      ]
     },
     "execution_count": 51,
     "metadata": {},
     "output_type": "execute_result"
    }
   ],
   "source": [
    "sweepVT_sigmap[:,15,:]"
   ]
  },
  {
   "cell_type": "code",
   "execution_count": null,
   "metadata": {},
   "outputs": [],
   "source": []
  }
 ],
 "metadata": {
  "kernelspec": {
   "display_name": "Python 3",
   "language": "python",
   "name": "python3"
  },
  "language_info": {
   "codemirror_mode": {
    "name": "ipython",
    "version": 3
   },
   "file_extension": ".py",
   "mimetype": "text/x-python",
   "name": "python",
   "nbconvert_exporter": "python",
   "pygments_lexer": "ipython3",
   "version": "3.6.4+"
  }
 },
 "nbformat": 4,
 "nbformat_minor": 2
}
