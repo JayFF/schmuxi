{
 "cells": [
  {
   "cell_type": "code",
   "execution_count": 1,
   "metadata": {},
   "outputs": [],
   "source": [
    "import numpy as np\n",
    "import pandas as pd\n",
    "import matplotlib.pyplot as plt\n",
    "from scipy.optimize import curve_fit\n",
    "from glob import glob\n",
    "from bokeh.layouts import gridplot\n",
    "from bokeh.plotting import figure, show\n",
    "from bokeh.io import output_notebook\n",
    "from scipy import stats"
   ]
  },
  {
   "cell_type": "code",
   "execution_count": 2,
   "metadata": {},
   "outputs": [
    {
     "data": {
      "text/plain": [
       "5.7883818012e-05"
      ]
     },
     "execution_count": 2,
     "metadata": {},
     "output_type": "execute_result"
    }
   ],
   "source": [
    "mu_b = 5.7883818012 * 10**(-5)\n",
    "mu_b"
   ]
  },
  {
   "cell_type": "code",
   "execution_count": 3,
   "metadata": {},
   "outputs": [],
   "source": [
    "def last_23(list_arg):\n",
    "    return(list_arg[-23:])"
   ]
  },
  {
   "cell_type": "code",
   "execution_count": 4,
   "metadata": {},
   "outputs": [],
   "source": [
    "list_sweepVT = sorted(glob('*Voltage_Sweep.tsv.gz'))"
   ]
  },
  {
   "cell_type": "code",
   "execution_count": 5,
   "metadata": {},
   "outputs": [],
   "source": [
    "sweepVT_sp = sorted(list_sweepVT[6:], key=last_23)\n",
    "sweepVT_sm = sorted(list_sweepVT[:6], key=last_23)"
   ]
  },
  {
   "cell_type": "code",
   "execution_count": 6,
   "metadata": {},
   "outputs": [
    {
     "data": {
      "text/plain": [
       "['02_WSe2-671nm-4uW-10-+30V-20s_lin-exc_sigmap-det_67deg_-3T.Voltage_Sweep.tsv.gz',\n",
       " '02_WSe2-671nm-4uW-10-+30V-20s_lin-exc_sigmap-det_74,6deg_-4T.Voltage_Sweep.tsv.gz',\n",
       " '02_WSe2-671nm-4uW-10-+30V-20s_lin-exc_sigmap-det_82,2deg_-5T.Voltage_Sweep.tsv.gz',\n",
       " '02_WSe2-671nm-4uW-10-+30V-20s_lin-exc_sigmap-det_89,8deg_-6T.Voltage_Sweep.tsv.gz',\n",
       " '02_WSe2-671nm-4uW-10-+30V-20s_lin-exc_sigmap-det_97,4deg_-7T.Voltage_Sweep.tsv.gz',\n",
       " '02_WSe2-671nm-4uW-10-+30V-20s_lin-exc_sigmap-det_105deg_-8T.Voltage_Sweep.tsv.gz']"
      ]
     },
     "execution_count": 6,
     "metadata": {},
     "output_type": "execute_result"
    }
   ],
   "source": [
    "sorted(list_sweepVT[6:], key=last_23)"
   ]
  },
  {
   "cell_type": "code",
   "execution_count": 25,
   "metadata": {},
   "outputs": [
    {
     "data": {
      "text/plain": [
       "['02_WSe2-671nm-4uW-10-+30V-20s_lin-exc_sigmam-det_-23deg_-3T.Voltage_Sweep.tsv.gz',\n",
       " '02_WSe2-671nm-4uW-10-+30V-20s_lin-exc_sigmam-det_-15,4deg_-4T.Voltage_Sweep.tsv.gz',\n",
       " '02_WSe2-671nm-4uW-10-+30V-20s_lin-exc_sigmam-det_-7,8deg_-5T.Voltage_Sweep.tsv.gz',\n",
       " '02_WSe2-671nm-4uW-10-+30V-20s_lin-exc_sigmam-det_-0,2deg_-6T.Voltage_Sweep.tsv.gz',\n",
       " '02_WSe2-671nm-4uW-10-+30V-20s_lin-exc_sigmam-det_7,4deg_-7T.Voltage_Sweep.tsv.gz',\n",
       " '02_WSe2-671nm-4uW-10-+30V-20s_lin-exc_sigmam-det_15deg_-8T.Voltage_Sweep.tsv.gz']"
      ]
     },
     "execution_count": 25,
     "metadata": {},
     "output_type": "execute_result"
    }
   ],
   "source": [
    "sorted(list_sweepVT[:6], key=last_23)"
   ]
  },
  {
   "cell_type": "code",
   "execution_count": 7,
   "metadata": {},
   "outputs": [],
   "source": [
    "list_calibration = glob('*.wlen_to_px.tsv.gz')"
   ]
  },
  {
   "cell_type": "code",
   "execution_count": 8,
   "metadata": {},
   "outputs": [],
   "source": [
    "calibration = 1230.8 / (pd.read_csv(list_calibration[0], header=None).as_matrix().transpose())[0]"
   ]
  },
  {
   "cell_type": "code",
   "execution_count": 9,
   "metadata": {},
   "outputs": [],
   "source": [
    "sweepVT_sigmam = np.array([pd.read_csv(file, sep='\\t', header=None).as_matrix() for file in sweepVT_sp])\n",
    "sweepVT_sigmap = np.array([pd.read_csv(file, sep='\\t', header=None).as_matrix() for file in sweepVT_sm])"
   ]
  },
  {
   "cell_type": "code",
   "execution_count": 10,
   "metadata": {},
   "outputs": [
    {
     "data": {
      "text/plain": [
       "(6, 81, 1340)"
      ]
     },
     "execution_count": 10,
     "metadata": {},
     "output_type": "execute_result"
    }
   ],
   "source": [
    "np.shape(sweepVT_sigmam)\n"
   ]
  },
  {
   "cell_type": "code",
   "execution_count": 11,
   "metadata": {},
   "outputs": [
    {
     "data": {
      "text/plain": [
       "(6, 81, 1340)"
      ]
     },
     "execution_count": 11,
     "metadata": {},
     "output_type": "execute_result"
    }
   ],
   "source": [
    "np.shape(sweepVT_sigmap)"
   ]
  },
  {
   "cell_type": "code",
   "execution_count": 12,
   "metadata": {},
   "outputs": [
    {
     "data": {
      "text/plain": [
       "(1340,)"
      ]
     },
     "execution_count": 12,
     "metadata": {},
     "output_type": "execute_result"
    }
   ],
   "source": [
    "np.shape(sweepVT_sigmap[0,0,:])"
   ]
  },
  {
   "cell_type": "code",
   "execution_count": 13,
   "metadata": {},
   "outputs": [
    {
     "data": {
      "text/plain": [
       "array([1.85623947, 1.85587281, 1.85550909, ..., 1.47222415, 1.47199701,\n",
       "       1.47177171])"
      ]
     },
     "execution_count": 13,
     "metadata": {},
     "output_type": "execute_result"
    }
   ],
   "source": [
    "spec = sweepVT_sigmap[0,15,:]\n",
    "calibration"
   ]
  },
  {
   "cell_type": "code",
   "execution_count": 14,
   "metadata": {},
   "outputs": [
    {
     "data": {
      "text/html": [
       "\n",
       "    <div class=\"bk-root\">\n",
       "        <a href=\"https://bokeh.pydata.org\" target=\"_blank\" class=\"bk-logo bk-logo-small bk-logo-notebook\"></a>\n",
       "        <span id=\"50ad2312-e403-483f-b799-52e7629c2dfb\">Loading BokehJS ...</span>\n",
       "    </div>"
      ]
     },
     "metadata": {},
     "output_type": "display_data"
    },
    {
     "data": {
      "application/javascript": [
       "\n",
       "(function(root) {\n",
       "  function now() {\n",
       "    return new Date();\n",
       "  }\n",
       "\n",
       "  var force = true;\n",
       "\n",
       "  if (typeof (root._bokeh_onload_callbacks) === \"undefined\" || force === true) {\n",
       "    root._bokeh_onload_callbacks = [];\n",
       "    root._bokeh_is_loading = undefined;\n",
       "  }\n",
       "\n",
       "  var JS_MIME_TYPE = 'application/javascript';\n",
       "  var HTML_MIME_TYPE = 'text/html';\n",
       "  var EXEC_MIME_TYPE = 'application/vnd.bokehjs_exec.v0+json';\n",
       "  var CLASS_NAME = 'output_bokeh rendered_html';\n",
       "\n",
       "  /**\n",
       "   * Render data to the DOM node\n",
       "   */\n",
       "  function render(props, node) {\n",
       "    var script = document.createElement(\"script\");\n",
       "    node.appendChild(script);\n",
       "  }\n",
       "\n",
       "  /**\n",
       "   * Handle when an output is cleared or removed\n",
       "   */\n",
       "  function handleClearOutput(event, handle) {\n",
       "    var cell = handle.cell;\n",
       "\n",
       "    var id = cell.output_area._bokeh_element_id;\n",
       "    var server_id = cell.output_area._bokeh_server_id;\n",
       "    // Clean up Bokeh references\n",
       "    if (id !== undefined) {\n",
       "      Bokeh.index[id].model.document.clear();\n",
       "      delete Bokeh.index[id];\n",
       "    }\n",
       "\n",
       "    if (server_id !== undefined) {\n",
       "      // Clean up Bokeh references\n",
       "      var cmd = \"from bokeh.io.state import curstate; print(curstate().uuid_to_server['\" + server_id + \"'].get_sessions()[0].document.roots[0]._id)\";\n",
       "      cell.notebook.kernel.execute(cmd, {\n",
       "        iopub: {\n",
       "          output: function(msg) {\n",
       "            var element_id = msg.content.text.trim();\n",
       "            Bokeh.index[element_id].model.document.clear();\n",
       "            delete Bokeh.index[element_id];\n",
       "          }\n",
       "        }\n",
       "      });\n",
       "      // Destroy server and session\n",
       "      var cmd = \"import bokeh.io.notebook as ion; ion.destroy_server('\" + server_id + \"')\";\n",
       "      cell.notebook.kernel.execute(cmd);\n",
       "    }\n",
       "  }\n",
       "\n",
       "  /**\n",
       "   * Handle when a new output is added\n",
       "   */\n",
       "  function handleAddOutput(event, handle) {\n",
       "    var output_area = handle.output_area;\n",
       "    var output = handle.output;\n",
       "\n",
       "    // limit handleAddOutput to display_data with EXEC_MIME_TYPE content only\n",
       "    if ((output.output_type != \"display_data\") || (!output.data.hasOwnProperty(EXEC_MIME_TYPE))) {\n",
       "      return\n",
       "    }\n",
       "\n",
       "    var toinsert = output_area.element.find(\".\" + CLASS_NAME.split(' ')[0]);\n",
       "\n",
       "    if (output.metadata[EXEC_MIME_TYPE][\"id\"] !== undefined) {\n",
       "      toinsert[0].firstChild.textContent = output.data[JS_MIME_TYPE];\n",
       "      // store reference to embed id on output_area\n",
       "      output_area._bokeh_element_id = output.metadata[EXEC_MIME_TYPE][\"id\"];\n",
       "    }\n",
       "    if (output.metadata[EXEC_MIME_TYPE][\"server_id\"] !== undefined) {\n",
       "      var bk_div = document.createElement(\"div\");\n",
       "      bk_div.innerHTML = output.data[HTML_MIME_TYPE];\n",
       "      var script_attrs = bk_div.children[0].attributes;\n",
       "      for (var i = 0; i < script_attrs.length; i++) {\n",
       "        toinsert[0].firstChild.setAttribute(script_attrs[i].name, script_attrs[i].value);\n",
       "      }\n",
       "      // store reference to server id on output_area\n",
       "      output_area._bokeh_server_id = output.metadata[EXEC_MIME_TYPE][\"server_id\"];\n",
       "    }\n",
       "  }\n",
       "\n",
       "  function register_renderer(events, OutputArea) {\n",
       "\n",
       "    function append_mime(data, metadata, element) {\n",
       "      // create a DOM node to render to\n",
       "      var toinsert = this.create_output_subarea(\n",
       "        metadata,\n",
       "        CLASS_NAME,\n",
       "        EXEC_MIME_TYPE\n",
       "      );\n",
       "      this.keyboard_manager.register_events(toinsert);\n",
       "      // Render to node\n",
       "      var props = {data: data, metadata: metadata[EXEC_MIME_TYPE]};\n",
       "      render(props, toinsert[0]);\n",
       "      element.append(toinsert);\n",
       "      return toinsert\n",
       "    }\n",
       "\n",
       "    /* Handle when an output is cleared or removed */\n",
       "    events.on('clear_output.CodeCell', handleClearOutput);\n",
       "    events.on('delete.Cell', handleClearOutput);\n",
       "\n",
       "    /* Handle when a new output is added */\n",
       "    events.on('output_added.OutputArea', handleAddOutput);\n",
       "\n",
       "    /**\n",
       "     * Register the mime type and append_mime function with output_area\n",
       "     */\n",
       "    OutputArea.prototype.register_mime_type(EXEC_MIME_TYPE, append_mime, {\n",
       "      /* Is output safe? */\n",
       "      safe: true,\n",
       "      /* Index of renderer in `output_area.display_order` */\n",
       "      index: 0\n",
       "    });\n",
       "  }\n",
       "\n",
       "  // register the mime type if in Jupyter Notebook environment and previously unregistered\n",
       "  if (root.Jupyter !== undefined) {\n",
       "    var events = require('base/js/events');\n",
       "    var OutputArea = require('notebook/js/outputarea').OutputArea;\n",
       "\n",
       "    if (OutputArea.prototype.mime_types().indexOf(EXEC_MIME_TYPE) == -1) {\n",
       "      register_renderer(events, OutputArea);\n",
       "    }\n",
       "  }\n",
       "\n",
       "  \n",
       "  if (typeof (root._bokeh_timeout) === \"undefined\" || force === true) {\n",
       "    root._bokeh_timeout = Date.now() + 5000;\n",
       "    root._bokeh_failed_load = false;\n",
       "  }\n",
       "\n",
       "  var NB_LOAD_WARNING = {'data': {'text/html':\n",
       "     \"<div style='background-color: #fdd'>\\n\"+\n",
       "     \"<p>\\n\"+\n",
       "     \"BokehJS does not appear to have successfully loaded. If loading BokehJS from CDN, this \\n\"+\n",
       "     \"may be due to a slow or bad network connection. Possible fixes:\\n\"+\n",
       "     \"</p>\\n\"+\n",
       "     \"<ul>\\n\"+\n",
       "     \"<li>re-rerun `output_notebook()` to attempt to load from CDN again, or</li>\\n\"+\n",
       "     \"<li>use INLINE resources instead, as so:</li>\\n\"+\n",
       "     \"</ul>\\n\"+\n",
       "     \"<code>\\n\"+\n",
       "     \"from bokeh.resources import INLINE\\n\"+\n",
       "     \"output_notebook(resources=INLINE)\\n\"+\n",
       "     \"</code>\\n\"+\n",
       "     \"</div>\"}};\n",
       "\n",
       "  function display_loaded() {\n",
       "    var el = document.getElementById(\"50ad2312-e403-483f-b799-52e7629c2dfb\");\n",
       "    if (el != null) {\n",
       "      el.textContent = \"BokehJS is loading...\";\n",
       "    }\n",
       "    if (root.Bokeh !== undefined) {\n",
       "      if (el != null) {\n",
       "        el.textContent = \"BokehJS \" + root.Bokeh.version + \" successfully loaded.\";\n",
       "      }\n",
       "    } else if (Date.now() < root._bokeh_timeout) {\n",
       "      setTimeout(display_loaded, 100)\n",
       "    }\n",
       "  }\n",
       "\n",
       "\n",
       "  function run_callbacks() {\n",
       "    try {\n",
       "      root._bokeh_onload_callbacks.forEach(function(callback) { callback() });\n",
       "    }\n",
       "    finally {\n",
       "      delete root._bokeh_onload_callbacks\n",
       "    }\n",
       "    console.info(\"Bokeh: all callbacks have finished\");\n",
       "  }\n",
       "\n",
       "  function load_libs(js_urls, callback) {\n",
       "    root._bokeh_onload_callbacks.push(callback);\n",
       "    if (root._bokeh_is_loading > 0) {\n",
       "      console.log(\"Bokeh: BokehJS is being loaded, scheduling callback at\", now());\n",
       "      return null;\n",
       "    }\n",
       "    if (js_urls == null || js_urls.length === 0) {\n",
       "      run_callbacks();\n",
       "      return null;\n",
       "    }\n",
       "    console.log(\"Bokeh: BokehJS not loaded, scheduling load and callback at\", now());\n",
       "    root._bokeh_is_loading = js_urls.length;\n",
       "    for (var i = 0; i < js_urls.length; i++) {\n",
       "      var url = js_urls[i];\n",
       "      var s = document.createElement('script');\n",
       "      s.src = url;\n",
       "      s.async = false;\n",
       "      s.onreadystatechange = s.onload = function() {\n",
       "        root._bokeh_is_loading--;\n",
       "        if (root._bokeh_is_loading === 0) {\n",
       "          console.log(\"Bokeh: all BokehJS libraries loaded\");\n",
       "          run_callbacks()\n",
       "        }\n",
       "      };\n",
       "      s.onerror = function() {\n",
       "        console.warn(\"failed to load library \" + url);\n",
       "      };\n",
       "      console.log(\"Bokeh: injecting script tag for BokehJS library: \", url);\n",
       "      document.getElementsByTagName(\"head\")[0].appendChild(s);\n",
       "    }\n",
       "  };var element = document.getElementById(\"50ad2312-e403-483f-b799-52e7629c2dfb\");\n",
       "  if (element == null) {\n",
       "    console.log(\"Bokeh: ERROR: autoload.js configured with elementid '50ad2312-e403-483f-b799-52e7629c2dfb' but no matching script tag was found. \")\n",
       "    return false;\n",
       "  }\n",
       "\n",
       "  var js_urls = [\"https://cdn.pydata.org/bokeh/release/bokeh-0.12.14.min.js\", \"https://cdn.pydata.org/bokeh/release/bokeh-widgets-0.12.14.min.js\", \"https://cdn.pydata.org/bokeh/release/bokeh-tables-0.12.14.min.js\", \"https://cdn.pydata.org/bokeh/release/bokeh-gl-0.12.14.min.js\"];\n",
       "\n",
       "  var inline_js = [\n",
       "    function(Bokeh) {\n",
       "      Bokeh.set_log_level(\"info\");\n",
       "    },\n",
       "    \n",
       "    function(Bokeh) {\n",
       "      \n",
       "    },\n",
       "    function(Bokeh) {\n",
       "      console.log(\"Bokeh: injecting CSS: https://cdn.pydata.org/bokeh/release/bokeh-0.12.14.min.css\");\n",
       "      Bokeh.embed.inject_css(\"https://cdn.pydata.org/bokeh/release/bokeh-0.12.14.min.css\");\n",
       "      console.log(\"Bokeh: injecting CSS: https://cdn.pydata.org/bokeh/release/bokeh-widgets-0.12.14.min.css\");\n",
       "      Bokeh.embed.inject_css(\"https://cdn.pydata.org/bokeh/release/bokeh-widgets-0.12.14.min.css\");\n",
       "      console.log(\"Bokeh: injecting CSS: https://cdn.pydata.org/bokeh/release/bokeh-tables-0.12.14.min.css\");\n",
       "      Bokeh.embed.inject_css(\"https://cdn.pydata.org/bokeh/release/bokeh-tables-0.12.14.min.css\");\n",
       "    }\n",
       "  ];\n",
       "\n",
       "  function run_inline_js() {\n",
       "    \n",
       "    if ((root.Bokeh !== undefined) || (force === true)) {\n",
       "      for (var i = 0; i < inline_js.length; i++) {\n",
       "        inline_js[i].call(root, root.Bokeh);\n",
       "      }if (force === true) {\n",
       "        display_loaded();\n",
       "      }} else if (Date.now() < root._bokeh_timeout) {\n",
       "      setTimeout(run_inline_js, 100);\n",
       "    } else if (!root._bokeh_failed_load) {\n",
       "      console.log(\"Bokeh: BokehJS failed to load within specified timeout.\");\n",
       "      root._bokeh_failed_load = true;\n",
       "    } else if (force !== true) {\n",
       "      var cell = $(document.getElementById(\"50ad2312-e403-483f-b799-52e7629c2dfb\")).parents('.cell').data().cell;\n",
       "      cell.output_area.append_execute_result(NB_LOAD_WARNING)\n",
       "    }\n",
       "\n",
       "  }\n",
       "\n",
       "  if (root._bokeh_is_loading === 0) {\n",
       "    console.log(\"Bokeh: BokehJS loaded, going straight to plotting\");\n",
       "    run_inline_js();\n",
       "  } else {\n",
       "    load_libs(js_urls, function() {\n",
       "      console.log(\"Bokeh: BokehJS plotting callback run at\", now());\n",
       "      run_inline_js();\n",
       "    });\n",
       "  }\n",
       "}(window));"
      ],
      "application/vnd.bokehjs_load.v0+json": "\n(function(root) {\n  function now() {\n    return new Date();\n  }\n\n  var force = true;\n\n  if (typeof (root._bokeh_onload_callbacks) === \"undefined\" || force === true) {\n    root._bokeh_onload_callbacks = [];\n    root._bokeh_is_loading = undefined;\n  }\n\n  \n\n  \n  if (typeof (root._bokeh_timeout) === \"undefined\" || force === true) {\n    root._bokeh_timeout = Date.now() + 5000;\n    root._bokeh_failed_load = false;\n  }\n\n  var NB_LOAD_WARNING = {'data': {'text/html':\n     \"<div style='background-color: #fdd'>\\n\"+\n     \"<p>\\n\"+\n     \"BokehJS does not appear to have successfully loaded. If loading BokehJS from CDN, this \\n\"+\n     \"may be due to a slow or bad network connection. Possible fixes:\\n\"+\n     \"</p>\\n\"+\n     \"<ul>\\n\"+\n     \"<li>re-rerun `output_notebook()` to attempt to load from CDN again, or</li>\\n\"+\n     \"<li>use INLINE resources instead, as so:</li>\\n\"+\n     \"</ul>\\n\"+\n     \"<code>\\n\"+\n     \"from bokeh.resources import INLINE\\n\"+\n     \"output_notebook(resources=INLINE)\\n\"+\n     \"</code>\\n\"+\n     \"</div>\"}};\n\n  function display_loaded() {\n    var el = document.getElementById(\"50ad2312-e403-483f-b799-52e7629c2dfb\");\n    if (el != null) {\n      el.textContent = \"BokehJS is loading...\";\n    }\n    if (root.Bokeh !== undefined) {\n      if (el != null) {\n        el.textContent = \"BokehJS \" + root.Bokeh.version + \" successfully loaded.\";\n      }\n    } else if (Date.now() < root._bokeh_timeout) {\n      setTimeout(display_loaded, 100)\n    }\n  }\n\n\n  function run_callbacks() {\n    try {\n      root._bokeh_onload_callbacks.forEach(function(callback) { callback() });\n    }\n    finally {\n      delete root._bokeh_onload_callbacks\n    }\n    console.info(\"Bokeh: all callbacks have finished\");\n  }\n\n  function load_libs(js_urls, callback) {\n    root._bokeh_onload_callbacks.push(callback);\n    if (root._bokeh_is_loading > 0) {\n      console.log(\"Bokeh: BokehJS is being loaded, scheduling callback at\", now());\n      return null;\n    }\n    if (js_urls == null || js_urls.length === 0) {\n      run_callbacks();\n      return null;\n    }\n    console.log(\"Bokeh: BokehJS not loaded, scheduling load and callback at\", now());\n    root._bokeh_is_loading = js_urls.length;\n    for (var i = 0; i < js_urls.length; i++) {\n      var url = js_urls[i];\n      var s = document.createElement('script');\n      s.src = url;\n      s.async = false;\n      s.onreadystatechange = s.onload = function() {\n        root._bokeh_is_loading--;\n        if (root._bokeh_is_loading === 0) {\n          console.log(\"Bokeh: all BokehJS libraries loaded\");\n          run_callbacks()\n        }\n      };\n      s.onerror = function() {\n        console.warn(\"failed to load library \" + url);\n      };\n      console.log(\"Bokeh: injecting script tag for BokehJS library: \", url);\n      document.getElementsByTagName(\"head\")[0].appendChild(s);\n    }\n  };var element = document.getElementById(\"50ad2312-e403-483f-b799-52e7629c2dfb\");\n  if (element == null) {\n    console.log(\"Bokeh: ERROR: autoload.js configured with elementid '50ad2312-e403-483f-b799-52e7629c2dfb' but no matching script tag was found. \")\n    return false;\n  }\n\n  var js_urls = [\"https://cdn.pydata.org/bokeh/release/bokeh-0.12.14.min.js\", \"https://cdn.pydata.org/bokeh/release/bokeh-widgets-0.12.14.min.js\", \"https://cdn.pydata.org/bokeh/release/bokeh-tables-0.12.14.min.js\", \"https://cdn.pydata.org/bokeh/release/bokeh-gl-0.12.14.min.js\"];\n\n  var inline_js = [\n    function(Bokeh) {\n      Bokeh.set_log_level(\"info\");\n    },\n    \n    function(Bokeh) {\n      \n    },\n    function(Bokeh) {\n      console.log(\"Bokeh: injecting CSS: https://cdn.pydata.org/bokeh/release/bokeh-0.12.14.min.css\");\n      Bokeh.embed.inject_css(\"https://cdn.pydata.org/bokeh/release/bokeh-0.12.14.min.css\");\n      console.log(\"Bokeh: injecting CSS: https://cdn.pydata.org/bokeh/release/bokeh-widgets-0.12.14.min.css\");\n      Bokeh.embed.inject_css(\"https://cdn.pydata.org/bokeh/release/bokeh-widgets-0.12.14.min.css\");\n      console.log(\"Bokeh: injecting CSS: https://cdn.pydata.org/bokeh/release/bokeh-tables-0.12.14.min.css\");\n      Bokeh.embed.inject_css(\"https://cdn.pydata.org/bokeh/release/bokeh-tables-0.12.14.min.css\");\n    }\n  ];\n\n  function run_inline_js() {\n    \n    if ((root.Bokeh !== undefined) || (force === true)) {\n      for (var i = 0; i < inline_js.length; i++) {\n        inline_js[i].call(root, root.Bokeh);\n      }if (force === true) {\n        display_loaded();\n      }} else if (Date.now() < root._bokeh_timeout) {\n      setTimeout(run_inline_js, 100);\n    } else if (!root._bokeh_failed_load) {\n      console.log(\"Bokeh: BokehJS failed to load within specified timeout.\");\n      root._bokeh_failed_load = true;\n    } else if (force !== true) {\n      var cell = $(document.getElementById(\"50ad2312-e403-483f-b799-52e7629c2dfb\")).parents('.cell').data().cell;\n      cell.output_area.append_execute_result(NB_LOAD_WARNING)\n    }\n\n  }\n\n  if (root._bokeh_is_loading === 0) {\n    console.log(\"Bokeh: BokehJS loaded, going straight to plotting\");\n    run_inline_js();\n  } else {\n    load_libs(js_urls, function() {\n      console.log(\"Bokeh: BokehJS plotting callback run at\", now());\n      run_inline_js();\n    });\n  }\n}(window));"
     },
     "metadata": {},
     "output_type": "display_data"
    }
   ],
   "source": [
    "output_notebook()"
   ]
  },
  {
   "cell_type": "code",
   "execution_count": null,
   "metadata": {},
   "outputs": [],
   "source": []
  },
  {
   "cell_type": "code",
   "execution_count": 236,
   "metadata": {},
   "outputs": [],
   "source": [
    "def lorentz(x, x_n, G):\n",
    "    X = (x_n - x)/(G/2)\n",
    "    return 1/(1+X**2)\n",
    "def lorentz_double(x, xn1, G1, A1, xn2, G2, A2):\n",
    "    return(lorentz(x, xn1, G1, A1) + lorentz(x, xn2, G2, A2))"
   ]
  },
  {
   "cell_type": "code",
   "execution_count": 16,
   "metadata": {},
   "outputs": [],
   "source": [
    "a_min, a_max = 1.69, 1.72"
   ]
  },
  {
   "cell_type": "code",
   "execution_count": 237,
   "metadata": {},
   "outputs": [],
   "source": [
    "def fit_a(data,\n",
    "          cal=calibration,\n",
    "          a_min=1.695,\n",
    "          a_max=1.72,\n",
    "          base_function=lorentz,\n",
    "          p0=[1.70, 0.05]):\n",
    "    data_slice = data[np.logical_and(cal>a_min, cal<a_max)]\n",
    "    data_slice = data_slice/data_slice.max()\n",
    "    cal_slice = cal[np.logical_and(cal>a_min, cal<a_max)]\n",
    "    popt, pcov = curve_fit(lorentz, cal_slice, data_slice, p0=p0)\n",
    "    return popt[0]\n",
    "def fit_t(data,\n",
    "          cal=calibration,\n",
    "          a_min=1.66,\n",
    "          a_max=1.69,\n",
    "          base_function=lorentz,\n",
    "          p0=[1.67, 0.05]):\n",
    "    data_slice = data[np.logical_and(cal>a_min, cal<a_max)]\n",
    "    data_slice = data_slice/data_slice.max()\n",
    "    cal_slice = cal[np.logical_and(cal>a_min, cal<a_max)]\n",
    "    popt, pcov = curve_fit(lorentz, cal_slice, data_slice, p0=p0)\n",
    "    return popt[0]\n",
    "def fit_td(data,\n",
    "          cal=calibration,\n",
    "          a_min=1.638,\n",
    "          a_max=1.654,\n",
    "          base_function=lorentz,\n",
    "          p0=[1.645, 0.05]):\n",
    "    data_slice = data[np.logical_and(cal>a_min, cal<a_max)]\n",
    "    data_slice = data_slice/data_slice.max()\n",
    "    cal_slice = cal[np.logical_and(cal>a_min, cal<a_max)]\n",
    "    popt, pcov = curve_fit(lorentz, cal_slice, data_slice, p0=p0)\n",
    "    return popt[0]\n",
    "def fit_Tr(data,\n",
    "          cal=calibration,\n",
    "          a_min=1.62,#1.66,\n",
    "          a_max=1.69,#1.69,\n",
    "          base_function=lorentz_double,\n",
    "          p0=[1.63, 0.05, 10, 1.67, 0.05, 10]):\n",
    "    data_slice = data[np.logical_and(cal>a_min, cal<a_max)]\n",
    "    #data_slice = data_slice/data_slice.max()\n",
    "    cal_slice = cal[np.logical_and(cal>a_min, cal<a_max)]\n",
    "    popt, pcov = curve_fit(base_function, cal_slice, data_slice, p0=p0)\n",
    "    return popt\n"
   ]
  },
  {
   "cell_type": "code",
   "execution_count": 232,
   "metadata": {},
   "outputs": [
    {
     "data": {
      "text/html": [
       "\n",
       "<div class=\"bk-root\">\n",
       "    <div class=\"bk-plotdiv\" id=\"da426154-39cc-480a-b466-64c2a0849ab7\"></div>\n",
       "</div>"
      ]
     },
     "metadata": {},
     "output_type": "display_data"
    },
    {
     "data": {
      "application/javascript": [
       "(function(root) {\n",
       "  function embed_document(root) {\n",
       "    \n",
       "  var docs_json = {\"2730de1e-6b91-44ef-af6b-1a46e4ab5cbf\":{\"roots\":{\"references\":[{\"attributes\":{\"callback\":null},\"id\":\"50d38d88-3a61-412e-95a2-ee15b01b7d34\",\"type\":\"DataRange1d\"},{\"attributes\":{\"below\":[{\"id\":\"da1c0d6d-92ee-405e-8868-9d8d1936ed66\",\"type\":\"LinearAxis\"}],\"left\":[{\"id\":\"ea43d1f5-f753-43ad-9941-970e5b784d32\",\"type\":\"LinearAxis\"}],\"renderers\":[{\"id\":\"da1c0d6d-92ee-405e-8868-9d8d1936ed66\",\"type\":\"LinearAxis\"},{\"id\":\"208dd5f4-dc88-4cc2-bd35-be0263cdc63e\",\"type\":\"Grid\"},{\"id\":\"ea43d1f5-f753-43ad-9941-970e5b784d32\",\"type\":\"LinearAxis\"},{\"id\":\"6f1ee0ea-7ca0-494b-94a3-c2361e0c4cfd\",\"type\":\"Grid\"},{\"id\":\"a5715512-6261-4120-bbb4-b7b07e31a669\",\"type\":\"BoxAnnotation\"},{\"id\":\"8264b59f-9bfa-49e3-8bd5-8e39b1dd4fa5\",\"type\":\"GlyphRenderer\"},{\"id\":\"5fb08b31-bb14-4a3c-a0a9-ff7c74af0a1d\",\"type\":\"GlyphRenderer\"}],\"title\":{\"id\":\"f74e97b1-cef5-4d2b-836d-d0bbbc462dc8\",\"type\":\"Title\"},\"toolbar\":{\"id\":\"7092cb03-064b-42a6-a2c6-6d4bf663ab13\",\"type\":\"Toolbar\"},\"x_range\":{\"id\":\"64b92051-ee37-4b81-aab6-b33fc15d60a6\",\"type\":\"DataRange1d\"},\"x_scale\":{\"id\":\"b8cb156c-b31f-4fa4-ae06-07628f7df7b5\",\"type\":\"LinearScale\"},\"y_range\":{\"id\":\"50d38d88-3a61-412e-95a2-ee15b01b7d34\",\"type\":\"DataRange1d\"},\"y_scale\":{\"id\":\"f271b478-49a6-4891-b45c-65fa8f3ee508\",\"type\":\"LinearScale\"}},\"id\":\"2077a194-7c3d-40a4-bb43-1f8f7f918127\",\"subtype\":\"Figure\",\"type\":\"Plot\"},{\"attributes\":{\"line_color\":\"#1f77b4\",\"x\":{\"field\":\"x\"},\"y\":{\"field\":\"y\"}},\"id\":\"8447de5f-22b7-4e93-ac1f-f6e092f965d8\",\"type\":\"Line\"},{\"attributes\":{\"plot\":null,\"text\":\"\"},\"id\":\"f74e97b1-cef5-4d2b-836d-d0bbbc462dc8\",\"type\":\"Title\"},{\"attributes\":{\"data_source\":{\"id\":\"c3a5f333-2708-42c6-94b4-159b14276329\",\"type\":\"ColumnDataSource\"},\"glyph\":{\"id\":\"8447de5f-22b7-4e93-ac1f-f6e092f965d8\",\"type\":\"Line\"},\"hover_glyph\":null,\"muted_glyph\":null,\"nonselection_glyph\":{\"id\":\"c14e5a71-6bd2-46d6-b866-1860f3eec2f2\",\"type\":\"Line\"},\"selection_glyph\":null,\"view\":{\"id\":\"e8ab0fd5-36e8-41e9-a1e2-9cfedf3f25c2\",\"type\":\"CDSView\"}},\"id\":\"8264b59f-9bfa-49e3-8bd5-8e39b1dd4fa5\",\"type\":\"GlyphRenderer\"},{\"attributes\":{},\"id\":\"185386cf-9c92-4e17-b31f-0d767223ca23\",\"type\":\"ResetTool\"},{\"attributes\":{\"plot\":{\"id\":\"2077a194-7c3d-40a4-bb43-1f8f7f918127\",\"subtype\":\"Figure\",\"type\":\"Plot\"},\"ticker\":{\"id\":\"90cf2cb8-12b2-447b-af93-b6f7ab9341ee\",\"type\":\"BasicTicker\"}},\"id\":\"208dd5f4-dc88-4cc2-bd35-be0263cdc63e\",\"type\":\"Grid\"},{\"attributes\":{\"callback\":null,\"column_names\":[\"x\",\"y\"],\"data\":{\"x\":{\"__ndarray__\":\"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\",\"dtype\":\"float64\",\"shape\":[1340]},\"y\":{\"__ndarray__\":\"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\",\"dtype\":\"float64\",\"shape\":[1340]}}},\"id\":\"c3a5f333-2708-42c6-94b4-159b14276329\",\"type\":\"ColumnDataSource\"},{\"attributes\":{},\"id\":\"f271b478-49a6-4891-b45c-65fa8f3ee508\",\"type\":\"LinearScale\"},{\"attributes\":{},\"id\":\"6cf8f421-3310-464b-92c0-f0bf42444021\",\"type\":\"BasicTicker\"},{\"attributes\":{\"source\":{\"id\":\"c3a5f333-2708-42c6-94b4-159b14276329\",\"type\":\"ColumnDataSource\"}},\"id\":\"e8ab0fd5-36e8-41e9-a1e2-9cfedf3f25c2\",\"type\":\"CDSView\"},{\"attributes\":{\"data_source\":{\"id\":\"1f818166-2bfb-4428-9c6b-cbceb823efe0\",\"type\":\"ColumnDataSource\"},\"glyph\":{\"id\":\"be6aecce-6a74-4f0d-ae53-2ab0f76bdfa6\",\"type\":\"Line\"},\"hover_glyph\":null,\"muted_glyph\":null,\"nonselection_glyph\":{\"id\":\"21a10895-3b90-4716-a919-8db1b240073b\",\"type\":\"Line\"},\"selection_glyph\":null,\"view\":{\"id\":\"82ed2f26-f3ab-403b-8c88-5cfd49cd5c69\",\"type\":\"CDSView\"}},\"id\":\"5fb08b31-bb14-4a3c-a0a9-ff7c74af0a1d\",\"type\":\"GlyphRenderer\"},{\"attributes\":{},\"id\":\"f30d6de3-e11b-4573-946a-f8c31366a74b\",\"type\":\"HelpTool\"},{\"attributes\":{},\"id\":\"90fca65a-939e-4a36-a491-b71a19a9e6f0\",\"type\":\"WheelZoomTool\"},{\"attributes\":{},\"id\":\"067aa728-8ebb-4b3b-bf99-9e5d15e828fd\",\"type\":\"PanTool\"},{\"attributes\":{},\"id\":\"2b6cebda-05ad-4ac5-94bd-9f1fa2f1bccc\",\"type\":\"BasicTickFormatter\"},{\"attributes\":{\"bottom_units\":\"screen\",\"fill_alpha\":{\"value\":0.5},\"fill_color\":{\"value\":\"lightgrey\"},\"left_units\":\"screen\",\"level\":\"overlay\",\"line_alpha\":{\"value\":1.0},\"line_color\":{\"value\":\"black\"},\"line_dash\":[4,4],\"line_width\":{\"value\":2},\"plot\":null,\"render_mode\":\"css\",\"right_units\":\"screen\",\"top_units\":\"screen\"},\"id\":\"a5715512-6261-4120-bbb4-b7b07e31a669\",\"type\":\"BoxAnnotation\"},{\"attributes\":{\"callback\":null},\"id\":\"64b92051-ee37-4b81-aab6-b33fc15d60a6\",\"type\":\"DataRange1d\"},{\"attributes\":{},\"id\":\"b8cb156c-b31f-4fa4-ae06-07628f7df7b5\",\"type\":\"LinearScale\"},{\"attributes\":{\"line_color\":\"red\",\"x\":{\"field\":\"x\"},\"y\":{\"field\":\"y\"}},\"id\":\"be6aecce-6a74-4f0d-ae53-2ab0f76bdfa6\",\"type\":\"Line\"},{\"attributes\":{\"line_alpha\":0.1,\"line_color\":\"#1f77b4\",\"x\":{\"field\":\"x\"},\"y\":{\"field\":\"y\"}},\"id\":\"c14e5a71-6bd2-46d6-b866-1860f3eec2f2\",\"type\":\"Line\"},{\"attributes\":{\"active_drag\":\"auto\",\"active_inspect\":\"auto\",\"active_scroll\":\"auto\",\"active_tap\":\"auto\",\"tools\":[{\"id\":\"067aa728-8ebb-4b3b-bf99-9e5d15e828fd\",\"type\":\"PanTool\"},{\"id\":\"90fca65a-939e-4a36-a491-b71a19a9e6f0\",\"type\":\"WheelZoomTool\"},{\"id\":\"0ebe6eb1-f2e8-4d6c-ba87-d8bbacec6246\",\"type\":\"BoxZoomTool\"},{\"id\":\"3511cf26-6187-4aeb-8826-4355e990d042\",\"type\":\"SaveTool\"},{\"id\":\"185386cf-9c92-4e17-b31f-0d767223ca23\",\"type\":\"ResetTool\"},{\"id\":\"f30d6de3-e11b-4573-946a-f8c31366a74b\",\"type\":\"HelpTool\"}]},\"id\":\"7092cb03-064b-42a6-a2c6-6d4bf663ab13\",\"type\":\"Toolbar\"},{\"attributes\":{},\"id\":\"c4c7afdb-c36f-4a7e-9f1f-e59996edeaae\",\"type\":\"BasicTickFormatter\"},{\"attributes\":{\"dimension\":1,\"plot\":{\"id\":\"2077a194-7c3d-40a4-bb43-1f8f7f918127\",\"subtype\":\"Figure\",\"type\":\"Plot\"},\"ticker\":{\"id\":\"6cf8f421-3310-464b-92c0-f0bf42444021\",\"type\":\"BasicTicker\"}},\"id\":\"6f1ee0ea-7ca0-494b-94a3-c2361e0c4cfd\",\"type\":\"Grid\"},{\"attributes\":{\"overlay\":{\"id\":\"a5715512-6261-4120-bbb4-b7b07e31a669\",\"type\":\"BoxAnnotation\"}},\"id\":\"0ebe6eb1-f2e8-4d6c-ba87-d8bbacec6246\",\"type\":\"BoxZoomTool\"},{\"attributes\":{\"formatter\":{\"id\":\"c4c7afdb-c36f-4a7e-9f1f-e59996edeaae\",\"type\":\"BasicTickFormatter\"},\"plot\":{\"id\":\"2077a194-7c3d-40a4-bb43-1f8f7f918127\",\"subtype\":\"Figure\",\"type\":\"Plot\"},\"ticker\":{\"id\":\"6cf8f421-3310-464b-92c0-f0bf42444021\",\"type\":\"BasicTicker\"}},\"id\":\"ea43d1f5-f753-43ad-9941-970e5b784d32\",\"type\":\"LinearAxis\"},{\"attributes\":{},\"id\":\"90cf2cb8-12b2-447b-af93-b6f7ab9341ee\",\"type\":\"BasicTicker\"},{\"attributes\":{},\"id\":\"3511cf26-6187-4aeb-8826-4355e990d042\",\"type\":\"SaveTool\"},{\"attributes\":{\"formatter\":{\"id\":\"2b6cebda-05ad-4ac5-94bd-9f1fa2f1bccc\",\"type\":\"BasicTickFormatter\"},\"plot\":{\"id\":\"2077a194-7c3d-40a4-bb43-1f8f7f918127\",\"subtype\":\"Figure\",\"type\":\"Plot\"},\"ticker\":{\"id\":\"90cf2cb8-12b2-447b-af93-b6f7ab9341ee\",\"type\":\"BasicTicker\"}},\"id\":\"da1c0d6d-92ee-405e-8868-9d8d1936ed66\",\"type\":\"LinearAxis\"},{\"attributes\":{\"line_alpha\":0.1,\"line_color\":\"#1f77b4\",\"x\":{\"field\":\"x\"},\"y\":{\"field\":\"y\"}},\"id\":\"21a10895-3b90-4716-a919-8db1b240073b\",\"type\":\"Line\"},{\"attributes\":{\"callback\":null,\"column_names\":[\"x\",\"y\"],\"data\":{\"x\":{\"__ndarray__\":\"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\",\"dtype\":\"float64\",\"shape\":[1340]},\"y\":{\"__ndarray__\":\"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\",\"dtype\":\"float64\",\"shape\":[1340]}}},\"id\":\"1f818166-2bfb-4428-9c6b-cbceb823efe0\",\"type\":\"ColumnDataSource\"},{\"attributes\":{\"source\":{\"id\":\"1f818166-2bfb-4428-9c6b-cbceb823efe0\",\"type\":\"ColumnDataSource\"}},\"id\":\"82ed2f26-f3ab-403b-8c88-5cfd49cd5c69\",\"type\":\"CDSView\"}],\"root_ids\":[\"2077a194-7c3d-40a4-bb43-1f8f7f918127\"]},\"title\":\"Bokeh Application\",\"version\":\"0.12.14\"}};\n",
       "  var render_items = [{\"docid\":\"2730de1e-6b91-44ef-af6b-1a46e4ab5cbf\",\"elementid\":\"da426154-39cc-480a-b466-64c2a0849ab7\",\"modelid\":\"2077a194-7c3d-40a4-bb43-1f8f7f918127\"}];\n",
       "  root.Bokeh.embed.embed_items_notebook(docs_json, render_items);\n",
       "\n",
       "  }\n",
       "  if (root.Bokeh !== undefined) {\n",
       "    embed_document(root);\n",
       "  } else {\n",
       "    var attempts = 0;\n",
       "    var timer = setInterval(function(root) {\n",
       "      if (root.Bokeh !== undefined) {\n",
       "        embed_document(root);\n",
       "        clearInterval(timer);\n",
       "      }\n",
       "      attempts++;\n",
       "      if (attempts > 100) {\n",
       "        console.log(\"Bokeh: ERROR: Unable to run BokehJS code because BokehJS library is missing\")\n",
       "        clearInterval(timer);\n",
       "      }\n",
       "    }, 10, root)\n",
       "  }\n",
       "})(window);"
      ],
      "application/vnd.bokehjs_exec.v0+json": ""
     },
     "metadata": {
      "application/vnd.bokehjs_exec.v0+json": {
       "id": "2077a194-7c3d-40a4-bb43-1f8f7f918127"
      }
     },
     "output_type": "display_data"
    }
   ],
   "source": [
    "y = sweepVT_sigmam[0,9,:]\n",
    "Fit = fit_Tr(y)\n",
    "a, b, c, d, e, f = Fit[0], Fit[1], Fit[2], Fit[3], Fit[4], Fit[5]\n",
    "y2 = lorentz_double(calibration, a, b, c, d, e, f)\n",
    "y = y/y.max()\n",
    "pp = figure()\n",
    "pp.line(calibration, y)\n",
    "pp.line(calibration, y2, color='red')\n",
    "show(pp)"
   ]
  },
  {
   "cell_type": "code",
   "execution_count": 243,
   "metadata": {},
   "outputs": [
    {
     "data": {
      "text/plain": [
       "array([1.70576786, 1.70574761, 1.70569657, 1.70561589, 1.70544315,\n",
       "       1.70521966])"
      ]
     },
     "execution_count": 243,
     "metadata": {},
     "output_type": "execute_result"
    }
   ],
   "source": [
    "a_energies_sp = np.array([np.mean([fit_a(sweepVT_sigmap[j,i,:]) for i in np.arange(18,27,1)]) for j in range(0,6)])\n",
    "a_energies_sm = np.array([np.mean([fit_a(sweepVT_sigmam[j,i,:]) for i in np.arange(18,27,1)]) for j in range(0,6)])\n",
    "#g_factors = (a_energies_sm - a_energies_sp)/(mu_b * np.arange(9))\n",
    "a_energies_sp"
   ]
  },
  {
   "cell_type": "code",
   "execution_count": 160,
   "metadata": {},
   "outputs": [
    {
     "data": {
      "text/html": [
       "\n",
       "<div class=\"bk-root\">\n",
       "    <div class=\"bk-plotdiv\" id=\"83727909-a726-4dbc-8112-f4f51bddbd51\"></div>\n",
       "</div>"
      ]
     },
     "metadata": {},
     "output_type": "display_data"
    },
    {
     "data": {
      "application/javascript": [
       "(function(root) {\n",
       "  function embed_document(root) {\n",
       "    \n",
       "  var docs_json = {\"046051bc-84d2-4516-a00a-12f6a97e4b56\":{\"roots\":{\"references\":[{\"attributes\":{\"formatter\":{\"id\":\"de5b174b-2acb-4767-86d9-064593d21b3f\",\"type\":\"BasicTickFormatter\"},\"plot\":{\"id\":\"c25eb015-cca7-414b-82bc-c1fea4754541\",\"subtype\":\"Figure\",\"type\":\"Plot\"},\"ticker\":{\"id\":\"e50ff564-dc65-40de-adb4-4539b03a6043\",\"type\":\"BasicTicker\"}},\"id\":\"6a984c7d-6a71-428d-9747-e271bd430c19\",\"type\":\"LinearAxis\"},{\"attributes\":{\"source\":{\"id\":\"2a9ce8c7-1172-4125-8324-7ceace8bdcd2\",\"type\":\"ColumnDataSource\"}},\"id\":\"2c0ebc0e-4187-41dd-b63a-500cdebecd1a\",\"type\":\"CDSView\"},{\"attributes\":{\"fill_color\":{\"value\":\"#1f77b4\"},\"line_color\":{\"value\":\"#1f77b4\"},\"x\":{\"field\":\"x\"},\"y\":{\"field\":\"y\"}},\"id\":\"89de2f68-913d-4ecb-8df2-a9abeaaca88e\",\"type\":\"Circle\"},{\"attributes\":{\"plot\":null,\"text\":\"\"},\"id\":\"f1ed6f0c-5770-45f1-8f10-120ac892ac31\",\"type\":\"Title\"},{\"attributes\":{\"fill_color\":{\"value\":\"red\"},\"line_color\":{\"value\":\"red\"},\"x\":{\"field\":\"x\"},\"y\":{\"field\":\"y\"}},\"id\":\"0b4f1a64-ba88-4494-93e3-8807da0723be\",\"type\":\"Circle\"},{\"attributes\":{\"plot\":{\"id\":\"c25eb015-cca7-414b-82bc-c1fea4754541\",\"subtype\":\"Figure\",\"type\":\"Plot\"},\"ticker\":{\"id\":\"e50ff564-dc65-40de-adb4-4539b03a6043\",\"type\":\"BasicTicker\"}},\"id\":\"edfc81b4-56cf-4381-991d-82d9d7e6a6d7\",\"type\":\"Grid\"},{\"attributes\":{},\"id\":\"de5b174b-2acb-4767-86d9-064593d21b3f\",\"type\":\"BasicTickFormatter\"},{\"attributes\":{\"formatter\":{\"id\":\"acfa880c-4394-49b3-a1b5-ddb76c2bbfdb\",\"type\":\"BasicTickFormatter\"},\"plot\":{\"id\":\"c25eb015-cca7-414b-82bc-c1fea4754541\",\"subtype\":\"Figure\",\"type\":\"Plot\"},\"ticker\":{\"id\":\"40e708ac-f830-4088-bdf0-5999cfb2268e\",\"type\":\"BasicTicker\"}},\"id\":\"6ab2bd28-b4bc-4b8e-86e5-a7a50a43d672\",\"type\":\"LinearAxis\"},{\"attributes\":{},\"id\":\"40e708ac-f830-4088-bdf0-5999cfb2268e\",\"type\":\"BasicTicker\"},{\"attributes\":{\"dimension\":1,\"plot\":{\"id\":\"c25eb015-cca7-414b-82bc-c1fea4754541\",\"subtype\":\"Figure\",\"type\":\"Plot\"},\"ticker\":{\"id\":\"40e708ac-f830-4088-bdf0-5999cfb2268e\",\"type\":\"BasicTicker\"}},\"id\":\"665d295e-3255-4399-8eda-7ed858dcb948\",\"type\":\"Grid\"},{\"attributes\":{\"fill_alpha\":{\"value\":0.1},\"fill_color\":{\"value\":\"#1f77b4\"},\"line_alpha\":{\"value\":0.1},\"line_color\":{\"value\":\"#1f77b4\"},\"x\":{\"field\":\"x\"},\"y\":{\"field\":\"y\"}},\"id\":\"da638329-8be5-46ad-9386-320865524be1\",\"type\":\"Circle\"},{\"attributes\":{},\"id\":\"acfa880c-4394-49b3-a1b5-ddb76c2bbfdb\",\"type\":\"BasicTickFormatter\"},{\"attributes\":{\"fill_alpha\":{\"value\":0.1},\"fill_color\":{\"value\":\"#1f77b4\"},\"line_alpha\":{\"value\":0.1},\"line_color\":{\"value\":\"#1f77b4\"},\"x\":{\"field\":\"x\"},\"y\":{\"field\":\"y\"}},\"id\":\"2f822224-1e48-4d82-bb67-b1f2784556b5\",\"type\":\"Circle\"},{\"attributes\":{\"bottom_units\":\"screen\",\"fill_alpha\":{\"value\":0.5},\"fill_color\":{\"value\":\"lightgrey\"},\"left_units\":\"screen\",\"level\":\"overlay\",\"line_alpha\":{\"value\":1.0},\"line_color\":{\"value\":\"black\"},\"line_dash\":[4,4],\"line_width\":{\"value\":2},\"plot\":null,\"render_mode\":\"css\",\"right_units\":\"screen\",\"top_units\":\"screen\"},\"id\":\"e9a69602-7112-46c9-9edb-07638790888d\",\"type\":\"BoxAnnotation\"},{\"attributes\":{\"data_source\":{\"id\":\"1acbb3b1-8472-4586-a44c-1cbe76777e57\",\"type\":\"ColumnDataSource\"},\"glyph\":{\"id\":\"0b4f1a64-ba88-4494-93e3-8807da0723be\",\"type\":\"Circle\"},\"hover_glyph\":null,\"muted_glyph\":null,\"nonselection_glyph\":{\"id\":\"2f822224-1e48-4d82-bb67-b1f2784556b5\",\"type\":\"Circle\"},\"selection_glyph\":null,\"view\":{\"id\":\"397696b4-8eb7-4680-a259-83e7f9a4ac4d\",\"type\":\"CDSView\"}},\"id\":\"12a98e69-cbdb-4651-a632-fe91757536e9\",\"type\":\"GlyphRenderer\"},{\"attributes\":{},\"id\":\"16212be1-7c10-4e48-8941-e5e94ddcba52\",\"type\":\"PanTool\"},{\"attributes\":{\"source\":{\"id\":\"1acbb3b1-8472-4586-a44c-1cbe76777e57\",\"type\":\"ColumnDataSource\"}},\"id\":\"397696b4-8eb7-4680-a259-83e7f9a4ac4d\",\"type\":\"CDSView\"},{\"attributes\":{\"data_source\":{\"id\":\"2a9ce8c7-1172-4125-8324-7ceace8bdcd2\",\"type\":\"ColumnDataSource\"},\"glyph\":{\"id\":\"89de2f68-913d-4ecb-8df2-a9abeaaca88e\",\"type\":\"Circle\"},\"hover_glyph\":null,\"muted_glyph\":null,\"nonselection_glyph\":{\"id\":\"da638329-8be5-46ad-9386-320865524be1\",\"type\":\"Circle\"},\"selection_glyph\":null,\"view\":{\"id\":\"2c0ebc0e-4187-41dd-b63a-500cdebecd1a\",\"type\":\"CDSView\"}},\"id\":\"211e18af-db50-4d12-ae68-976d7d16aacc\",\"type\":\"GlyphRenderer\"},{\"attributes\":{},\"id\":\"64ad6df3-01b6-4c79-a1a0-2ebd31df8923\",\"type\":\"WheelZoomTool\"},{\"attributes\":{\"overlay\":{\"id\":\"e9a69602-7112-46c9-9edb-07638790888d\",\"type\":\"BoxAnnotation\"}},\"id\":\"397b2a4f-3ca8-4ef4-928b-f74d09a95b6e\",\"type\":\"BoxZoomTool\"},{\"attributes\":{},\"id\":\"2b7eb234-82d2-43c3-82c9-0dfb2deea628\",\"type\":\"SaveTool\"},{\"attributes\":{},\"id\":\"8a4d222c-29e5-4f6f-97f7-a8dd1e782722\",\"type\":\"ResetTool\"},{\"attributes\":{},\"id\":\"c8682deb-0539-42d1-9479-41579e5e6283\",\"type\":\"HelpTool\"},{\"attributes\":{\"callback\":null},\"id\":\"ed641853-6218-4d0c-8199-02d719e8e853\",\"type\":\"DataRange1d\"},{\"attributes\":{\"callback\":null,\"column_names\":[\"x\",\"y\"],\"data\":{\"x\":[0,1,2,3,4,5],\"y\":{\"__ndarray__\":\"w6x0DxfI+j/7OUXIuMf6P4m6Csqhx/o/8Pr13mjG+j+2lOZ0Esb6PxzK7nBrxfo/\",\"dtype\":\"float64\",\"shape\":[6]}}},\"id\":\"1acbb3b1-8472-4586-a44c-1cbe76777e57\",\"type\":\"ColumnDataSource\"},{\"attributes\":{\"below\":[{\"id\":\"6a984c7d-6a71-428d-9747-e271bd430c19\",\"type\":\"LinearAxis\"}],\"left\":[{\"id\":\"6ab2bd28-b4bc-4b8e-86e5-a7a50a43d672\",\"type\":\"LinearAxis\"}],\"renderers\":[{\"id\":\"6a984c7d-6a71-428d-9747-e271bd430c19\",\"type\":\"LinearAxis\"},{\"id\":\"edfc81b4-56cf-4381-991d-82d9d7e6a6d7\",\"type\":\"Grid\"},{\"id\":\"6ab2bd28-b4bc-4b8e-86e5-a7a50a43d672\",\"type\":\"LinearAxis\"},{\"id\":\"665d295e-3255-4399-8eda-7ed858dcb948\",\"type\":\"Grid\"},{\"id\":\"e9a69602-7112-46c9-9edb-07638790888d\",\"type\":\"BoxAnnotation\"},{\"id\":\"211e18af-db50-4d12-ae68-976d7d16aacc\",\"type\":\"GlyphRenderer\"},{\"id\":\"12a98e69-cbdb-4651-a632-fe91757536e9\",\"type\":\"GlyphRenderer\"}],\"title\":{\"id\":\"f1ed6f0c-5770-45f1-8f10-120ac892ac31\",\"type\":\"Title\"},\"toolbar\":{\"id\":\"d17aa0d6-905f-40de-9743-bebf98ec361f\",\"type\":\"Toolbar\"},\"x_range\":{\"id\":\"ed641853-6218-4d0c-8199-02d719e8e853\",\"type\":\"DataRange1d\"},\"x_scale\":{\"id\":\"9bc50f23-9fc2-48ad-a8b3-fea4457bbd7a\",\"type\":\"LinearScale\"},\"y_range\":{\"id\":\"6dfada55-f0db-4d60-9bfe-3801a1c427b8\",\"type\":\"Range1d\"},\"y_scale\":{\"id\":\"1d2017a7-e82f-4eac-adca-3da8d6d4ed92\",\"type\":\"LinearScale\"}},\"id\":\"c25eb015-cca7-414b-82bc-c1fea4754541\",\"subtype\":\"Figure\",\"type\":\"Plot\"},{\"attributes\":{\"callback\":null,\"column_names\":[\"x\",\"y\"],\"data\":{\"x\":[0,1,2,3,4,5],\"y\":{\"__ndarray__\":\"nTw0MWrH+j+tPCHe78b6PxfWetCZxvo/t8MdGq3E+j8kxKEIHMP6P4bFRkFuxPo/\",\"dtype\":\"float64\",\"shape\":[6]}}},\"id\":\"2a9ce8c7-1172-4125-8324-7ceace8bdcd2\",\"type\":\"ColumnDataSource\"},{\"attributes\":{},\"id\":\"9bc50f23-9fc2-48ad-a8b3-fea4457bbd7a\",\"type\":\"LinearScale\"},{\"attributes\":{\"callback\":null,\"end\":1.709,\"start\":1.705},\"id\":\"6dfada55-f0db-4d60-9bfe-3801a1c427b8\",\"type\":\"Range1d\"},{\"attributes\":{},\"id\":\"e50ff564-dc65-40de-adb4-4539b03a6043\",\"type\":\"BasicTicker\"},{\"attributes\":{\"active_drag\":\"auto\",\"active_inspect\":\"auto\",\"active_scroll\":\"auto\",\"active_tap\":\"auto\",\"tools\":[{\"id\":\"16212be1-7c10-4e48-8941-e5e94ddcba52\",\"type\":\"PanTool\"},{\"id\":\"64ad6df3-01b6-4c79-a1a0-2ebd31df8923\",\"type\":\"WheelZoomTool\"},{\"id\":\"397b2a4f-3ca8-4ef4-928b-f74d09a95b6e\",\"type\":\"BoxZoomTool\"},{\"id\":\"2b7eb234-82d2-43c3-82c9-0dfb2deea628\",\"type\":\"SaveTool\"},{\"id\":\"8a4d222c-29e5-4f6f-97f7-a8dd1e782722\",\"type\":\"ResetTool\"},{\"id\":\"c8682deb-0539-42d1-9479-41579e5e6283\",\"type\":\"HelpTool\"}]},\"id\":\"d17aa0d6-905f-40de-9743-bebf98ec361f\",\"type\":\"Toolbar\"},{\"attributes\":{},\"id\":\"1d2017a7-e82f-4eac-adca-3da8d6d4ed92\",\"type\":\"LinearScale\"}],\"root_ids\":[\"c25eb015-cca7-414b-82bc-c1fea4754541\"]},\"title\":\"Bokeh Application\",\"version\":\"0.12.14\"}};\n",
       "  var render_items = [{\"docid\":\"046051bc-84d2-4516-a00a-12f6a97e4b56\",\"elementid\":\"83727909-a726-4dbc-8112-f4f51bddbd51\",\"modelid\":\"c25eb015-cca7-414b-82bc-c1fea4754541\"}];\n",
       "  root.Bokeh.embed.embed_items_notebook(docs_json, render_items);\n",
       "\n",
       "  }\n",
       "  if (root.Bokeh !== undefined) {\n",
       "    embed_document(root);\n",
       "  } else {\n",
       "    var attempts = 0;\n",
       "    var timer = setInterval(function(root) {\n",
       "      if (root.Bokeh !== undefined) {\n",
       "        embed_document(root);\n",
       "        clearInterval(timer);\n",
       "      }\n",
       "      attempts++;\n",
       "      if (attempts > 100) {\n",
       "        console.log(\"Bokeh: ERROR: Unable to run BokehJS code because BokehJS library is missing\")\n",
       "        clearInterval(timer);\n",
       "      }\n",
       "    }, 10, root)\n",
       "  }\n",
       "})(window);"
      ],
      "application/vnd.bokehjs_exec.v0+json": ""
     },
     "metadata": {
      "application/vnd.bokehjs_exec.v0+json": {
       "id": "c25eb015-cca7-414b-82bc-c1fea4754541"
      }
     },
     "output_type": "display_data"
    }
   ],
   "source": [
    "p = figure(y_range=(1.705, 1.709))\n",
    "xxx = np.arange(0,6,1)\n",
    "p.scatter(xxx, a_energies_sm)\n",
    "p.scatter(xxx, a_energies_sp, color='red')\n",
    "show(p)"
   ]
  },
  {
   "cell_type": "code",
   "execution_count": 170,
   "metadata": {},
   "outputs": [
    {
     "name": "stderr",
     "output_type": "stream",
     "text": [
      "/usr/lib/python3/dist-packages/scipy/optimize/minpack.py:779: OptimizeWarning: Covariance of the parameters could not be estimated\n",
      "  category=OptimizeWarning)\n"
     ]
    },
    {
     "data": {
      "text/plain": [
       "array([-1.70674208, -2.28752658, -2.96550302, -3.30096911, -3.2287998 ,\n",
       "       -3.6816929 ])"
      ]
     },
     "execution_count": 170,
     "metadata": {},
     "output_type": "execute_result"
    }
   ],
   "source": [
    "#a_energies_sp = np.array([fit_a(field) for field in sweepVT_sigmap[:,18,:]])\n",
    "#a_energies_sm = np.array([fit_a(field) for field in sweepVT_sigmam[:,18,:]])\n",
    "#g_factors = (a_energies_sm - a_energies_sp)/(mu_b * np.arange(-3, -9, -1))\n",
    "#a_energies_sp\n",
    "a_energies_sp = np.array([fit_a(field) for field in sweepVT_sigmap[0,:,:]])\n",
    "a_energies_sm = np.array([fit_a(field) for field in sweepVT_sigmam[0,:,:]])\n",
    "#g_factors = (a_energies_sm - a_energies_sp)/(mu_b * np.arange(9))\n",
    "#a_energies_sp\n",
    "g_factors"
   ]
  },
  {
   "cell_type": "code",
   "execution_count": 171,
   "metadata": {},
   "outputs": [
    {
     "data": {
      "text/html": [
       "\n",
       "<div class=\"bk-root\">\n",
       "    <div class=\"bk-plotdiv\" id=\"aaa19e8a-2e98-48a0-ae2d-27981f30c4a5\"></div>\n",
       "</div>"
      ]
     },
     "metadata": {},
     "output_type": "display_data"
    },
    {
     "data": {
      "application/javascript": [
       "(function(root) {\n",
       "  function embed_document(root) {\n",
       "    \n",
       "  var docs_json = {\"f99c865f-5f6d-4cd0-bbaf-6b4907a6ad5a\":{\"roots\":{\"references\":[{\"attributes\":{\"fill_color\":{\"value\":\"#1f77b4\"},\"line_color\":{\"value\":\"#1f77b4\"},\"x\":{\"field\":\"x\"},\"y\":{\"field\":\"y\"}},\"id\":\"cd5f35d7-608c-414d-86c6-128ed9095a53\",\"type\":\"Circle\"},{\"attributes\":{\"formatter\":{\"id\":\"b32094f4-8a93-46d4-961b-5b3f95c88433\",\"type\":\"BasicTickFormatter\"},\"plot\":{\"id\":\"5aed927e-ebd4-4803-82a3-729dadf97859\",\"subtype\":\"Figure\",\"type\":\"Plot\"},\"ticker\":{\"id\":\"45039d19-7cf3-415c-ada9-5e078b5fc821\",\"type\":\"BasicTicker\"}},\"id\":\"55e79f37-31d1-4114-861f-0614c1ae9100\",\"type\":\"LinearAxis\"},{\"attributes\":{\"callback\":null,\"column_names\":[\"x\",\"y\"],\"data\":{\"x\":[0,1,2,3,4,5,6,7,8,9,10,11,12,13,14,15,16,17,18,19,20,21,22,23,24,25,26,27,28,29,30,31,32,33,34,35,36,37,38,39,40,41,42,43,44,45,46,47,48,49,50,51,52,53,54,55,56,57,58,59,60,61,62,63,64,65,66,67,68,69,70,71,72,73,74,75,76,77,78,79,80],\"y\":{\"__ndarray__\":\"Q1qV4jZt+j+OBeWSKlfXwMc5bndHu/o/zroQergiqcCAe7eoStb3P4XhW7eAvxTBo7imXb3UKMGORRFDQ5EwwXhapuMoYPs/wgD5ozW5/T/GG6Ol0U37P0FXYl7hTPs/UAwBnLJM+z/pshEBlkz7P4pOvrRyTPs/ZJ2BpURM+z931U6eKUz7P8usjv0cTPs/1mH8Cw1M+z+kre4XL0z7P5vVtyUVTPs/ixLZXhRM+z9fKvXB80v7P3YKjH8JTPs/wPhKSAVM+z9P/Cqk+0v7Pzgk/r8NTPs/hWtd6/lL+z8e3iczIEz7P3GsVQImTPs/a1X3sQFM+z9nz7XtLUz7PyuBMM0/TPs/51o6bVRM+z8lOsCWnEz7P5JK5ZOmTPs/IVRY98tM+z9j262p6kz7P2pC2kUzTfs/q9l9nB1N+z9jgwihrE37P8wUUdg7Tvs/vLCTi4lO+z+cCOO2Pk/7P1Mrcg0jUPs/A11v+rFR+z+6SM2LkVP7P0LM8b2TEP0//aN9VDxY+z+Tmt5isVv7P71fWGTgXfs/OB1PUhJg+z+r0TXNeWL7P7u0dqCzZPs/e3pNLlVo+z/dneTRQfEnwWWo024HvinBLtJWKQ6IN8FQh0luDwAqwcvY875qWSDBD8HjfY/KIMGeRrDuO3QcwQsCTVi5TP7AEcrm2Kd3/MCwEjEkgE35PyBONh+8OQDBqjdn/JdD58B1MkUcCRH3P3xK4Qn2DPo/C7AVkMQh+8Abo4d11AT5P9ScOaGOxvg/e3WMyMWk+T8zJRoFuAL6P5begz6t3+DAXqTNh7fW9T9jME/J4zj+wBoHV2mxFCjBUM6o9NzfLcG1O9MtNGj7Pz8gm5bAXvs/\",\"dtype\":\"float64\",\"shape\":[81]}}},\"id\":\"ce2a4b13-bef3-4ec6-afd5-bca0a05e42ed\",\"type\":\"ColumnDataSource\"},{\"attributes\":{\"callback\":null,\"end\":1.71,\"start\":1.705},\"id\":\"6f868a2a-7bc9-4b4d-ae32-431e4bf9ae9d\",\"type\":\"Range1d\"},{\"attributes\":{},\"id\":\"f64a44eb-141d-4cbd-8d80-8d01d510a432\",\"type\":\"LinearScale\"},{\"attributes\":{},\"id\":\"1847e350-6eb3-4da6-806e-c58953f58b5c\",\"type\":\"SaveTool\"},{\"attributes\":{},\"id\":\"c581dad1-0006-4605-b19a-481531430b24\",\"type\":\"BasicTicker\"},{\"attributes\":{\"fill_alpha\":{\"value\":0.1},\"fill_color\":{\"value\":\"#1f77b4\"},\"line_alpha\":{\"value\":0.1},\"line_color\":{\"value\":\"#1f77b4\"},\"x\":{\"field\":\"x\"},\"y\":{\"field\":\"y\"}},\"id\":\"a3d62f31-4a07-4ea9-acbe-b47a0b4942d1\",\"type\":\"Circle\"},{\"attributes\":{},\"id\":\"bae37632-1234-4729-a0e9-55acd2b77f01\",\"type\":\"ResetTool\"},{\"attributes\":{\"plot\":{\"id\":\"5aed927e-ebd4-4803-82a3-729dadf97859\",\"subtype\":\"Figure\",\"type\":\"Plot\"},\"ticker\":{\"id\":\"45039d19-7cf3-415c-ada9-5e078b5fc821\",\"type\":\"BasicTicker\"}},\"id\":\"131dd31b-1479-4dab-a963-2b7ca7671cf7\",\"type\":\"Grid\"},{\"attributes\":{\"callback\":null,\"column_names\":[\"x\",\"y\"],\"data\":{\"x\":[0,1,2,3,4,5,6,7,8,9,10,11,12,13,14,15,16,17,18,19,20,21,22,23,24,25,26,27,28,29,30,31,32,33,34,35,36,37,38,39,40,41,42,43,44,45,46,47,48,49,50,51,52,53,54,55,56,57,58,59,60,61,62,63,64,65,66,67,68,69,70,71,72,73,74,75,76,77,78,79,80],\"y\":{\"__ndarray__\":\"4oMEPtoK+8Dr5zykmRn6P/LIwk8Wnd0/cdJZYlzfOcAIP5nXT1f4wOIoXx17fRTBCpqlVlMsQMFB2J6MLQcxwdqvA0bwX/s/Dnz3g+VS+z/LsM0V5Uz7P4PxsfjDS/s/skh1J3ZL+z/Igg+oPkv7P+NShLgyS/s/NzKhyg5L+z+jyA1I7Er7P2vX8r0DS/s/LpOORdZK+z+1wz8k30r7P9b4qKa4Svs/+P6m8elK+z9WfQtIx0r7PyLL0I/JSvs/KXi2idZK+z9jwkgV2Er7PyoOgazVSvs/ckmmPMRK+z8uZjFy3Ur7P9tLMbDDSvs/8/0GivdK+z+bYSi93Ur7P2O4/Q33Svs//UqCOjdL+z+TullNSEv7P4RomDZpS/s/bk6Eqo9L+z9gr1PVvkv7Py9MtVQWTPs/olKkqAhM+z8Jqk1XZ0z7P7MxvAriTPs/Nr4BljNN+z+hZQAWPw/6P8N2ntEqTvs/gt3yDLZP+z+Ij1gd3VH7P3TUAayxQ/0/hpNl089X+z94HCCD+Vj7PyjIGRPDXPs/gfkrITNe+z+QXO/wzWD7PzWhD4slZfs/rntSuOdm+z8eQtIGi1sxwU0pBE/JUCzBUgEwgCMrOMFxLraD8RlBwRRHYGVlUinBhH5zkjAoK8Giq2rTDY0SwVdKlXtl8ALBZqR9MIrSBsECM92z1FQEwWltV+8pOAfBxoVUIuC29MBpWTqMynL6P1prWUxng/rALj3GwmYf+T9JsZfgRzj6P7eAfMqX0/k/pCNF+RxH+z8z9oMnZcv3P1nzcxb8puvAXe6TmMtHDsGMV/ndYV0HweAV20QPFCDBNvwkMUTkR8F4z7kmYWr7P2IZCwr2Xfs/\",\"dtype\":\"float64\",\"shape\":[81]}}},\"id\":\"95e77066-3280-4d19-8851-efb9d62e3bb7\",\"type\":\"ColumnDataSource\"},{\"attributes\":{},\"id\":\"5181d2ec-ca29-4271-8e70-e43d5ed4ce60\",\"type\":\"LinearScale\"},{\"attributes\":{\"formatter\":{\"id\":\"7462cca4-497a-45d2-a1d9-6d4367920b57\",\"type\":\"BasicTickFormatter\"},\"plot\":{\"id\":\"5aed927e-ebd4-4803-82a3-729dadf97859\",\"subtype\":\"Figure\",\"type\":\"Plot\"},\"ticker\":{\"id\":\"c581dad1-0006-4605-b19a-481531430b24\",\"type\":\"BasicTicker\"}},\"id\":\"4029a7be-ed4c-4043-a949-5056f6f4a771\",\"type\":\"LinearAxis\"},{\"attributes\":{},\"id\":\"464a136b-2646-4498-b197-bd6a6074ebac\",\"type\":\"WheelZoomTool\"},{\"attributes\":{\"source\":{\"id\":\"95e77066-3280-4d19-8851-efb9d62e3bb7\",\"type\":\"ColumnDataSource\"}},\"id\":\"1403d89e-7392-4258-93a5-3bb022fddc0a\",\"type\":\"CDSView\"},{\"attributes\":{\"fill_alpha\":{\"value\":0.1},\"fill_color\":{\"value\":\"#1f77b4\"},\"line_alpha\":{\"value\":0.1},\"line_color\":{\"value\":\"#1f77b4\"},\"x\":{\"field\":\"x\"},\"y\":{\"field\":\"y\"}},\"id\":\"2a2b393a-1bf5-4cd7-8890-f13e150bb136\",\"type\":\"Circle\"},{\"attributes\":{\"fill_color\":{\"value\":\"red\"},\"line_color\":{\"value\":\"red\"},\"x\":{\"field\":\"x\"},\"y\":{\"field\":\"y\"}},\"id\":\"f8062373-3fbd-4305-8e12-8ed540b7eba5\",\"type\":\"Circle\"},{\"attributes\":{\"active_drag\":\"auto\",\"active_inspect\":\"auto\",\"active_scroll\":\"auto\",\"active_tap\":\"auto\",\"tools\":[{\"id\":\"34ea0385-e15d-4c9c-b527-834694f75be3\",\"type\":\"PanTool\"},{\"id\":\"464a136b-2646-4498-b197-bd6a6074ebac\",\"type\":\"WheelZoomTool\"},{\"id\":\"ded94250-5988-4a37-860f-121de62f6b98\",\"type\":\"BoxZoomTool\"},{\"id\":\"1847e350-6eb3-4da6-806e-c58953f58b5c\",\"type\":\"SaveTool\"},{\"id\":\"bae37632-1234-4729-a0e9-55acd2b77f01\",\"type\":\"ResetTool\"},{\"id\":\"b1d662f4-6e07-4ffe-9d79-ee8249bf3b7c\",\"type\":\"HelpTool\"}]},\"id\":\"a0e15ab6-5236-48cd-b9dd-8e8de9d93210\",\"type\":\"Toolbar\"},{\"attributes\":{\"data_source\":{\"id\":\"95e77066-3280-4d19-8851-efb9d62e3bb7\",\"type\":\"ColumnDataSource\"},\"glyph\":{\"id\":\"f8062373-3fbd-4305-8e12-8ed540b7eba5\",\"type\":\"Circle\"},\"hover_glyph\":null,\"muted_glyph\":null,\"nonselection_glyph\":{\"id\":\"2a2b393a-1bf5-4cd7-8890-f13e150bb136\",\"type\":\"Circle\"},\"selection_glyph\":null,\"view\":{\"id\":\"1403d89e-7392-4258-93a5-3bb022fddc0a\",\"type\":\"CDSView\"}},\"id\":\"088a5dcb-787a-4a3b-8364-dfaa11e28a47\",\"type\":\"GlyphRenderer\"},{\"attributes\":{\"dimension\":1,\"plot\":{\"id\":\"5aed927e-ebd4-4803-82a3-729dadf97859\",\"subtype\":\"Figure\",\"type\":\"Plot\"},\"ticker\":{\"id\":\"c581dad1-0006-4605-b19a-481531430b24\",\"type\":\"BasicTicker\"}},\"id\":\"cb60ce19-0f0d-474b-b9d1-8b6416435810\",\"type\":\"Grid\"},{\"attributes\":{},\"id\":\"b1d662f4-6e07-4ffe-9d79-ee8249bf3b7c\",\"type\":\"HelpTool\"},{\"attributes\":{},\"id\":\"b32094f4-8a93-46d4-961b-5b3f95c88433\",\"type\":\"BasicTickFormatter\"},{\"attributes\":{\"bottom_units\":\"screen\",\"fill_alpha\":{\"value\":0.5},\"fill_color\":{\"value\":\"lightgrey\"},\"left_units\":\"screen\",\"level\":\"overlay\",\"line_alpha\":{\"value\":1.0},\"line_color\":{\"value\":\"black\"},\"line_dash\":[4,4],\"line_width\":{\"value\":2},\"plot\":null,\"render_mode\":\"css\",\"right_units\":\"screen\",\"top_units\":\"screen\"},\"id\":\"5637639a-65aa-4e38-89c0-629e3b42a1ea\",\"type\":\"BoxAnnotation\"},{\"attributes\":{\"plot\":null,\"text\":\"\"},\"id\":\"42968095-fb34-4638-aa97-04dfeca6a7bd\",\"type\":\"Title\"},{\"attributes\":{},\"id\":\"45039d19-7cf3-415c-ada9-5e078b5fc821\",\"type\":\"BasicTicker\"},{\"attributes\":{\"data_source\":{\"id\":\"ce2a4b13-bef3-4ec6-afd5-bca0a05e42ed\",\"type\":\"ColumnDataSource\"},\"glyph\":{\"id\":\"cd5f35d7-608c-414d-86c6-128ed9095a53\",\"type\":\"Circle\"},\"hover_glyph\":null,\"muted_glyph\":null,\"nonselection_glyph\":{\"id\":\"a3d62f31-4a07-4ea9-acbe-b47a0b4942d1\",\"type\":\"Circle\"},\"selection_glyph\":null,\"view\":{\"id\":\"a7187801-88f1-410e-b018-9c36faa6009f\",\"type\":\"CDSView\"}},\"id\":\"4e304f6d-dd9c-4554-9a27-e136e0cf7f51\",\"type\":\"GlyphRenderer\"},{\"attributes\":{\"below\":[{\"id\":\"55e79f37-31d1-4114-861f-0614c1ae9100\",\"type\":\"LinearAxis\"}],\"left\":[{\"id\":\"4029a7be-ed4c-4043-a949-5056f6f4a771\",\"type\":\"LinearAxis\"}],\"renderers\":[{\"id\":\"55e79f37-31d1-4114-861f-0614c1ae9100\",\"type\":\"LinearAxis\"},{\"id\":\"131dd31b-1479-4dab-a963-2b7ca7671cf7\",\"type\":\"Grid\"},{\"id\":\"4029a7be-ed4c-4043-a949-5056f6f4a771\",\"type\":\"LinearAxis\"},{\"id\":\"cb60ce19-0f0d-474b-b9d1-8b6416435810\",\"type\":\"Grid\"},{\"id\":\"5637639a-65aa-4e38-89c0-629e3b42a1ea\",\"type\":\"BoxAnnotation\"},{\"id\":\"4e304f6d-dd9c-4554-9a27-e136e0cf7f51\",\"type\":\"GlyphRenderer\"},{\"id\":\"088a5dcb-787a-4a3b-8364-dfaa11e28a47\",\"type\":\"GlyphRenderer\"}],\"title\":{\"id\":\"42968095-fb34-4638-aa97-04dfeca6a7bd\",\"type\":\"Title\"},\"toolbar\":{\"id\":\"a0e15ab6-5236-48cd-b9dd-8e8de9d93210\",\"type\":\"Toolbar\"},\"x_range\":{\"id\":\"cf6e03a1-588c-4250-a4e3-a19c00d930dc\",\"type\":\"DataRange1d\"},\"x_scale\":{\"id\":\"f64a44eb-141d-4cbd-8d80-8d01d510a432\",\"type\":\"LinearScale\"},\"y_range\":{\"id\":\"6f868a2a-7bc9-4b4d-ae32-431e4bf9ae9d\",\"type\":\"Range1d\"},\"y_scale\":{\"id\":\"5181d2ec-ca29-4271-8e70-e43d5ed4ce60\",\"type\":\"LinearScale\"}},\"id\":\"5aed927e-ebd4-4803-82a3-729dadf97859\",\"subtype\":\"Figure\",\"type\":\"Plot\"},{\"attributes\":{\"overlay\":{\"id\":\"5637639a-65aa-4e38-89c0-629e3b42a1ea\",\"type\":\"BoxAnnotation\"}},\"id\":\"ded94250-5988-4a37-860f-121de62f6b98\",\"type\":\"BoxZoomTool\"},{\"attributes\":{\"source\":{\"id\":\"ce2a4b13-bef3-4ec6-afd5-bca0a05e42ed\",\"type\":\"ColumnDataSource\"}},\"id\":\"a7187801-88f1-410e-b018-9c36faa6009f\",\"type\":\"CDSView\"},{\"attributes\":{},\"id\":\"34ea0385-e15d-4c9c-b527-834694f75be3\",\"type\":\"PanTool\"},{\"attributes\":{},\"id\":\"7462cca4-497a-45d2-a1d9-6d4367920b57\",\"type\":\"BasicTickFormatter\"},{\"attributes\":{\"callback\":null},\"id\":\"cf6e03a1-588c-4250-a4e3-a19c00d930dc\",\"type\":\"DataRange1d\"}],\"root_ids\":[\"5aed927e-ebd4-4803-82a3-729dadf97859\"]},\"title\":\"Bokeh Application\",\"version\":\"0.12.14\"}};\n",
       "  var render_items = [{\"docid\":\"f99c865f-5f6d-4cd0-bbaf-6b4907a6ad5a\",\"elementid\":\"aaa19e8a-2e98-48a0-ae2d-27981f30c4a5\",\"modelid\":\"5aed927e-ebd4-4803-82a3-729dadf97859\"}];\n",
       "  root.Bokeh.embed.embed_items_notebook(docs_json, render_items);\n",
       "\n",
       "  }\n",
       "  if (root.Bokeh !== undefined) {\n",
       "    embed_document(root);\n",
       "  } else {\n",
       "    var attempts = 0;\n",
       "    var timer = setInterval(function(root) {\n",
       "      if (root.Bokeh !== undefined) {\n",
       "        embed_document(root);\n",
       "        clearInterval(timer);\n",
       "      }\n",
       "      attempts++;\n",
       "      if (attempts > 100) {\n",
       "        console.log(\"Bokeh: ERROR: Unable to run BokehJS code because BokehJS library is missing\")\n",
       "        clearInterval(timer);\n",
       "      }\n",
       "    }, 10, root)\n",
       "  }\n",
       "})(window);"
      ],
      "application/vnd.bokehjs_exec.v0+json": ""
     },
     "metadata": {
      "application/vnd.bokehjs_exec.v0+json": {
       "id": "5aed927e-ebd4-4803-82a3-729dadf97859"
      }
     },
     "output_type": "display_data"
    }
   ],
   "source": [
    "p = figure(y_range=(1.705, 1.71))\n",
    "xxx = np.arange(0,81,1)\n",
    "p.scatter(xxx, a_energies_sm)\n",
    "p.scatter(xxx, a_energies_sp, color='red')\n",
    "show(p)"
   ]
  },
  {
   "cell_type": "code",
   "execution_count": null,
   "metadata": {},
   "outputs": [],
   "source": []
  },
  {
   "cell_type": "code",
   "execution_count": 241,
   "metadata": {},
   "outputs": [
    {
     "name": "stdout",
     "output_type": "stream",
     "text": [
      "0.0015304861456348906\n",
      "25.138714212995822\n",
      "10.293726656418013\n"
     ]
    },
    {
     "data": {
      "text/html": [
       "\n",
       "<div class=\"bk-root\">\n",
       "    <div class=\"bk-plotdiv\" id=\"b653f833-bbd7-4652-8262-58530deb0082\"></div>\n",
       "</div>"
      ]
     },
     "metadata": {},
     "output_type": "display_data"
    },
    {
     "data": {
      "application/javascript": [
       "(function(root) {\n",
       "  function embed_document(root) {\n",
       "    \n",
       "  var docs_json = {\"48565e99-9b51-4615-8913-6ad99ce54ff3\":{\"roots\":{\"references\":[{\"attributes\":{\"source\":{\"id\":\"67e0557d-fbf6-4942-9d25-fd7c410759ca\",\"type\":\"ColumnDataSource\"}},\"id\":\"d0ec6daa-42b9-4f4b-aed9-f09fee1b3129\",\"type\":\"CDSView\"},{\"attributes\":{\"callback\":null},\"id\":\"158a8400-b1f7-49cf-b603-7d44b84ac2b4\",\"type\":\"DataRange1d\"},{\"attributes\":{\"fill_alpha\":{\"value\":0.1},\"fill_color\":{\"value\":\"#1f77b4\"},\"line_alpha\":{\"value\":0.1},\"line_color\":{\"value\":\"#1f77b4\"},\"x\":{\"field\":\"x\"},\"y\":{\"field\":\"y\"}},\"id\":\"15f6414c-ed82-40a2-9218-a9d83ee476c9\",\"type\":\"Circle\"},{\"attributes\":{\"plot\":{\"id\":\"ddcc497d-2506-4008-8ed8-ff9fb8708271\",\"subtype\":\"Figure\",\"type\":\"Plot\"},\"ticker\":{\"id\":\"fff76753-5faf-4a88-a7fd-20c89532760c\",\"type\":\"BasicTicker\"}},\"id\":\"09bcffbf-b49f-44f1-ab07-347d4f573a29\",\"type\":\"Grid\"},{\"attributes\":{\"source\":{\"id\":\"a172574c-0e62-4490-a418-b19e7140477a\",\"type\":\"ColumnDataSource\"}},\"id\":\"568584de-4a8a-42a9-b688-e51d41eb1c49\",\"type\":\"CDSView\"},{\"attributes\":{\"dimension\":1,\"plot\":{\"id\":\"ddcc497d-2506-4008-8ed8-ff9fb8708271\",\"subtype\":\"Figure\",\"type\":\"Plot\"},\"ticker\":{\"id\":\"9362f220-8259-4561-a218-b6a85a01db99\",\"type\":\"BasicTicker\"}},\"id\":\"d76bbb82-9a5d-4b0a-8170-c8a05db72961\",\"type\":\"Grid\"},{\"attributes\":{},\"id\":\"0e98db65-c403-4dfa-bc39-fe020550dac2\",\"type\":\"PanTool\"},{\"attributes\":{\"line_alpha\":0.1,\"line_color\":\"#1f77b4\",\"x\":{\"field\":\"x\"},\"y\":{\"field\":\"y\"}},\"id\":\"bf292d8d-66dd-4293-a0ed-158ab0fbe0a0\",\"type\":\"Line\"},{\"attributes\":{\"fill_color\":{\"value\":\"#1f77b4\"},\"line_color\":{\"value\":\"#1f77b4\"},\"x\":{\"field\":\"x\"},\"y\":{\"field\":\"y\"}},\"id\":\"82f3c267-e776-4724-80b1-e2407438e670\",\"type\":\"Circle\"},{\"attributes\":{\"line_alpha\":0.1,\"line_color\":\"#1f77b4\",\"x\":{\"field\":\"x\"},\"y\":{\"field\":\"y\"}},\"id\":\"36833370-2783-45ea-abf3-1948595ae67c\",\"type\":\"Line\"},{\"attributes\":{},\"id\":\"0d766a36-9358-44dd-b2b5-f2f57ab67589\",\"type\":\"SaveTool\"},{\"attributes\":{\"source\":{\"id\":\"20b56ca1-cb5d-4e49-b28d-089b284b2ad5\",\"type\":\"ColumnDataSource\"}},\"id\":\"4377ffd4-90d4-4cc8-934b-4408a45c9644\",\"type\":\"CDSView\"},{\"attributes\":{\"callback\":null,\"column_names\":[\"x\",\"y\"],\"data\":{\"x\":{\"__ndarray__\":\"/BvJocbCJr/6z7bXCFkuv/xB0oal9zK//BvJocbCNr/79b+85406v/rPttcIWT6/\",\"dtype\":\"float64\",\"shape\":[6]},\"y\":{\"__ndarray__\":\"4r0NjyVj+j++Um5j52f6P5rnzjepbPo/dnwvDGtx+j9SEZDgLHb6Py6m8LTuevo/\",\"dtype\":\"float64\",\"shape\":[6]}}},\"id\":\"67e0557d-fbf6-4942-9d25-fd7c410759ca\",\"type\":\"ColumnDataSource\"},{\"attributes\":{\"active_drag\":\"auto\",\"active_inspect\":\"auto\",\"active_scroll\":\"auto\",\"active_tap\":\"auto\",\"tools\":[{\"id\":\"0e98db65-c403-4dfa-bc39-fe020550dac2\",\"type\":\"PanTool\"},{\"id\":\"0ec2d6fd-7b99-4601-bde9-910968827edf\",\"type\":\"WheelZoomTool\"},{\"id\":\"c2c718ab-aaf7-480d-94e9-c69594f32735\",\"type\":\"BoxZoomTool\"},{\"id\":\"0d766a36-9358-44dd-b2b5-f2f57ab67589\",\"type\":\"SaveTool\"},{\"id\":\"8cad6b76-84ef-47f7-a37b-62385b769aa4\",\"type\":\"ResetTool\"},{\"id\":\"c6e04480-a8f7-4143-b7e5-6454b3160b60\",\"type\":\"HelpTool\"}]},\"id\":\"504d31db-e2c8-4e5f-b635-71cfc3fd1615\",\"type\":\"Toolbar\"},{\"attributes\":{\"data_source\":{\"id\":\"20b56ca1-cb5d-4e49-b28d-089b284b2ad5\",\"type\":\"ColumnDataSource\"},\"glyph\":{\"id\":\"c35e1105-179b-4de6-bb9a-afdd3657130f\",\"type\":\"Circle\"},\"hover_glyph\":null,\"muted_glyph\":null,\"nonselection_glyph\":{\"id\":\"15f6414c-ed82-40a2-9218-a9d83ee476c9\",\"type\":\"Circle\"},\"selection_glyph\":null,\"view\":{\"id\":\"4377ffd4-90d4-4cc8-934b-4408a45c9644\",\"type\":\"CDSView\"}},\"id\":\"bde9d917-3ede-45ba-9bf9-5a5fb6dfdee6\",\"type\":\"GlyphRenderer\"},{\"attributes\":{},\"id\":\"5319ee35-2073-41c1-935a-7b0790fc44b0\",\"type\":\"LinearScale\"},{\"attributes\":{},\"id\":\"0ec2d6fd-7b99-4601-bde9-910968827edf\",\"type\":\"WheelZoomTool\"},{\"attributes\":{\"callback\":null,\"column_names\":[\"x\",\"y\"],\"data\":{\"x\":{\"__ndarray__\":\"/BvJocbCJr/6z7bXCFkuv/xB0oal9zK//BvJocbCNr/79b+85406v/rPttcIWT6/\",\"dtype\":\"float64\",\"shape\":[6]},\"y\":{\"__ndarray__\":\"4X8XM+9a+j9HJaoDO2v6P3ef0aNObPo/knRNuAt8+j905SuPvH36P5GN7qn7bfo/\",\"dtype\":\"float64\",\"shape\":[6]}}},\"id\":\"8dbedd5a-be32-4e6d-82e2-6abc6e4ac5f0\",\"type\":\"ColumnDataSource\"},{\"attributes\":{},\"id\":\"8cad6b76-84ef-47f7-a37b-62385b769aa4\",\"type\":\"ResetTool\"},{\"attributes\":{\"formatter\":{\"id\":\"6c5286f0-cce1-4bfc-bae4-98b42bb220b6\",\"type\":\"BasicTickFormatter\"},\"plot\":{\"id\":\"ddcc497d-2506-4008-8ed8-ff9fb8708271\",\"subtype\":\"Figure\",\"type\":\"Plot\"},\"ticker\":{\"id\":\"9362f220-8259-4561-a218-b6a85a01db99\",\"type\":\"BasicTicker\"}},\"id\":\"23bf34c4-e8e3-4670-8929-d488b7c44630\",\"type\":\"LinearAxis\"},{\"attributes\":{},\"id\":\"d4101d57-8285-43b7-bc0d-c8bcb16ab2d8\",\"type\":\"LinearScale\"},{\"attributes\":{\"data_source\":{\"id\":\"a172574c-0e62-4490-a418-b19e7140477a\",\"type\":\"ColumnDataSource\"},\"glyph\":{\"id\":\"f9b04a05-ff83-4cc4-b6a5-131fe5cef624\",\"type\":\"Line\"},\"hover_glyph\":null,\"muted_glyph\":null,\"nonselection_glyph\":{\"id\":\"bf292d8d-66dd-4293-a0ed-158ab0fbe0a0\",\"type\":\"Line\"},\"selection_glyph\":null,\"view\":{\"id\":\"568584de-4a8a-42a9-b688-e51d41eb1c49\",\"type\":\"CDSView\"}},\"id\":\"21b6b11b-74d6-4591-8fcb-dd16f22ce687\",\"type\":\"GlyphRenderer\"},{\"attributes\":{},\"id\":\"c6e04480-a8f7-4143-b7e5-6454b3160b60\",\"type\":\"HelpTool\"},{\"attributes\":{\"data_source\":{\"id\":\"8dbedd5a-be32-4e6d-82e2-6abc6e4ac5f0\",\"type\":\"ColumnDataSource\"},\"glyph\":{\"id\":\"82f3c267-e776-4724-80b1-e2407438e670\",\"type\":\"Circle\"},\"hover_glyph\":null,\"muted_glyph\":null,\"nonselection_glyph\":{\"id\":\"944bc217-6bd5-475c-b2b6-5ebb7b88fee4\",\"type\":\"Circle\"},\"selection_glyph\":null,\"view\":{\"id\":\"a04c0880-06bb-4bb2-a355-803d4c9a23e5\",\"type\":\"CDSView\"}},\"id\":\"7710b239-a394-4a23-b27e-52b2478c6d1f\",\"type\":\"GlyphRenderer\"},{\"attributes\":{\"callback\":null},\"id\":\"7245f542-c47a-4b2f-8255-1ca0c738aac9\",\"type\":\"DataRange1d\"},{\"attributes\":{\"fill_alpha\":{\"value\":0.1},\"fill_color\":{\"value\":\"#1f77b4\"},\"line_alpha\":{\"value\":0.1},\"line_color\":{\"value\":\"#1f77b4\"},\"x\":{\"field\":\"x\"},\"y\":{\"field\":\"y\"}},\"id\":\"944bc217-6bd5-475c-b2b6-5ebb7b88fee4\",\"type\":\"Circle\"},{\"attributes\":{\"plot\":null,\"text\":\"\"},\"id\":\"6b8ac87c-7912-4106-999a-4e23b0a63e86\",\"type\":\"Title\"},{\"attributes\":{\"callback\":null,\"column_names\":[\"x\",\"y\"],\"data\":{\"x\":{\"__ndarray__\":\"/BvJocbCJr/6z7bXCFkuv/xB0oal9zK//BvJocbCNr/79b+85406v/rPttcIWT6/\",\"dtype\":\"float64\",\"shape\":[6]},\"y\":{\"__ndarray__\":\"7JwR7fNX+j9DzbGALlb6PzU1GuidVPo/pYlJ8vJT+j954Telv1L6P2IBRzq6Ufo/\",\"dtype\":\"float64\",\"shape\":[6]}}},\"id\":\"20b56ca1-cb5d-4e49-b28d-089b284b2ad5\",\"type\":\"ColumnDataSource\"},{\"attributes\":{\"overlay\":{\"id\":\"fa841739-d11b-44eb-9123-bb651ac17b51\",\"type\":\"BoxAnnotation\"}},\"id\":\"c2c718ab-aaf7-480d-94e9-c69594f32735\",\"type\":\"BoxZoomTool\"},{\"attributes\":{\"formatter\":{\"id\":\"1d8bb913-ca46-471e-ba3a-97bdd9f2080c\",\"type\":\"BasicTickFormatter\"},\"plot\":{\"id\":\"ddcc497d-2506-4008-8ed8-ff9fb8708271\",\"subtype\":\"Figure\",\"type\":\"Plot\"},\"ticker\":{\"id\":\"fff76753-5faf-4a88-a7fd-20c89532760c\",\"type\":\"BasicTicker\"}},\"id\":\"12d1bb40-c8b4-4c18-bc40-42fde95e6cd0\",\"type\":\"LinearAxis\"},{\"attributes\":{},\"id\":\"1d8bb913-ca46-471e-ba3a-97bdd9f2080c\",\"type\":\"BasicTickFormatter\"},{\"attributes\":{\"source\":{\"id\":\"8dbedd5a-be32-4e6d-82e2-6abc6e4ac5f0\",\"type\":\"ColumnDataSource\"}},\"id\":\"a04c0880-06bb-4bb2-a355-803d4c9a23e5\",\"type\":\"CDSView\"},{\"attributes\":{\"bottom_units\":\"screen\",\"fill_alpha\":{\"value\":0.5},\"fill_color\":{\"value\":\"lightgrey\"},\"left_units\":\"screen\",\"level\":\"overlay\",\"line_alpha\":{\"value\":1.0},\"line_color\":{\"value\":\"black\"},\"line_dash\":[4,4],\"line_width\":{\"value\":2},\"plot\":null,\"render_mode\":\"css\",\"right_units\":\"screen\",\"top_units\":\"screen\"},\"id\":\"fa841739-d11b-44eb-9123-bb651ac17b51\",\"type\":\"BoxAnnotation\"},{\"attributes\":{},\"id\":\"fff76753-5faf-4a88-a7fd-20c89532760c\",\"type\":\"BasicTicker\"},{\"attributes\":{\"line_color\":\"red\",\"x\":{\"field\":\"x\"},\"y\":{\"field\":\"y\"}},\"id\":\"9d8cc91a-f041-4eca-9c25-8dfa3613af16\",\"type\":\"Line\"},{\"attributes\":{},\"id\":\"6c5286f0-cce1-4bfc-bae4-98b42bb220b6\",\"type\":\"BasicTickFormatter\"},{\"attributes\":{\"line_color\":\"green\",\"x\":{\"field\":\"x\"},\"y\":{\"field\":\"y\"}},\"id\":\"f9b04a05-ff83-4cc4-b6a5-131fe5cef624\",\"type\":\"Line\"},{\"attributes\":{},\"id\":\"9362f220-8259-4561-a218-b6a85a01db99\",\"type\":\"BasicTicker\"},{\"attributes\":{\"below\":[{\"id\":\"12d1bb40-c8b4-4c18-bc40-42fde95e6cd0\",\"type\":\"LinearAxis\"}],\"left\":[{\"id\":\"23bf34c4-e8e3-4670-8929-d488b7c44630\",\"type\":\"LinearAxis\"}],\"renderers\":[{\"id\":\"12d1bb40-c8b4-4c18-bc40-42fde95e6cd0\",\"type\":\"LinearAxis\"},{\"id\":\"09bcffbf-b49f-44f1-ab07-347d4f573a29\",\"type\":\"Grid\"},{\"id\":\"23bf34c4-e8e3-4670-8929-d488b7c44630\",\"type\":\"LinearAxis\"},{\"id\":\"d76bbb82-9a5d-4b0a-8170-c8a05db72961\",\"type\":\"Grid\"},{\"id\":\"fa841739-d11b-44eb-9123-bb651ac17b51\",\"type\":\"BoxAnnotation\"},{\"id\":\"7710b239-a394-4a23-b27e-52b2478c6d1f\",\"type\":\"GlyphRenderer\"},{\"id\":\"94b60658-3fc7-4f81-a307-bfe1a3131f0d\",\"type\":\"GlyphRenderer\"},{\"id\":\"bde9d917-3ede-45ba-9bf9-5a5fb6dfdee6\",\"type\":\"GlyphRenderer\"},{\"id\":\"21b6b11b-74d6-4591-8fcb-dd16f22ce687\",\"type\":\"GlyphRenderer\"}],\"title\":{\"id\":\"6b8ac87c-7912-4106-999a-4e23b0a63e86\",\"type\":\"Title\"},\"toolbar\":{\"id\":\"504d31db-e2c8-4e5f-b635-71cfc3fd1615\",\"type\":\"Toolbar\"},\"x_range\":{\"id\":\"158a8400-b1f7-49cf-b603-7d44b84ac2b4\",\"type\":\"DataRange1d\"},\"x_scale\":{\"id\":\"5319ee35-2073-41c1-935a-7b0790fc44b0\",\"type\":\"LinearScale\"},\"y_range\":{\"id\":\"7245f542-c47a-4b2f-8255-1ca0c738aac9\",\"type\":\"DataRange1d\"},\"y_scale\":{\"id\":\"d4101d57-8285-43b7-bc0d-c8bcb16ab2d8\",\"type\":\"LinearScale\"}},\"id\":\"ddcc497d-2506-4008-8ed8-ff9fb8708271\",\"subtype\":\"Figure\",\"type\":\"Plot\"},{\"attributes\":{\"fill_color\":{\"value\":\"#1f77b4\"},\"line_color\":{\"value\":\"#1f77b4\"},\"x\":{\"field\":\"x\"},\"y\":{\"field\":\"y\"}},\"id\":\"c35e1105-179b-4de6-bb9a-afdd3657130f\",\"type\":\"Circle\"},{\"attributes\":{\"data_source\":{\"id\":\"67e0557d-fbf6-4942-9d25-fd7c410759ca\",\"type\":\"ColumnDataSource\"},\"glyph\":{\"id\":\"9d8cc91a-f041-4eca-9c25-8dfa3613af16\",\"type\":\"Line\"},\"hover_glyph\":null,\"muted_glyph\":null,\"nonselection_glyph\":{\"id\":\"36833370-2783-45ea-abf3-1948595ae67c\",\"type\":\"Line\"},\"selection_glyph\":null,\"view\":{\"id\":\"d0ec6daa-42b9-4f4b-aed9-f09fee1b3129\",\"type\":\"CDSView\"}},\"id\":\"94b60658-3fc7-4f81-a307-bfe1a3131f0d\",\"type\":\"GlyphRenderer\"},{\"attributes\":{\"callback\":null,\"column_names\":[\"x\",\"y\"],\"data\":{\"x\":{\"__ndarray__\":\"/BvJocbCJr/6z7bXCFkuv/xB0oal9zK//BvJocbCNr/79b+85406v/rPttcIWT6/\",\"dtype\":\"float64\",\"shape\":[6]},\"y\":{\"__ndarray__\":\"Z37oPYlX+j9N9/xaVVb6PzJwEXghVfo/GOklle1T+j/9YTqyuVL6P+PaTs+FUfo/\",\"dtype\":\"float64\",\"shape\":[6]}}},\"id\":\"a172574c-0e62-4490-a418-b19e7140477a\",\"type\":\"ColumnDataSource\"}],\"root_ids\":[\"ddcc497d-2506-4008-8ed8-ff9fb8708271\"]},\"title\":\"Bokeh Application\",\"version\":\"0.12.14\"}};\n",
       "  var render_items = [{\"docid\":\"48565e99-9b51-4615-8913-6ad99ce54ff3\",\"elementid\":\"b653f833-bbd7-4652-8262-58530deb0082\",\"modelid\":\"ddcc497d-2506-4008-8ed8-ff9fb8708271\"}];\n",
       "  root.Bokeh.embed.embed_items_notebook(docs_json, render_items);\n",
       "\n",
       "  }\n",
       "  if (root.Bokeh !== undefined) {\n",
       "    embed_document(root);\n",
       "  } else {\n",
       "    var attempts = 0;\n",
       "    var timer = setInterval(function(root) {\n",
       "      if (root.Bokeh !== undefined) {\n",
       "        embed_document(root);\n",
       "        clearInterval(timer);\n",
       "      }\n",
       "      attempts++;\n",
       "      if (attempts > 100) {\n",
       "        console.log(\"Bokeh: ERROR: Unable to run BokehJS code because BokehJS library is missing\")\n",
       "        clearInterval(timer);\n",
       "      }\n",
       "    }, 10, root)\n",
       "  }\n",
       "})(window);"
      ],
      "application/vnd.bokehjs_exec.v0+json": ""
     },
     "metadata": {
      "application/vnd.bokehjs_exec.v0+json": {
       "id": "ddcc497d-2506-4008-8ed8-ff9fb8708271"
      }
     },
     "output_type": "display_data"
    }
   ],
   "source": [
    "p = figure()\n",
    "slope, intercept, r_value, p_value, std_err = stats.linregress(np.arange(-3, -9, -1) * mu_b, a_energies_sm)\n",
    "teslas = np.arange(-3, -9, -1) * mu_b\n",
    "linear_sm = slope * teslas + intercept\n",
    "p.scatter(teslas, a_energies_sm)\n",
    "p.line(mu_b * np.arange(-3, -9, -1), linear_sm, color='red')\n",
    "slope_sm = slope\n",
    "offset_sm = intercept\n",
    "err_sm = std_err\n",
    "\n",
    "slope, intercept, r_value, p_value, std_err = stats.linregress(np.arange(-3, -9, -1) * mu_b, a_energies_sp)\n",
    "teslas = np.arange(-3, -9, -1) * mu_b\n",
    "linear_sp = slope * teslas + intercept\n",
    "p.scatter(teslas, a_energies_sp)\n",
    "p.line(mu_b * np.arange(-3, -9, -1), linear_sp, color='green')\n",
    "slope_sp = slope\n",
    "offset_sp = intercept\n",
    "err_sp = std_err\n",
    "\n",
    "g_factor = (slope_sp - slope_sm) + (offset_sp - offset_sm)\n",
    "print((offset_sp - offset_sm))\n",
    "print(g_factor)\n",
    "print(np.sqrt(err_sm**2 + err_sp**2))\n",
    "#plt.plot(calibration, y)\n",
    "show(p)"
   ]
  },
  {
   "cell_type": "code",
   "execution_count": null,
   "metadata": {},
   "outputs": [],
   "source": [
    "sweepVT_sigmap[:,15,:]"
   ]
  },
  {
   "cell_type": "code",
   "execution_count": null,
   "metadata": {},
   "outputs": [],
   "source": [
    "p = figure()\n",
    "p.line(calibration, spec)\n",
    "show(p)"
   ]
  }
 ],
 "metadata": {
  "kernelspec": {
   "display_name": "Python 3",
   "language": "python",
   "name": "python3"
  },
  "language_info": {
   "codemirror_mode": {
    "name": "ipython",
    "version": 3
   },
   "file_extension": ".py",
   "mimetype": "text/x-python",
   "name": "python",
   "nbconvert_exporter": "python",
   "pygments_lexer": "ipython3",
   "version": "3.6.4+"
  }
 },
 "nbformat": 4,
 "nbformat_minor": 2
}
