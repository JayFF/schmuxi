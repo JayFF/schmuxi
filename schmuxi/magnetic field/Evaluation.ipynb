{
 "cells": [
  {
   "cell_type": "code",
   "execution_count": 29,
   "metadata": {},
   "outputs": [],
   "source": [
    "import numpy as np\n",
    "import pandas as pd\n",
    "import matplotlib.pyplot as plt\n",
    "from scipy.optimize import curve_fit\n",
    "from glob import glob\n",
    "from bokeh.layouts import gridplot\n",
    "from bokeh.plotting import figure, show\n",
    "from bokeh.io import output_notebook\n",
    "from scipy import stats"
   ]
  },
  {
   "cell_type": "code",
   "execution_count": 30,
   "metadata": {},
   "outputs": [
    {
     "data": {
      "text/plain": [
       "5.7883818012e-05"
      ]
     },
     "execution_count": 30,
     "metadata": {},
     "output_type": "execute_result"
    }
   ],
   "source": [
    "mu_b = 5.7883818012 * 10**(-5)\n",
    "mu_b"
   ]
  },
  {
   "cell_type": "code",
   "execution_count": 31,
   "metadata": {},
   "outputs": [],
   "source": [
    "list_sweepVT = sorted(glob('*Voltage_Sweep.tsv.gz'))"
   ]
  },
  {
   "cell_type": "code",
   "execution_count": 32,
   "metadata": {},
   "outputs": [],
   "source": [
    "list_calibration = glob('*.wlen_to_px.tsv.gz')"
   ]
  },
  {
   "cell_type": "code",
   "execution_count": 33,
   "metadata": {},
   "outputs": [],
   "source": [
    "calibration = 1230.8 / (pd.read_csv(list_calibration[0], header=None).as_matrix().transpose())[0]"
   ]
  },
  {
   "cell_type": "code",
   "execution_count": 34,
   "metadata": {},
   "outputs": [],
   "source": [
    "sweepVT_sigmam = np.array([pd.read_csv(file, sep='\\t', header=None).as_matrix() for file in list_sweepVT[:9]])\n",
    "sweepVT_sigmap = np.array([pd.read_csv(file, sep='\\t', header=None).as_matrix() for file in list_sweepVT[9:]])"
   ]
  },
  {
   "cell_type": "code",
   "execution_count": 35,
   "metadata": {},
   "outputs": [
    {
     "data": {
      "text/plain": [
       "(9, 81, 1340)"
      ]
     },
     "execution_count": 35,
     "metadata": {},
     "output_type": "execute_result"
    }
   ],
   "source": [
    "np.shape(sweepVT_sigmam)\n"
   ]
  },
  {
   "cell_type": "code",
   "execution_count": 36,
   "metadata": {},
   "outputs": [
    {
     "data": {
      "text/plain": [
       "(9, 81, 1340)"
      ]
     },
     "execution_count": 36,
     "metadata": {},
     "output_type": "execute_result"
    }
   ],
   "source": [
    "np.shape(sweepVT_sigmap)"
   ]
  },
  {
   "cell_type": "code",
   "execution_count": 37,
   "metadata": {},
   "outputs": [
    {
     "data": {
      "text/plain": [
       "(1340,)"
      ]
     },
     "execution_count": 37,
     "metadata": {},
     "output_type": "execute_result"
    }
   ],
   "source": [
    "np.shape(sweepVT_sigmap[0,0,:])"
   ]
  },
  {
   "cell_type": "code",
   "execution_count": 38,
   "metadata": {},
   "outputs": [
    {
     "data": {
      "text/plain": [
       "array([1.85623947, 1.85587281, 1.85550909, ..., 1.47222415, 1.47199701,\n",
       "       1.47177171])"
      ]
     },
     "execution_count": 38,
     "metadata": {},
     "output_type": "execute_result"
    }
   ],
   "source": [
    "spec = sweepVT_sigmap[0,15,:]\n",
    "calibration"
   ]
  },
  {
   "cell_type": "code",
   "execution_count": 39,
   "metadata": {},
   "outputs": [
    {
     "data": {
      "text/html": [
       "\n",
       "    <div class=\"bk-root\">\n",
       "        <a href=\"https://bokeh.pydata.org\" target=\"_blank\" class=\"bk-logo bk-logo-small bk-logo-notebook\"></a>\n",
       "        <span id=\"679b4495-bc61-44e4-8330-6b0b5c46461d\">Loading BokehJS ...</span>\n",
       "    </div>"
      ]
     },
     "metadata": {},
     "output_type": "display_data"
    },
    {
     "data": {
      "application/javascript": [
       "\n",
       "(function(root) {\n",
       "  function now() {\n",
       "    return new Date();\n",
       "  }\n",
       "\n",
       "  var force = true;\n",
       "\n",
       "  if (typeof (root._bokeh_onload_callbacks) === \"undefined\" || force === true) {\n",
       "    root._bokeh_onload_callbacks = [];\n",
       "    root._bokeh_is_loading = undefined;\n",
       "  }\n",
       "\n",
       "  var JS_MIME_TYPE = 'application/javascript';\n",
       "  var HTML_MIME_TYPE = 'text/html';\n",
       "  var EXEC_MIME_TYPE = 'application/vnd.bokehjs_exec.v0+json';\n",
       "  var CLASS_NAME = 'output_bokeh rendered_html';\n",
       "\n",
       "  /**\n",
       "   * Render data to the DOM node\n",
       "   */\n",
       "  function render(props, node) {\n",
       "    var script = document.createElement(\"script\");\n",
       "    node.appendChild(script);\n",
       "  }\n",
       "\n",
       "  /**\n",
       "   * Handle when an output is cleared or removed\n",
       "   */\n",
       "  function handleClearOutput(event, handle) {\n",
       "    var cell = handle.cell;\n",
       "\n",
       "    var id = cell.output_area._bokeh_element_id;\n",
       "    var server_id = cell.output_area._bokeh_server_id;\n",
       "    // Clean up Bokeh references\n",
       "    if (id !== undefined) {\n",
       "      Bokeh.index[id].model.document.clear();\n",
       "      delete Bokeh.index[id];\n",
       "    }\n",
       "\n",
       "    if (server_id !== undefined) {\n",
       "      // Clean up Bokeh references\n",
       "      var cmd = \"from bokeh.io.state import curstate; print(curstate().uuid_to_server['\" + server_id + \"'].get_sessions()[0].document.roots[0]._id)\";\n",
       "      cell.notebook.kernel.execute(cmd, {\n",
       "        iopub: {\n",
       "          output: function(msg) {\n",
       "            var element_id = msg.content.text.trim();\n",
       "            Bokeh.index[element_id].model.document.clear();\n",
       "            delete Bokeh.index[element_id];\n",
       "          }\n",
       "        }\n",
       "      });\n",
       "      // Destroy server and session\n",
       "      var cmd = \"import bokeh.io.notebook as ion; ion.destroy_server('\" + server_id + \"')\";\n",
       "      cell.notebook.kernel.execute(cmd);\n",
       "    }\n",
       "  }\n",
       "\n",
       "  /**\n",
       "   * Handle when a new output is added\n",
       "   */\n",
       "  function handleAddOutput(event, handle) {\n",
       "    var output_area = handle.output_area;\n",
       "    var output = handle.output;\n",
       "\n",
       "    // limit handleAddOutput to display_data with EXEC_MIME_TYPE content only\n",
       "    if ((output.output_type != \"display_data\") || (!output.data.hasOwnProperty(EXEC_MIME_TYPE))) {\n",
       "      return\n",
       "    }\n",
       "\n",
       "    var toinsert = output_area.element.find(\".\" + CLASS_NAME.split(' ')[0]);\n",
       "\n",
       "    if (output.metadata[EXEC_MIME_TYPE][\"id\"] !== undefined) {\n",
       "      toinsert[0].firstChild.textContent = output.data[JS_MIME_TYPE];\n",
       "      // store reference to embed id on output_area\n",
       "      output_area._bokeh_element_id = output.metadata[EXEC_MIME_TYPE][\"id\"];\n",
       "    }\n",
       "    if (output.metadata[EXEC_MIME_TYPE][\"server_id\"] !== undefined) {\n",
       "      var bk_div = document.createElement(\"div\");\n",
       "      bk_div.innerHTML = output.data[HTML_MIME_TYPE];\n",
       "      var script_attrs = bk_div.children[0].attributes;\n",
       "      for (var i = 0; i < script_attrs.length; i++) {\n",
       "        toinsert[0].firstChild.setAttribute(script_attrs[i].name, script_attrs[i].value);\n",
       "      }\n",
       "      // store reference to server id on output_area\n",
       "      output_area._bokeh_server_id = output.metadata[EXEC_MIME_TYPE][\"server_id\"];\n",
       "    }\n",
       "  }\n",
       "\n",
       "  function register_renderer(events, OutputArea) {\n",
       "\n",
       "    function append_mime(data, metadata, element) {\n",
       "      // create a DOM node to render to\n",
       "      var toinsert = this.create_output_subarea(\n",
       "        metadata,\n",
       "        CLASS_NAME,\n",
       "        EXEC_MIME_TYPE\n",
       "      );\n",
       "      this.keyboard_manager.register_events(toinsert);\n",
       "      // Render to node\n",
       "      var props = {data: data, metadata: metadata[EXEC_MIME_TYPE]};\n",
       "      render(props, toinsert[0]);\n",
       "      element.append(toinsert);\n",
       "      return toinsert\n",
       "    }\n",
       "\n",
       "    /* Handle when an output is cleared or removed */\n",
       "    events.on('clear_output.CodeCell', handleClearOutput);\n",
       "    events.on('delete.Cell', handleClearOutput);\n",
       "\n",
       "    /* Handle when a new output is added */\n",
       "    events.on('output_added.OutputArea', handleAddOutput);\n",
       "\n",
       "    /**\n",
       "     * Register the mime type and append_mime function with output_area\n",
       "     */\n",
       "    OutputArea.prototype.register_mime_type(EXEC_MIME_TYPE, append_mime, {\n",
       "      /* Is output safe? */\n",
       "      safe: true,\n",
       "      /* Index of renderer in `output_area.display_order` */\n",
       "      index: 0\n",
       "    });\n",
       "  }\n",
       "\n",
       "  // register the mime type if in Jupyter Notebook environment and previously unregistered\n",
       "  if (root.Jupyter !== undefined) {\n",
       "    var events = require('base/js/events');\n",
       "    var OutputArea = require('notebook/js/outputarea').OutputArea;\n",
       "\n",
       "    if (OutputArea.prototype.mime_types().indexOf(EXEC_MIME_TYPE) == -1) {\n",
       "      register_renderer(events, OutputArea);\n",
       "    }\n",
       "  }\n",
       "\n",
       "  \n",
       "  if (typeof (root._bokeh_timeout) === \"undefined\" || force === true) {\n",
       "    root._bokeh_timeout = Date.now() + 5000;\n",
       "    root._bokeh_failed_load = false;\n",
       "  }\n",
       "\n",
       "  var NB_LOAD_WARNING = {'data': {'text/html':\n",
       "     \"<div style='background-color: #fdd'>\\n\"+\n",
       "     \"<p>\\n\"+\n",
       "     \"BokehJS does not appear to have successfully loaded. If loading BokehJS from CDN, this \\n\"+\n",
       "     \"may be due to a slow or bad network connection. Possible fixes:\\n\"+\n",
       "     \"</p>\\n\"+\n",
       "     \"<ul>\\n\"+\n",
       "     \"<li>re-rerun `output_notebook()` to attempt to load from CDN again, or</li>\\n\"+\n",
       "     \"<li>use INLINE resources instead, as so:</li>\\n\"+\n",
       "     \"</ul>\\n\"+\n",
       "     \"<code>\\n\"+\n",
       "     \"from bokeh.resources import INLINE\\n\"+\n",
       "     \"output_notebook(resources=INLINE)\\n\"+\n",
       "     \"</code>\\n\"+\n",
       "     \"</div>\"}};\n",
       "\n",
       "  function display_loaded() {\n",
       "    var el = document.getElementById(\"679b4495-bc61-44e4-8330-6b0b5c46461d\");\n",
       "    if (el != null) {\n",
       "      el.textContent = \"BokehJS is loading...\";\n",
       "    }\n",
       "    if (root.Bokeh !== undefined) {\n",
       "      if (el != null) {\n",
       "        el.textContent = \"BokehJS \" + root.Bokeh.version + \" successfully loaded.\";\n",
       "      }\n",
       "    } else if (Date.now() < root._bokeh_timeout) {\n",
       "      setTimeout(display_loaded, 100)\n",
       "    }\n",
       "  }\n",
       "\n",
       "\n",
       "  function run_callbacks() {\n",
       "    try {\n",
       "      root._bokeh_onload_callbacks.forEach(function(callback) { callback() });\n",
       "    }\n",
       "    finally {\n",
       "      delete root._bokeh_onload_callbacks\n",
       "    }\n",
       "    console.info(\"Bokeh: all callbacks have finished\");\n",
       "  }\n",
       "\n",
       "  function load_libs(js_urls, callback) {\n",
       "    root._bokeh_onload_callbacks.push(callback);\n",
       "    if (root._bokeh_is_loading > 0) {\n",
       "      console.log(\"Bokeh: BokehJS is being loaded, scheduling callback at\", now());\n",
       "      return null;\n",
       "    }\n",
       "    if (js_urls == null || js_urls.length === 0) {\n",
       "      run_callbacks();\n",
       "      return null;\n",
       "    }\n",
       "    console.log(\"Bokeh: BokehJS not loaded, scheduling load and callback at\", now());\n",
       "    root._bokeh_is_loading = js_urls.length;\n",
       "    for (var i = 0; i < js_urls.length; i++) {\n",
       "      var url = js_urls[i];\n",
       "      var s = document.createElement('script');\n",
       "      s.src = url;\n",
       "      s.async = false;\n",
       "      s.onreadystatechange = s.onload = function() {\n",
       "        root._bokeh_is_loading--;\n",
       "        if (root._bokeh_is_loading === 0) {\n",
       "          console.log(\"Bokeh: all BokehJS libraries loaded\");\n",
       "          run_callbacks()\n",
       "        }\n",
       "      };\n",
       "      s.onerror = function() {\n",
       "        console.warn(\"failed to load library \" + url);\n",
       "      };\n",
       "      console.log(\"Bokeh: injecting script tag for BokehJS library: \", url);\n",
       "      document.getElementsByTagName(\"head\")[0].appendChild(s);\n",
       "    }\n",
       "  };var element = document.getElementById(\"679b4495-bc61-44e4-8330-6b0b5c46461d\");\n",
       "  if (element == null) {\n",
       "    console.log(\"Bokeh: ERROR: autoload.js configured with elementid '679b4495-bc61-44e4-8330-6b0b5c46461d' but no matching script tag was found. \")\n",
       "    return false;\n",
       "  }\n",
       "\n",
       "  var js_urls = [\"https://cdn.pydata.org/bokeh/release/bokeh-0.12.14.min.js\", \"https://cdn.pydata.org/bokeh/release/bokeh-widgets-0.12.14.min.js\", \"https://cdn.pydata.org/bokeh/release/bokeh-tables-0.12.14.min.js\", \"https://cdn.pydata.org/bokeh/release/bokeh-gl-0.12.14.min.js\"];\n",
       "\n",
       "  var inline_js = [\n",
       "    function(Bokeh) {\n",
       "      Bokeh.set_log_level(\"info\");\n",
       "    },\n",
       "    \n",
       "    function(Bokeh) {\n",
       "      \n",
       "    },\n",
       "    function(Bokeh) {\n",
       "      console.log(\"Bokeh: injecting CSS: https://cdn.pydata.org/bokeh/release/bokeh-0.12.14.min.css\");\n",
       "      Bokeh.embed.inject_css(\"https://cdn.pydata.org/bokeh/release/bokeh-0.12.14.min.css\");\n",
       "      console.log(\"Bokeh: injecting CSS: https://cdn.pydata.org/bokeh/release/bokeh-widgets-0.12.14.min.css\");\n",
       "      Bokeh.embed.inject_css(\"https://cdn.pydata.org/bokeh/release/bokeh-widgets-0.12.14.min.css\");\n",
       "      console.log(\"Bokeh: injecting CSS: https://cdn.pydata.org/bokeh/release/bokeh-tables-0.12.14.min.css\");\n",
       "      Bokeh.embed.inject_css(\"https://cdn.pydata.org/bokeh/release/bokeh-tables-0.12.14.min.css\");\n",
       "    }\n",
       "  ];\n",
       "\n",
       "  function run_inline_js() {\n",
       "    \n",
       "    if ((root.Bokeh !== undefined) || (force === true)) {\n",
       "      for (var i = 0; i < inline_js.length; i++) {\n",
       "        inline_js[i].call(root, root.Bokeh);\n",
       "      }if (force === true) {\n",
       "        display_loaded();\n",
       "      }} else if (Date.now() < root._bokeh_timeout) {\n",
       "      setTimeout(run_inline_js, 100);\n",
       "    } else if (!root._bokeh_failed_load) {\n",
       "      console.log(\"Bokeh: BokehJS failed to load within specified timeout.\");\n",
       "      root._bokeh_failed_load = true;\n",
       "    } else if (force !== true) {\n",
       "      var cell = $(document.getElementById(\"679b4495-bc61-44e4-8330-6b0b5c46461d\")).parents('.cell').data().cell;\n",
       "      cell.output_area.append_execute_result(NB_LOAD_WARNING)\n",
       "    }\n",
       "\n",
       "  }\n",
       "\n",
       "  if (root._bokeh_is_loading === 0) {\n",
       "    console.log(\"Bokeh: BokehJS loaded, going straight to plotting\");\n",
       "    run_inline_js();\n",
       "  } else {\n",
       "    load_libs(js_urls, function() {\n",
       "      console.log(\"Bokeh: BokehJS plotting callback run at\", now());\n",
       "      run_inline_js();\n",
       "    });\n",
       "  }\n",
       "}(window));"
      ],
      "application/vnd.bokehjs_load.v0+json": "\n(function(root) {\n  function now() {\n    return new Date();\n  }\n\n  var force = true;\n\n  if (typeof (root._bokeh_onload_callbacks) === \"undefined\" || force === true) {\n    root._bokeh_onload_callbacks = [];\n    root._bokeh_is_loading = undefined;\n  }\n\n  \n\n  \n  if (typeof (root._bokeh_timeout) === \"undefined\" || force === true) {\n    root._bokeh_timeout = Date.now() + 5000;\n    root._bokeh_failed_load = false;\n  }\n\n  var NB_LOAD_WARNING = {'data': {'text/html':\n     \"<div style='background-color: #fdd'>\\n\"+\n     \"<p>\\n\"+\n     \"BokehJS does not appear to have successfully loaded. If loading BokehJS from CDN, this \\n\"+\n     \"may be due to a slow or bad network connection. Possible fixes:\\n\"+\n     \"</p>\\n\"+\n     \"<ul>\\n\"+\n     \"<li>re-rerun `output_notebook()` to attempt to load from CDN again, or</li>\\n\"+\n     \"<li>use INLINE resources instead, as so:</li>\\n\"+\n     \"</ul>\\n\"+\n     \"<code>\\n\"+\n     \"from bokeh.resources import INLINE\\n\"+\n     \"output_notebook(resources=INLINE)\\n\"+\n     \"</code>\\n\"+\n     \"</div>\"}};\n\n  function display_loaded() {\n    var el = document.getElementById(\"679b4495-bc61-44e4-8330-6b0b5c46461d\");\n    if (el != null) {\n      el.textContent = \"BokehJS is loading...\";\n    }\n    if (root.Bokeh !== undefined) {\n      if (el != null) {\n        el.textContent = \"BokehJS \" + root.Bokeh.version + \" successfully loaded.\";\n      }\n    } else if (Date.now() < root._bokeh_timeout) {\n      setTimeout(display_loaded, 100)\n    }\n  }\n\n\n  function run_callbacks() {\n    try {\n      root._bokeh_onload_callbacks.forEach(function(callback) { callback() });\n    }\n    finally {\n      delete root._bokeh_onload_callbacks\n    }\n    console.info(\"Bokeh: all callbacks have finished\");\n  }\n\n  function load_libs(js_urls, callback) {\n    root._bokeh_onload_callbacks.push(callback);\n    if (root._bokeh_is_loading > 0) {\n      console.log(\"Bokeh: BokehJS is being loaded, scheduling callback at\", now());\n      return null;\n    }\n    if (js_urls == null || js_urls.length === 0) {\n      run_callbacks();\n      return null;\n    }\n    console.log(\"Bokeh: BokehJS not loaded, scheduling load and callback at\", now());\n    root._bokeh_is_loading = js_urls.length;\n    for (var i = 0; i < js_urls.length; i++) {\n      var url = js_urls[i];\n      var s = document.createElement('script');\n      s.src = url;\n      s.async = false;\n      s.onreadystatechange = s.onload = function() {\n        root._bokeh_is_loading--;\n        if (root._bokeh_is_loading === 0) {\n          console.log(\"Bokeh: all BokehJS libraries loaded\");\n          run_callbacks()\n        }\n      };\n      s.onerror = function() {\n        console.warn(\"failed to load library \" + url);\n      };\n      console.log(\"Bokeh: injecting script tag for BokehJS library: \", url);\n      document.getElementsByTagName(\"head\")[0].appendChild(s);\n    }\n  };var element = document.getElementById(\"679b4495-bc61-44e4-8330-6b0b5c46461d\");\n  if (element == null) {\n    console.log(\"Bokeh: ERROR: autoload.js configured with elementid '679b4495-bc61-44e4-8330-6b0b5c46461d' but no matching script tag was found. \")\n    return false;\n  }\n\n  var js_urls = [\"https://cdn.pydata.org/bokeh/release/bokeh-0.12.14.min.js\", \"https://cdn.pydata.org/bokeh/release/bokeh-widgets-0.12.14.min.js\", \"https://cdn.pydata.org/bokeh/release/bokeh-tables-0.12.14.min.js\", \"https://cdn.pydata.org/bokeh/release/bokeh-gl-0.12.14.min.js\"];\n\n  var inline_js = [\n    function(Bokeh) {\n      Bokeh.set_log_level(\"info\");\n    },\n    \n    function(Bokeh) {\n      \n    },\n    function(Bokeh) {\n      console.log(\"Bokeh: injecting CSS: https://cdn.pydata.org/bokeh/release/bokeh-0.12.14.min.css\");\n      Bokeh.embed.inject_css(\"https://cdn.pydata.org/bokeh/release/bokeh-0.12.14.min.css\");\n      console.log(\"Bokeh: injecting CSS: https://cdn.pydata.org/bokeh/release/bokeh-widgets-0.12.14.min.css\");\n      Bokeh.embed.inject_css(\"https://cdn.pydata.org/bokeh/release/bokeh-widgets-0.12.14.min.css\");\n      console.log(\"Bokeh: injecting CSS: https://cdn.pydata.org/bokeh/release/bokeh-tables-0.12.14.min.css\");\n      Bokeh.embed.inject_css(\"https://cdn.pydata.org/bokeh/release/bokeh-tables-0.12.14.min.css\");\n    }\n  ];\n\n  function run_inline_js() {\n    \n    if ((root.Bokeh !== undefined) || (force === true)) {\n      for (var i = 0; i < inline_js.length; i++) {\n        inline_js[i].call(root, root.Bokeh);\n      }if (force === true) {\n        display_loaded();\n      }} else if (Date.now() < root._bokeh_timeout) {\n      setTimeout(run_inline_js, 100);\n    } else if (!root._bokeh_failed_load) {\n      console.log(\"Bokeh: BokehJS failed to load within specified timeout.\");\n      root._bokeh_failed_load = true;\n    } else if (force !== true) {\n      var cell = $(document.getElementById(\"679b4495-bc61-44e4-8330-6b0b5c46461d\")).parents('.cell').data().cell;\n      cell.output_area.append_execute_result(NB_LOAD_WARNING)\n    }\n\n  }\n\n  if (root._bokeh_is_loading === 0) {\n    console.log(\"Bokeh: BokehJS loaded, going straight to plotting\");\n    run_inline_js();\n  } else {\n    load_libs(js_urls, function() {\n      console.log(\"Bokeh: BokehJS plotting callback run at\", now());\n      run_inline_js();\n    });\n  }\n}(window));"
     },
     "metadata": {},
     "output_type": "display_data"
    }
   ],
   "source": [
    "output_notebook()"
   ]
  },
  {
   "cell_type": "code",
   "execution_count": null,
   "metadata": {},
   "outputs": [],
   "source": []
  },
  {
   "cell_type": "code",
   "execution_count": 40,
   "metadata": {},
   "outputs": [],
   "source": [
    "def lorentz(x, x_n, G):\n",
    "    X = (x_n - x)/(G/2)\n",
    "    return 1/(1+X**2)"
   ]
  },
  {
   "cell_type": "code",
   "execution_count": 41,
   "metadata": {},
   "outputs": [],
   "source": [
    "a_min, a_max = 1.69, 1.72"
   ]
  },
  {
   "cell_type": "code",
   "execution_count": 42,
   "metadata": {},
   "outputs": [],
   "source": [
    "def fit_a(data,\n",
    "          cal=calibration,\n",
    "          a_min=1.695,\n",
    "          a_max=1.72,\n",
    "          base_function=lorentz,\n",
    "          p0=[1.70, 0.05]):\n",
    "    data_slice = data[np.logical_and(cal>a_min, cal<a_max)]\n",
    "    data_slice = data_slice/data_slice.max()\n",
    "    cal_slice = cal[np.logical_and(cal>a_min, cal<a_max)]\n",
    "    popt, pcov = curve_fit(lorentz, cal_slice, data_slice, p0=p0)\n",
    "    return popt[0]  "
   ]
  },
  {
   "cell_type": "code",
   "execution_count": 69,
   "metadata": {},
   "outputs": [
    {
     "name": "stderr",
     "output_type": "stream",
     "text": [
      "/usr/lib/python3/dist-packages/scipy/optimize/minpack.py:779: OptimizeWarning: Covariance of the parameters could not be estimated\n",
      "  category=OptimizeWarning)\n"
     ]
    },
    {
     "data": {
      "text/plain": [
       "array([ 1.67335382e+00, -1.47572585e+04,  1.63251661e+00,  1.64176146e+00,\n",
       "        1.62831003e+00,  1.54731114e+00, -1.37145693e+05, -5.46172129e+05,\n",
       "       -1.57750478e+06, -1.03474717e+06, -6.22791475e+05,  1.71055525e+00,\n",
       "        1.83130696e+00,  1.70737146e+00,  1.70704265e+00,  1.70693085e+00,\n",
       "        1.70684608e+00,  1.70679988e+00,  1.70678896e+00,  1.70679972e+00,\n",
       "        1.70682118e+00,  1.70671474e+00,  1.70677835e+00,  1.70673637e+00,\n",
       "        1.70674102e+00,  1.70676507e+00,  1.70674803e+00,  1.70678533e+00,\n",
       "        1.70674927e+00,  1.70680971e+00,  1.70674191e+00,  1.70677873e+00,\n",
       "        1.70693886e+00,  1.70707511e+00,  1.70713363e+00,  1.70730939e+00,\n",
       "        1.70742872e+00,  1.70753565e+00,  1.70774380e+00,  1.70787106e+00,\n",
       "        1.70802100e+00,  1.70833261e+00,  1.70845688e+00,  1.81553279e+00,\n",
       "        1.70898484e+00,  1.70967006e+00,  1.71027529e+00,  1.71106069e+00,\n",
       "        1.71182432e+00,  1.71353207e+00, -8.00842320e+05, -1.28249902e+06,\n",
       "       -2.13937745e+06, -1.22092275e+06, -6.86867053e+05, -5.64876395e+05,\n",
       "       -1.55374658e+05, -2.12792616e+04,  1.70813713e+00, -4.49363577e+04,\n",
       "        1.61043661e+00,  1.68121179e+00, -2.52464203e+04, -1.19903834e+04,\n",
       "        1.68106176e+00, -1.73008014e+04, -1.01559860e+04, -2.48107462e+00,\n",
       "       -5.65083362e+04,  1.61542773e+00, -7.93174182e+03,  1.66537357e+00,\n",
       "       -3.92385201e+04, -2.21105736e+04, -1.84820948e+04,  1.68407034e+00,\n",
       "        1.68951926e+00, -3.70605534e+04,  1.63976720e+00,  1.59288560e+00,\n",
       "       -1.34871665e+05])"
      ]
     },
     "execution_count": 69,
     "metadata": {},
     "output_type": "execute_result"
    }
   ],
   "source": [
    "#a_energies_sp = np.array([fit_a(field) for field in sweepVT_sigmap[:,23,:]])\n",
    "#a_energies_sm = np.array([fit_a(field) for field in sweepVT_sigmam[:,23,:]])\n",
    "#g_factors = (a_energies_sm - a_energies_sp)/(mu_b * np.arange(9))\n",
    "#a_energies_sp\n",
    "a_energies_sp = np.array([fit_a(field) for field in sweepVT_sigmap[4,:,:]])\n",
    "a_energies_sm = np.array([fit_a(field) for field in sweepVT_sigmam[4,:,:]])\n",
    "#g_factors = (a_energies_sm - a_energies_sp)/(mu_b * np.arange(9))\n",
    "a_energies_sp"
   ]
  },
  {
   "cell_type": "code",
   "execution_count": 75,
   "metadata": {},
   "outputs": [
    {
     "data": {
      "text/html": [
       "\n",
       "<div class=\"bk-root\">\n",
       "    <div class=\"bk-plotdiv\" id=\"4e402b50-049e-4353-8d0c-54422f74e969\"></div>\n",
       "</div>"
      ]
     },
     "metadata": {},
     "output_type": "display_data"
    },
    {
     "data": {
      "application/javascript": [
       "(function(root) {\n",
       "  function embed_document(root) {\n",
       "    \n",
       "  var docs_json = {\"66c6dc18-1ed3-458b-8bd3-e7704aee2edf\":{\"roots\":{\"references\":[{\"attributes\":{\"fill_color\":{\"value\":\"red\"},\"line_color\":{\"value\":\"red\"},\"x\":{\"field\":\"x\"},\"y\":{\"field\":\"y\"}},\"id\":\"71beecf0-e6ce-4486-baab-f9e93fe30b79\",\"type\":\"Circle\"},{\"attributes\":{\"callback\":null,\"column_names\":[\"x\",\"y\"],\"data\":{\"x\":[0,1,2,3,4,5,6,7,8,9,10,11,12,13,14,15,16,17,18,19,20,21,22,23,24,25,26,27,28,29,30,31,32,33,34,35,36,37,38,39,40,41,42,43,44,45,46,47,48,49,50,51,52,53,54,55,56,57,58,59,60,61,62,63,64,65,66,67,68,69,70,71,72,73,74,75,76,77,78,79,80],\"y\":{\"__ndarray__\":\"MVUDqA7G+j/OynsWodLMwKwH+rvJHvo/QeZqq6dE+j8U3GjQjg36P32yGVLJwfg/wfs1i829AMHwgRxC+KogwaDWecYgEjjBQvONVvaTL8HhE3PzjgEjwbVy4i9vXvs/4vgKhwhN/T+ElVu9ZFH7Pyl67PQLUPs/GnOHuZZP+z8HYhPWPU/7PxyhuWQNT/s/v+fg7wFP+z+rcTI5DU/7PzuoDLsjT/s/YyQEHrRO+z9X19vR9k77P9hO+czKTvs/tlEyrc9O+z82xIfi6E77P9pcygXXTvs/qcpHIf5O+z9wmhtT2E77P5ySX7MXT/s/pPQqmtBO+z+76zA39077Pz95BCCfT/s/22ru/S1Q+z9qNyVZa1D7P0x8FKYjUfs/SffkxqBR+z9UdKbmEFL7P+6AICnrUvs/aRALnHBT+z9ufLnSDVT7P5daipJUVfs/7L1S4NZV+z++JAkcbAz9P731G30AWPs/80C9/s5a+z9yWIGfSV37Pxfq/CyBYPs/DkUS5qFj+z/lQq6boGr7PxKEF6SUcCjBwY07BsORM8F6FUS5eFJAwQyoO8E6oTLB1sERGyb2JMFVxlTKGD0hwbkgV0N19wLBp0VUvtDH1MCczB6ah1T7P9rdkXIL8eXAgGR6LFnE+T8yj81UPub6PyGr+eWap9jAObf6ETFrx8B1OmUDoeX6P9BBuEoz5dDAoJMbNv7Vw8CfM7umPdkDwCM3W8KKl+vAIjN1vsrY+T+wqiPovfu+wGLQx8Jepfo/kRSVpNAo48CSBB+1pJfVwGrJGRGGDNLAW+J8vPPx+j8raIhYRQj7P0SOl7WRGOLAh+eEiHw8+j+Bsg2bdXz5P+rqcFK9dgDB\",\"dtype\":\"float64\",\"shape\":[81]}}},\"id\":\"3bdfba02-5be6-4a6a-9782-01a8eb5ee1f8\",\"type\":\"ColumnDataSource\"},{\"attributes\":{\"formatter\":{\"id\":\"28579fa1-64b8-4390-a498-43345503b92d\",\"type\":\"BasicTickFormatter\"},\"plot\":{\"id\":\"5f20d66b-286c-4a7d-8446-fdd754c4b5ac\",\"subtype\":\"Figure\",\"type\":\"Plot\"},\"ticker\":{\"id\":\"a68991bd-e4f2-459f-b5fe-6422968e3874\",\"type\":\"BasicTicker\"}},\"id\":\"8e74da85-393c-4cc4-b6a5-2071a6a63a9f\",\"type\":\"LinearAxis\"},{\"attributes\":{\"bottom_units\":\"screen\",\"fill_alpha\":{\"value\":0.5},\"fill_color\":{\"value\":\"lightgrey\"},\"left_units\":\"screen\",\"level\":\"overlay\",\"line_alpha\":{\"value\":1.0},\"line_color\":{\"value\":\"black\"},\"line_dash\":[4,4],\"line_width\":{\"value\":2},\"plot\":null,\"render_mode\":\"css\",\"right_units\":\"screen\",\"top_units\":\"screen\"},\"id\":\"963d12d9-96c8-4c1e-82fa-5a98a0899aeb\",\"type\":\"BoxAnnotation\"},{\"attributes\":{\"callback\":null},\"id\":\"7e06e8e6-1a77-4bdd-8b95-914bbcf24fb4\",\"type\":\"DataRange1d\"},{\"attributes\":{\"active_drag\":\"auto\",\"active_inspect\":\"auto\",\"active_scroll\":\"auto\",\"active_tap\":\"auto\",\"tools\":[{\"id\":\"1dd4e6a8-b805-484c-9254-1ff1cf4cfd31\",\"type\":\"PanTool\"},{\"id\":\"8c692c9f-0958-48b0-ba7c-bebf656c3aa3\",\"type\":\"WheelZoomTool\"},{\"id\":\"1eb048cf-8e73-455c-8536-cfda991ad53b\",\"type\":\"BoxZoomTool\"},{\"id\":\"17a2daf5-25c0-431b-bf44-80957b127257\",\"type\":\"SaveTool\"},{\"id\":\"75312795-23a7-4982-94ca-07263a7d10b0\",\"type\":\"ResetTool\"},{\"id\":\"5208479c-a08f-449d-8fe2-38559e699ad6\",\"type\":\"HelpTool\"}]},\"id\":\"b95e4f8b-a3c3-482f-b10c-43de21bc2bcc\",\"type\":\"Toolbar\"},{\"attributes\":{},\"id\":\"9c5654a4-7085-4baf-ae35-4eb313d425e4\",\"type\":\"LinearScale\"},{\"attributes\":{\"fill_alpha\":{\"value\":0.1},\"fill_color\":{\"value\":\"#1f77b4\"},\"line_alpha\":{\"value\":0.1},\"line_color\":{\"value\":\"#1f77b4\"},\"x\":{\"field\":\"x\"},\"y\":{\"field\":\"y\"}},\"id\":\"4c463ac4-d80f-46ca-b914-564a56e13f8e\",\"type\":\"Circle\"},{\"attributes\":{},\"id\":\"1e877328-a4e9-4c73-80b3-f09c4bbe6ee4\",\"type\":\"LinearScale\"},{\"attributes\":{\"callback\":null,\"end\":1.708,\"start\":1.705},\"id\":\"8c63c73e-663b-42e9-8def-385c4b73fa25\",\"type\":\"Range1d\"},{\"attributes\":{\"formatter\":{\"id\":\"4f09fa49-ff91-48bf-9a31-3ab95f8706cf\",\"type\":\"BasicTickFormatter\"},\"plot\":{\"id\":\"5f20d66b-286c-4a7d-8446-fdd754c4b5ac\",\"subtype\":\"Figure\",\"type\":\"Plot\"},\"ticker\":{\"id\":\"f935b4b3-a1b9-49af-87f0-e5b838cb0c9c\",\"type\":\"BasicTicker\"}},\"id\":\"2c4f5b69-b975-44f2-9e90-5b58ea24ff8d\",\"type\":\"LinearAxis\"},{\"attributes\":{\"data_source\":{\"id\":\"972eb7f1-33f9-43c2-a4ef-ba6a3806d638\",\"type\":\"ColumnDataSource\"},\"glyph\":{\"id\":\"7f9eb52f-06e3-4af7-874a-4f3f77bd0fdb\",\"type\":\"Circle\"},\"hover_glyph\":null,\"muted_glyph\":null,\"nonselection_glyph\":{\"id\":\"c1852977-21fc-49fa-b286-2120d014886f\",\"type\":\"Circle\"},\"selection_glyph\":null,\"view\":{\"id\":\"c2a60a5c-3b77-41a4-b50c-376a638892b1\",\"type\":\"CDSView\"}},\"id\":\"0bd305b9-58cb-4a13-8a33-2f78cd0e6e60\",\"type\":\"GlyphRenderer\"},{\"attributes\":{\"overlay\":{\"id\":\"963d12d9-96c8-4c1e-82fa-5a98a0899aeb\",\"type\":\"BoxAnnotation\"}},\"id\":\"1eb048cf-8e73-455c-8536-cfda991ad53b\",\"type\":\"BoxZoomTool\"},{\"attributes\":{\"plot\":{\"id\":\"5f20d66b-286c-4a7d-8446-fdd754c4b5ac\",\"subtype\":\"Figure\",\"type\":\"Plot\"},\"ticker\":{\"id\":\"f935b4b3-a1b9-49af-87f0-e5b838cb0c9c\",\"type\":\"BasicTicker\"}},\"id\":\"b538857b-6841-45fb-8961-265a4a02529b\",\"type\":\"Grid\"},{\"attributes\":{},\"id\":\"8c692c9f-0958-48b0-ba7c-bebf656c3aa3\",\"type\":\"WheelZoomTool\"},{\"attributes\":{},\"id\":\"f935b4b3-a1b9-49af-87f0-e5b838cb0c9c\",\"type\":\"BasicTicker\"},{\"attributes\":{\"callback\":null,\"column_names\":[\"x\",\"y\"],\"data\":{\"x\":[0,1,2,3,4,5,6,7,8,9,10,11,12,13,14,15,16,17,18,19,20,21,22,23,24,25,26,27,28,29,30,31,32,33,34,35,36,37,38,39,40,41,42,43,44,45,46,47,48,49,50,51,52,53,54,55,56,57,58,59,60,61,62,63,64,65,66,67,68,69,70,71,72,73,74,75,76,77,78,79,80],\"y\":{\"__ndarray__\":\"qPvsW6aV+j/DxIXM7+/1P6BVuvYYUPo/k0OTk/XS+j+8X/uPZ7ncwOazqH3oJfo/0a9+Fxrk+D/+j2twwNHcwHuw9FSBFiLB/BA8OlWbMMEQZNOGllcswbOsk6pLaPs/vODeaXBd+z/nBfXJ5FP7PymPMYbFUPs/MWnoM45P+z+dAhMqfE77P8khn/OGTvs/d84yaMtN+z8xJ88GEE77PyJd8WjzTfs/wuJW5PhN+z//idAFzE37P1dgdiDsTfs/5qOJAPlN+z9v0yHYA077PxHHuCDGTfs/ivw7u9dN+z9oS4X2yU37P12K5aXNTfs/Zd0YkMNN+z/NOwPh5E77PxKRBjkUT/s/jN/wWLJP+z9Yxng5XVD7PzgKFGUAUfs/D0JoGPJR+z/kDmgVZFP7P3NNXwazU/s/xQzwshtV+z9sATIY4Of9P6CaOma8ZP0/W25HEBVY+z8xY2XCTLn8P+8RPAVJW/s/CWO2rq5c+z8wQq5FxF/7PysZPN3hY/s/kj2YMdBm+z9409Ae22n7P6pjMQ2dtinB0SMEwiCBIsGujr3yV/spwY5f5PEnMibBN/CCCFdCJcEIxR0bQrwSwcUF9cbMPxvBQqse4b7m5MBeItZN59r4P5BXX/3y8QHB7G1DfeFr/MAOR4/Ybmf4P+bWMTPnXfc/+srKlsFo+j9MFLnj/+H4P/h310u93vg/oaDu3vra+T/A1sXBvnv5PxEHAnF/Lvs/OVuHGqYJ+z+idLyo65/6P8LrmXh8+fo/2mhqnLej0MCgVCv99Sn6PyffFXmlmPo/0wtryTHf+j8YN6gLB175P7nEGfVCgfo/lHWetEgX4cC089OAiWb6P7iSvqusnPo/\",\"dtype\":\"float64\",\"shape\":[81]}}},\"id\":\"972eb7f1-33f9-43c2-a4ef-ba6a3806d638\",\"type\":\"ColumnDataSource\"},{\"attributes\":{},\"id\":\"4f09fa49-ff91-48bf-9a31-3ab95f8706cf\",\"type\":\"BasicTickFormatter\"},{\"attributes\":{\"data_source\":{\"id\":\"3bdfba02-5be6-4a6a-9782-01a8eb5ee1f8\",\"type\":\"ColumnDataSource\"},\"glyph\":{\"id\":\"71beecf0-e6ce-4486-baab-f9e93fe30b79\",\"type\":\"Circle\"},\"hover_glyph\":null,\"muted_glyph\":null,\"nonselection_glyph\":{\"id\":\"4c463ac4-d80f-46ca-b914-564a56e13f8e\",\"type\":\"Circle\"},\"selection_glyph\":null,\"view\":{\"id\":\"c4dc7ca6-5cfc-428f-a16c-da0bd1f7699b\",\"type\":\"CDSView\"}},\"id\":\"97cd6680-5288-4df8-a8c2-7005dcd1b7d5\",\"type\":\"GlyphRenderer\"},{\"attributes\":{\"fill_alpha\":{\"value\":0.1},\"fill_color\":{\"value\":\"#1f77b4\"},\"line_alpha\":{\"value\":0.1},\"line_color\":{\"value\":\"#1f77b4\"},\"x\":{\"field\":\"x\"},\"y\":{\"field\":\"y\"}},\"id\":\"c1852977-21fc-49fa-b286-2120d014886f\",\"type\":\"Circle\"},{\"attributes\":{},\"id\":\"a68991bd-e4f2-459f-b5fe-6422968e3874\",\"type\":\"BasicTicker\"},{\"attributes\":{},\"id\":\"5208479c-a08f-449d-8fe2-38559e699ad6\",\"type\":\"HelpTool\"},{\"attributes\":{},\"id\":\"1dd4e6a8-b805-484c-9254-1ff1cf4cfd31\",\"type\":\"PanTool\"},{\"attributes\":{\"plot\":null,\"text\":\"\"},\"id\":\"abed0aae-ad94-47f5-aaf0-bb841544ecbf\",\"type\":\"Title\"},{\"attributes\":{\"fill_color\":{\"value\":\"#1f77b4\"},\"line_color\":{\"value\":\"#1f77b4\"},\"x\":{\"field\":\"x\"},\"y\":{\"field\":\"y\"}},\"id\":\"7f9eb52f-06e3-4af7-874a-4f3f77bd0fdb\",\"type\":\"Circle\"},{\"attributes\":{\"dimension\":1,\"plot\":{\"id\":\"5f20d66b-286c-4a7d-8446-fdd754c4b5ac\",\"subtype\":\"Figure\",\"type\":\"Plot\"},\"ticker\":{\"id\":\"a68991bd-e4f2-459f-b5fe-6422968e3874\",\"type\":\"BasicTicker\"}},\"id\":\"1c6cd062-5418-4dda-ae30-60d0312f585d\",\"type\":\"Grid\"},{\"attributes\":{\"source\":{\"id\":\"972eb7f1-33f9-43c2-a4ef-ba6a3806d638\",\"type\":\"ColumnDataSource\"}},\"id\":\"c2a60a5c-3b77-41a4-b50c-376a638892b1\",\"type\":\"CDSView\"},{\"attributes\":{},\"id\":\"75312795-23a7-4982-94ca-07263a7d10b0\",\"type\":\"ResetTool\"},{\"attributes\":{\"source\":{\"id\":\"3bdfba02-5be6-4a6a-9782-01a8eb5ee1f8\",\"type\":\"ColumnDataSource\"}},\"id\":\"c4dc7ca6-5cfc-428f-a16c-da0bd1f7699b\",\"type\":\"CDSView\"},{\"attributes\":{},\"id\":\"28579fa1-64b8-4390-a498-43345503b92d\",\"type\":\"BasicTickFormatter\"},{\"attributes\":{\"below\":[{\"id\":\"2c4f5b69-b975-44f2-9e90-5b58ea24ff8d\",\"type\":\"LinearAxis\"}],\"left\":[{\"id\":\"8e74da85-393c-4cc4-b6a5-2071a6a63a9f\",\"type\":\"LinearAxis\"}],\"renderers\":[{\"id\":\"2c4f5b69-b975-44f2-9e90-5b58ea24ff8d\",\"type\":\"LinearAxis\"},{\"id\":\"b538857b-6841-45fb-8961-265a4a02529b\",\"type\":\"Grid\"},{\"id\":\"8e74da85-393c-4cc4-b6a5-2071a6a63a9f\",\"type\":\"LinearAxis\"},{\"id\":\"1c6cd062-5418-4dda-ae30-60d0312f585d\",\"type\":\"Grid\"},{\"id\":\"963d12d9-96c8-4c1e-82fa-5a98a0899aeb\",\"type\":\"BoxAnnotation\"},{\"id\":\"0bd305b9-58cb-4a13-8a33-2f78cd0e6e60\",\"type\":\"GlyphRenderer\"},{\"id\":\"97cd6680-5288-4df8-a8c2-7005dcd1b7d5\",\"type\":\"GlyphRenderer\"}],\"title\":{\"id\":\"abed0aae-ad94-47f5-aaf0-bb841544ecbf\",\"type\":\"Title\"},\"toolbar\":{\"id\":\"b95e4f8b-a3c3-482f-b10c-43de21bc2bcc\",\"type\":\"Toolbar\"},\"x_range\":{\"id\":\"7e06e8e6-1a77-4bdd-8b95-914bbcf24fb4\",\"type\":\"DataRange1d\"},\"x_scale\":{\"id\":\"9c5654a4-7085-4baf-ae35-4eb313d425e4\",\"type\":\"LinearScale\"},\"y_range\":{\"id\":\"8c63c73e-663b-42e9-8def-385c4b73fa25\",\"type\":\"Range1d\"},\"y_scale\":{\"id\":\"1e877328-a4e9-4c73-80b3-f09c4bbe6ee4\",\"type\":\"LinearScale\"}},\"id\":\"5f20d66b-286c-4a7d-8446-fdd754c4b5ac\",\"subtype\":\"Figure\",\"type\":\"Plot\"},{\"attributes\":{},\"id\":\"17a2daf5-25c0-431b-bf44-80957b127257\",\"type\":\"SaveTool\"}],\"root_ids\":[\"5f20d66b-286c-4a7d-8446-fdd754c4b5ac\"]},\"title\":\"Bokeh Application\",\"version\":\"0.12.14\"}};\n",
       "  var render_items = [{\"docid\":\"66c6dc18-1ed3-458b-8bd3-e7704aee2edf\",\"elementid\":\"4e402b50-049e-4353-8d0c-54422f74e969\",\"modelid\":\"5f20d66b-286c-4a7d-8446-fdd754c4b5ac\"}];\n",
       "  root.Bokeh.embed.embed_items_notebook(docs_json, render_items);\n",
       "\n",
       "  }\n",
       "  if (root.Bokeh !== undefined) {\n",
       "    embed_document(root);\n",
       "  } else {\n",
       "    var attempts = 0;\n",
       "    var timer = setInterval(function(root) {\n",
       "      if (root.Bokeh !== undefined) {\n",
       "        embed_document(root);\n",
       "        clearInterval(timer);\n",
       "      }\n",
       "      attempts++;\n",
       "      if (attempts > 100) {\n",
       "        console.log(\"Bokeh: ERROR: Unable to run BokehJS code because BokehJS library is missing\")\n",
       "        clearInterval(timer);\n",
       "      }\n",
       "    }, 10, root)\n",
       "  }\n",
       "})(window);"
      ],
      "application/vnd.bokehjs_exec.v0+json": ""
     },
     "metadata": {
      "application/vnd.bokehjs_exec.v0+json": {
       "id": "5f20d66b-286c-4a7d-8446-fdd754c4b5ac"
      }
     },
     "output_type": "display_data"
    }
   ],
   "source": [
    "p = figure(y_range=(1.705, 1.708))\n",
    "xxx = np.arange(0,81,1)\n",
    "p.scatter(xxx, a_energies_sm)\n",
    "p.scatter(xxx, a_energies_sp, color='red')\n",
    "show(p)"
   ]
  },
  {
   "cell_type": "code",
   "execution_count": 53,
   "metadata": {},
   "outputs": [
    {
     "ename": "ValueError",
     "evalue": "all the input array dimensions except for the concatenation axis must match exactly",
     "output_type": "error",
     "traceback": [
      "\u001b[0;31m---------------------------------------------------------------------------\u001b[0m",
      "\u001b[0;31mValueError\u001b[0m                                Traceback (most recent call last)",
      "\u001b[0;32m<ipython-input-53-2b8f283b4607>\u001b[0m in \u001b[0;36m<module>\u001b[0;34m()\u001b[0m\n\u001b[1;32m      1\u001b[0m \u001b[0mp\u001b[0m \u001b[0;34m=\u001b[0m \u001b[0mfigure\u001b[0m\u001b[0;34m(\u001b[0m\u001b[0;34m)\u001b[0m\u001b[0;34m\u001b[0m\u001b[0m\n\u001b[0;32m----> 2\u001b[0;31m \u001b[0mslope\u001b[0m\u001b[0;34m,\u001b[0m \u001b[0mintercept\u001b[0m\u001b[0;34m,\u001b[0m \u001b[0mr_value\u001b[0m\u001b[0;34m,\u001b[0m \u001b[0mp_value\u001b[0m\u001b[0;34m,\u001b[0m \u001b[0mstd_err\u001b[0m \u001b[0;34m=\u001b[0m \u001b[0mstats\u001b[0m\u001b[0;34m.\u001b[0m\u001b[0mlinregress\u001b[0m\u001b[0;34m(\u001b[0m\u001b[0mnp\u001b[0m\u001b[0;34m.\u001b[0m\u001b[0marange\u001b[0m\u001b[0;34m(\u001b[0m\u001b[0;36m9\u001b[0m\u001b[0;34m)\u001b[0m \u001b[0;34m*\u001b[0m \u001b[0mmu_b\u001b[0m\u001b[0;34m,\u001b[0m \u001b[0ma_energies_sm\u001b[0m\u001b[0;34m)\u001b[0m\u001b[0;34m\u001b[0m\u001b[0m\n\u001b[0m\u001b[1;32m      3\u001b[0m \u001b[0mteslas\u001b[0m \u001b[0;34m=\u001b[0m \u001b[0mnp\u001b[0m\u001b[0;34m.\u001b[0m\u001b[0marange\u001b[0m\u001b[0;34m(\u001b[0m\u001b[0;36m9\u001b[0m\u001b[0;34m)\u001b[0m \u001b[0;34m*\u001b[0m \u001b[0mmu_b\u001b[0m\u001b[0;34m\u001b[0m\u001b[0m\n\u001b[1;32m      4\u001b[0m \u001b[0mlinear\u001b[0m \u001b[0;34m=\u001b[0m \u001b[0mslope\u001b[0m \u001b[0;34m*\u001b[0m \u001b[0mteslas\u001b[0m \u001b[0;34m+\u001b[0m \u001b[0mintercept\u001b[0m\u001b[0;34m\u001b[0m\u001b[0m\n\u001b[1;32m      5\u001b[0m \u001b[0mp\u001b[0m\u001b[0;34m.\u001b[0m\u001b[0mscatter\u001b[0m\u001b[0;34m(\u001b[0m\u001b[0mteslas\u001b[0m\u001b[0;34m,\u001b[0m \u001b[0ma_energies_sm\u001b[0m\u001b[0;34m)\u001b[0m\u001b[0;34m\u001b[0m\u001b[0m\n",
      "\u001b[0;32m/usr/lib/python3/dist-packages/scipy/stats/_stats_mstats_common.py\u001b[0m in \u001b[0;36mlinregress\u001b[0;34m(x, y)\u001b[0m\n\u001b[1;32m     90\u001b[0m \u001b[0;34m\u001b[0m\u001b[0m\n\u001b[1;32m     91\u001b[0m     \u001b[0;31m# average sum of squares:\u001b[0m\u001b[0;34m\u001b[0m\u001b[0;34m\u001b[0m\u001b[0m\n\u001b[0;32m---> 92\u001b[0;31m     \u001b[0mssxm\u001b[0m\u001b[0;34m,\u001b[0m \u001b[0mssxym\u001b[0m\u001b[0;34m,\u001b[0m \u001b[0mssyxm\u001b[0m\u001b[0;34m,\u001b[0m \u001b[0mssym\u001b[0m \u001b[0;34m=\u001b[0m \u001b[0mnp\u001b[0m\u001b[0;34m.\u001b[0m\u001b[0mcov\u001b[0m\u001b[0;34m(\u001b[0m\u001b[0mx\u001b[0m\u001b[0;34m,\u001b[0m \u001b[0my\u001b[0m\u001b[0;34m,\u001b[0m \u001b[0mbias\u001b[0m\u001b[0;34m=\u001b[0m\u001b[0;36m1\u001b[0m\u001b[0;34m)\u001b[0m\u001b[0;34m.\u001b[0m\u001b[0mflat\u001b[0m\u001b[0;34m\u001b[0m\u001b[0m\n\u001b[0m\u001b[1;32m     93\u001b[0m     \u001b[0mr_num\u001b[0m \u001b[0;34m=\u001b[0m \u001b[0mssxym\u001b[0m\u001b[0;34m\u001b[0m\u001b[0m\n\u001b[1;32m     94\u001b[0m     \u001b[0mr_den\u001b[0m \u001b[0;34m=\u001b[0m \u001b[0mnp\u001b[0m\u001b[0;34m.\u001b[0m\u001b[0msqrt\u001b[0m\u001b[0;34m(\u001b[0m\u001b[0mssxm\u001b[0m \u001b[0;34m*\u001b[0m \u001b[0mssym\u001b[0m\u001b[0;34m)\u001b[0m\u001b[0;34m\u001b[0m\u001b[0m\n",
      "\u001b[0;32m/usr/local/lib/python3.6/dist-packages/numpy/lib/function_base.py\u001b[0m in \u001b[0;36mcov\u001b[0;34m(m, y, rowvar, bias, ddof, fweights, aweights)\u001b[0m\n\u001b[1;32m   3042\u001b[0m         \u001b[0;32mif\u001b[0m \u001b[0;32mnot\u001b[0m \u001b[0mrowvar\u001b[0m \u001b[0;32mand\u001b[0m \u001b[0my\u001b[0m\u001b[0;34m.\u001b[0m\u001b[0mshape\u001b[0m\u001b[0;34m[\u001b[0m\u001b[0;36m0\u001b[0m\u001b[0;34m]\u001b[0m \u001b[0;34m!=\u001b[0m \u001b[0;36m1\u001b[0m\u001b[0;34m:\u001b[0m\u001b[0;34m\u001b[0m\u001b[0m\n\u001b[1;32m   3043\u001b[0m             \u001b[0my\u001b[0m \u001b[0;34m=\u001b[0m \u001b[0my\u001b[0m\u001b[0;34m.\u001b[0m\u001b[0mT\u001b[0m\u001b[0;34m\u001b[0m\u001b[0m\n\u001b[0;32m-> 3044\u001b[0;31m         \u001b[0mX\u001b[0m \u001b[0;34m=\u001b[0m \u001b[0mnp\u001b[0m\u001b[0;34m.\u001b[0m\u001b[0mconcatenate\u001b[0m\u001b[0;34m(\u001b[0m\u001b[0;34m(\u001b[0m\u001b[0mX\u001b[0m\u001b[0;34m,\u001b[0m \u001b[0my\u001b[0m\u001b[0;34m)\u001b[0m\u001b[0;34m,\u001b[0m \u001b[0maxis\u001b[0m\u001b[0;34m=\u001b[0m\u001b[0;36m0\u001b[0m\u001b[0;34m)\u001b[0m\u001b[0;34m\u001b[0m\u001b[0m\n\u001b[0m\u001b[1;32m   3045\u001b[0m \u001b[0;34m\u001b[0m\u001b[0m\n\u001b[1;32m   3046\u001b[0m     \u001b[0;32mif\u001b[0m \u001b[0mddof\u001b[0m \u001b[0;32mis\u001b[0m \u001b[0;32mNone\u001b[0m\u001b[0;34m:\u001b[0m\u001b[0;34m\u001b[0m\u001b[0m\n",
      "\u001b[0;31mValueError\u001b[0m: all the input array dimensions except for the concatenation axis must match exactly"
     ]
    }
   ],
   "source": [
    "p = figure()\n",
    "slope, intercept, r_value, p_value, std_err = stats.linregress(np.arange(9) * mu_b, a_energies_sm)\n",
    "teslas = np.arange(9) * mu_b\n",
    "linear = slope * teslas + intercept\n",
    "p.scatter(teslas, a_energies_sm)\n",
    "p.line(mu_b * np.arange(9), linear, color='red')\n",
    "print(slope)\n",
    "#plt.plot(calibration, y)\n",
    "show(p)"
   ]
  },
  {
   "cell_type": "code",
   "execution_count": 45,
   "metadata": {},
   "outputs": [
    {
     "data": {
      "text/plain": [
       "array([[-5, -1,  0, ...,  7,  4,  5],\n",
       "       [-3, -2,  2, ...,  2,  1,  5],\n",
       "       [-4, -1,  1, ...,  2,  3,  1],\n",
       "       ...,\n",
       "       [-3,  1,  2, ...,  3,  3,  2],\n",
       "       [-1, -1,  1, ...,  0,  1,  2],\n",
       "       [-3, -2,  1, ...,  0,  3,  0]])"
      ]
     },
     "execution_count": 45,
     "metadata": {},
     "output_type": "execute_result"
    }
   ],
   "source": [
    "sweepVT_sigmap[:,15,:]"
   ]
  },
  {
   "cell_type": "code",
   "execution_count": 46,
   "metadata": {},
   "outputs": [
    {
     "data": {
      "text/html": [
       "\n",
       "<div class=\"bk-root\">\n",
       "    <div class=\"bk-plotdiv\" id=\"506c7768-7590-4e05-8848-5d9bbf79c409\"></div>\n",
       "</div>"
      ]
     },
     "metadata": {},
     "output_type": "display_data"
    },
    {
     "data": {
      "application/javascript": [
       "(function(root) {\n",
       "  function embed_document(root) {\n",
       "    \n",
       "  var docs_json = {\"e9b6bc48-57d9-4bbb-8ee4-221f32bce45f\":{\"roots\":{\"references\":[{\"attributes\":{\"plot\":{\"id\":\"46878742-aa37-49b0-956a-e9759326355e\",\"subtype\":\"Figure\",\"type\":\"Plot\"},\"ticker\":{\"id\":\"c9946813-19a4-458b-a1fc-b15d79070975\",\"type\":\"BasicTicker\"}},\"id\":\"042ceee4-40f0-495d-b770-d79fa60795de\",\"type\":\"Grid\"},{\"attributes\":{\"data_source\":{\"id\":\"a4d18add-1d04-4ce6-9bb5-5724fc94b45d\",\"type\":\"ColumnDataSource\"},\"glyph\":{\"id\":\"c27629f6-b6f7-430c-9ff8-504a520d7d4e\",\"type\":\"Line\"},\"hover_glyph\":null,\"muted_glyph\":null,\"nonselection_glyph\":{\"id\":\"14592a24-29c4-4717-88b1-c424681b131c\",\"type\":\"Line\"},\"selection_glyph\":null,\"view\":{\"id\":\"17fd944e-ad08-4645-bc99-2498279c2a6b\",\"type\":\"CDSView\"}},\"id\":\"347ac12c-1a6c-48f6-86e2-c455626feb47\",\"type\":\"GlyphRenderer\"},{\"attributes\":{},\"id\":\"4573ff04-cab8-4717-a5d1-74f082e6b72a\",\"type\":\"PanTool\"},{\"attributes\":{},\"id\":\"06f6ed9a-5cae-4091-9a16-c3579f6f98b1\",\"type\":\"LinearScale\"},{\"attributes\":{},\"id\":\"481978cf-acce-44a2-8196-2f03f6c45bc2\",\"type\":\"LinearScale\"},{\"attributes\":{\"line_color\":\"#1f77b4\",\"x\":{\"field\":\"x\"},\"y\":{\"field\":\"y\"}},\"id\":\"c27629f6-b6f7-430c-9ff8-504a520d7d4e\",\"type\":\"Line\"},{\"attributes\":{\"plot\":null,\"text\":\"\"},\"id\":\"c012dda9-5698-4475-be34-1126aed9b0bf\",\"type\":\"Title\"},{\"attributes\":{\"overlay\":{\"id\":\"e154f756-debb-4594-b0b8-632fbca258b2\",\"type\":\"BoxAnnotation\"}},\"id\":\"e9e0bfdd-8841-47eb-8b8b-08ddc80b9a66\",\"type\":\"BoxZoomTool\"},{\"attributes\":{\"callback\":null},\"id\":\"790a46ae-5aa9-4d15-931a-61a5707b3608\",\"type\":\"DataRange1d\"},{\"attributes\":{},\"id\":\"f0fa1362-db18-4b12-9a44-cfdaa2250d5a\",\"type\":\"HelpTool\"},{\"attributes\":{},\"id\":\"5e53e261-9518-4080-95eb-d18063a80261\",\"type\":\"BasicTickFormatter\"},{\"attributes\":{},\"id\":\"0fe6acdb-3be8-4736-b502-1e42bed5ade7\",\"type\":\"ResetTool\"},{\"attributes\":{\"active_drag\":\"auto\",\"active_inspect\":\"auto\",\"active_scroll\":\"auto\",\"active_tap\":\"auto\",\"tools\":[{\"id\":\"4573ff04-cab8-4717-a5d1-74f082e6b72a\",\"type\":\"PanTool\"},{\"id\":\"ba89e39a-4ed8-42ae-884b-41f73bc31e4b\",\"type\":\"WheelZoomTool\"},{\"id\":\"e9e0bfdd-8841-47eb-8b8b-08ddc80b9a66\",\"type\":\"BoxZoomTool\"},{\"id\":\"503b969c-1d43-4966-9f42-87db1e4a4928\",\"type\":\"SaveTool\"},{\"id\":\"0fe6acdb-3be8-4736-b502-1e42bed5ade7\",\"type\":\"ResetTool\"},{\"id\":\"f0fa1362-db18-4b12-9a44-cfdaa2250d5a\",\"type\":\"HelpTool\"}]},\"id\":\"dd6f59ab-ad74-4ddc-9167-5188571d8d21\",\"type\":\"Toolbar\"},{\"attributes\":{},\"id\":\"503b969c-1d43-4966-9f42-87db1e4a4928\",\"type\":\"SaveTool\"},{\"attributes\":{\"callback\":null,\"column_names\":[\"x\",\"y\"],\"data\":{\"x\":{\"__ndarray__\":\"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\",\"dtype\":\"float64\",\"shape\":[1340]},\"y\":[-5,-1,0,0,-2,0,0,0,0,-1,0,1,0,-1,0,0,0,-2,-1,0,1,0,2,0,-2,0,0,0,0,-1,1,2,0,-1,1,-1,0,0,0,0,-1,-1,-1,0,0,0,0,0,-1,0,-1,-1,0,-2,0,-1,0,0,-1,-1,-1,0,-1,1,0,-2,-1,0,-1,0,0,0,0,-2,-1,-1,-1,0,-1,1,-3,0,-1,0,1,-1,0,-1,0,-1,1,-1,-2,0,1,-1,-1,1,0,1,-1,-1,-2,0,0,0,-1,1,0,-1,-1,-1,-2,0,0,0,-1,0,-1,0,-1,-1,1,0,1,-2,0,1,0,-1,-1,0,1,1,0,0,-1,-1,1,-1,-1,1,-1,0,-2,0,1,0,2,0,-1,-2,1,-1,-2,1,-1,0,1,0,-2,0,-1,-1,-3,0,-1,0,-1,-1,1,-1,-1,0,0,0,-1,-1,2,1,-1,-2,-3,-2,-1,-1,0,0,-1,0,0,-2,-1,-1,-1,0,0,-2,0,0,0,-2,-1,-2,-1,1,0,0,0,0,1,0,-1,1,1,0,-1,1,-1,1,-2,1,0,-1,0,0,-1,0,0,-1,-1,-1,0,0,1,0,0,-1,0,0,-1,-1,0,0,0,-2,0,-1,1,-1,2,-2,-2,0,-1,-1,0,-2,-1,-2,-2,0,1,0,-1,0,0,0,0,2,-1,0,1,-1,-1,-1,0,-1,0,-1,0,0,0,-2,-2,-1,0,0,0,-1,-1,0,-2,-2,0,-1,0,1,0,0,-2,0,0,0,-2,-1,-1,-1,-1,0,0,-2,-1,0,-2,-1,1,-1,0,-1,0,-1,-3,-1,-1,-1,1,0,-1,-2,-2,1,0,-1,0,-1,-2,0,-2,0,-2,0,0,0,0,-1,-2,2,1,1,0,1,0,1,6,6,8,8,8,12,12,13,14,13,13,9,9,6,6,3,2,2,1,3,3,2,2,4,2,5,4,2,2,4,2,3,3,1,4,2,6,3,3,4,2,5,4,7,6,5,4,3,5,6,4,6,4,6,7,6,7,7,5,8,8,9,7,10,11,11,10,11,16,18,17,19,29,29,27,32,45,40,56,53,62,71,83,99,135,135,149,191,197,228,254,254,256,283,293,274,274,264,244,241,228,219,188,173,176,153,143,116,113,104,83,71,77,57,60,56,47,43,42,35,35,33,26,34,33,30,25,27,23,24,26,31,28,23,24,28,32,30,33,27,31,35,36,42,35,33,34,43,43,44,45,40,44,46,35,46,43,49,52,53,54,50,52,48,54,51,49,62,60,56,61,64,66,78,81,73,88,95,108,122,128,140,163,202,229,261,345,402,486,600,715,864,1146,1268,1287,1341,1383,1577,1580,1436,1345,1442,1281,1113,1046,1028,1007,953,790,823,816,730,590,515,443,374,337,285,261,225,215,202,185,155,145,141,136,136,114,106,109,106,107,98,97,101,95,99,91,98,95,102,91,84,98,93,92,98,100,90,91,85,75,81,66,63,59,56,59,53,47,39,45,36,46,40,35,39,36,33,29,34,34,32,30,35,52,52,54,46,60,68,81,81,86,89,114,119,100,98,94,91,99,87,93,81,75,74,69,72,68,68,76,60,58,52,53,46,39,40,36,31,32,33,23,33,26,25,27,19,23,22,23,26,21,20,21,23,21,24,18,22,20,24,22,15,22,18,20,24,18,21,26,21,22,19,17,19,17,17,15,18,19,18,16,19,14,17,15,16,13,14,16,14,15,14,12,8,12,12,13,7,10,11,9,8,9,10,8,10,10,8,9,8,6,5,10,5,7,7,3,6,5,5,8,6,5,3,4,4,5,4,6,8,6,4,8,5,9,5,5,4,4,3,6,5,4,4,6,3,5,1,5,1,4,3,3,2,3,0,3,0,5,4,2,2,5,3,4,1,1,3,2,3,1,3,2,2,3,2,4,3,1,5,3,2,0,2,1,1,1,1,2,3,2,2,2,2,1,0,1,2,-1,2,3,1,1,2,2,1,2,3,-1,1,0,1,1,0,3,-1,2,3,0,2,-1,1,2,1,0,2,1,1,3,1,0,1,1,3,1,1,2,1,-1,1,1,3,2,0,1,0,1,1,0,4,1,0,0,-1,-1,2,1,2,0,0,0,1,1,0,0,-1,1,1,1,2,2,1,-2,0,2,2,0,0,3,0,1,0,0,1,1,1,2,1,0,2,0,3,1,1,0,0,-2,0,-2,2,3,0,1,-1,1,1,0,1,0,0,1,0,1,1,1,-1,2,0,2,0,-1,1,1,0,2,2,1,1,2,1,1,0,0,1,2,0,1,0,-1,1,1,2,2,2,1,2,2,1,1,2,0,1,0,1,1,2,-2,0,1,3,1,1,3,1,-1,-1,1,1,1,-1,2,0,0,0,0,1,0,1,1,-1,0,1,0,2,0,1,0,0,1,2,2,0,2,0,3,2,2,0,0,2,-1,0,1,3,2,1,1,1,0,3,2,3,-1,2,2,1,0,3,3,2,3,0,0,1,1,2,2,2,2,2,1,2,2,1,3,2,0,0,1,2,3,4,2,1,2,2,2,3,2,1,1,4,2,2,2,0,2,2,1,-2,3,2,1,1,3,0,2,0,1,2,3,2,1,2,3,2,4,3,0,2,1,4,1,0,2,2,2,1,4,4,1,3,1,4,3,2,1,2,2,3,1,3,1,3,2,2,1,3,2,3,3,2,4,2,5,2,0,3,0,2,3,1,5,0,2,2,3,3,0,2,0,2,2,1,4,4,4,4,2,5,2,3,3,3,2,4,2,4,0,5,3,2,3,3,5,3,5,4,3,6,1,3,1,2,2,1,3,2,1,4,2,3,4,4,2,4,2,1,3,3,3,5,2,7,5,5,4,5,3,4,3,5,5,6,4,5,1,3,3,4,8,5,3,4,2,3,2,3,4,2,3,3,3,4,3,4,6,4,5,3,6,3,7,0,5,2,3,6,3,3,6,4,3,2,5,3,6,2,5,3,7,4,3,3,5,5,5,6,4,6,6,2,7,3,3,5,4,5,7,4,6,3,5,5,4,4,4,5,3,5,4,4,5,10,6,7,6,6,3,2,4,6,2,4,4,3,3,2,8,3,7,5,6,3,5,2,5,4,7,6,6,4,9,6,5,4,5,3,5,7,4,5]}},\"id\":\"a4d18add-1d04-4ce6-9bb5-5724fc94b45d\",\"type\":\"ColumnDataSource\"},{\"attributes\":{\"bottom_units\":\"screen\",\"fill_alpha\":{\"value\":0.5},\"fill_color\":{\"value\":\"lightgrey\"},\"left_units\":\"screen\",\"level\":\"overlay\",\"line_alpha\":{\"value\":1.0},\"line_color\":{\"value\":\"black\"},\"line_dash\":[4,4],\"line_width\":{\"value\":2},\"plot\":null,\"render_mode\":\"css\",\"right_units\":\"screen\",\"top_units\":\"screen\"},\"id\":\"e154f756-debb-4594-b0b8-632fbca258b2\",\"type\":\"BoxAnnotation\"},{\"attributes\":{\"dimension\":1,\"plot\":{\"id\":\"46878742-aa37-49b0-956a-e9759326355e\",\"subtype\":\"Figure\",\"type\":\"Plot\"},\"ticker\":{\"id\":\"748b8f9c-a287-4982-bdbb-5f60ed13018b\",\"type\":\"BasicTicker\"}},\"id\":\"4a54a445-2591-4939-a8b2-c4444073328a\",\"type\":\"Grid\"},{\"attributes\":{\"line_alpha\":0.1,\"line_color\":\"#1f77b4\",\"x\":{\"field\":\"x\"},\"y\":{\"field\":\"y\"}},\"id\":\"14592a24-29c4-4717-88b1-c424681b131c\",\"type\":\"Line\"},{\"attributes\":{\"callback\":null},\"id\":\"87a4712d-8e3c-41ff-8a7b-35af8bee34f2\",\"type\":\"DataRange1d\"},{\"attributes\":{\"formatter\":{\"id\":\"826384c0-35f1-4018-bfd3-161bb4ca6259\",\"type\":\"BasicTickFormatter\"},\"plot\":{\"id\":\"46878742-aa37-49b0-956a-e9759326355e\",\"subtype\":\"Figure\",\"type\":\"Plot\"},\"ticker\":{\"id\":\"748b8f9c-a287-4982-bdbb-5f60ed13018b\",\"type\":\"BasicTicker\"}},\"id\":\"b126febf-6480-45e0-a4b9-83f5981c0d1e\",\"type\":\"LinearAxis\"},{\"attributes\":{\"source\":{\"id\":\"a4d18add-1d04-4ce6-9bb5-5724fc94b45d\",\"type\":\"ColumnDataSource\"}},\"id\":\"17fd944e-ad08-4645-bc99-2498279c2a6b\",\"type\":\"CDSView\"},{\"attributes\":{},\"id\":\"748b8f9c-a287-4982-bdbb-5f60ed13018b\",\"type\":\"BasicTicker\"},{\"attributes\":{\"below\":[{\"id\":\"030515dd-b119-42e3-9d8d-6fb9714351a6\",\"type\":\"LinearAxis\"}],\"left\":[{\"id\":\"b126febf-6480-45e0-a4b9-83f5981c0d1e\",\"type\":\"LinearAxis\"}],\"renderers\":[{\"id\":\"030515dd-b119-42e3-9d8d-6fb9714351a6\",\"type\":\"LinearAxis\"},{\"id\":\"042ceee4-40f0-495d-b770-d79fa60795de\",\"type\":\"Grid\"},{\"id\":\"b126febf-6480-45e0-a4b9-83f5981c0d1e\",\"type\":\"LinearAxis\"},{\"id\":\"4a54a445-2591-4939-a8b2-c4444073328a\",\"type\":\"Grid\"},{\"id\":\"e154f756-debb-4594-b0b8-632fbca258b2\",\"type\":\"BoxAnnotation\"},{\"id\":\"347ac12c-1a6c-48f6-86e2-c455626feb47\",\"type\":\"GlyphRenderer\"}],\"title\":{\"id\":\"c012dda9-5698-4475-be34-1126aed9b0bf\",\"type\":\"Title\"},\"toolbar\":{\"id\":\"dd6f59ab-ad74-4ddc-9167-5188571d8d21\",\"type\":\"Toolbar\"},\"x_range\":{\"id\":\"87a4712d-8e3c-41ff-8a7b-35af8bee34f2\",\"type\":\"DataRange1d\"},\"x_scale\":{\"id\":\"06f6ed9a-5cae-4091-9a16-c3579f6f98b1\",\"type\":\"LinearScale\"},\"y_range\":{\"id\":\"790a46ae-5aa9-4d15-931a-61a5707b3608\",\"type\":\"DataRange1d\"},\"y_scale\":{\"id\":\"481978cf-acce-44a2-8196-2f03f6c45bc2\",\"type\":\"LinearScale\"}},\"id\":\"46878742-aa37-49b0-956a-e9759326355e\",\"subtype\":\"Figure\",\"type\":\"Plot\"},{\"attributes\":{},\"id\":\"ba89e39a-4ed8-42ae-884b-41f73bc31e4b\",\"type\":\"WheelZoomTool\"},{\"attributes\":{\"formatter\":{\"id\":\"5e53e261-9518-4080-95eb-d18063a80261\",\"type\":\"BasicTickFormatter\"},\"plot\":{\"id\":\"46878742-aa37-49b0-956a-e9759326355e\",\"subtype\":\"Figure\",\"type\":\"Plot\"},\"ticker\":{\"id\":\"c9946813-19a4-458b-a1fc-b15d79070975\",\"type\":\"BasicTicker\"}},\"id\":\"030515dd-b119-42e3-9d8d-6fb9714351a6\",\"type\":\"LinearAxis\"},{\"attributes\":{},\"id\":\"826384c0-35f1-4018-bfd3-161bb4ca6259\",\"type\":\"BasicTickFormatter\"},{\"attributes\":{},\"id\":\"c9946813-19a4-458b-a1fc-b15d79070975\",\"type\":\"BasicTicker\"}],\"root_ids\":[\"46878742-aa37-49b0-956a-e9759326355e\"]},\"title\":\"Bokeh Application\",\"version\":\"0.12.14\"}};\n",
       "  var render_items = [{\"docid\":\"e9b6bc48-57d9-4bbb-8ee4-221f32bce45f\",\"elementid\":\"506c7768-7590-4e05-8848-5d9bbf79c409\",\"modelid\":\"46878742-aa37-49b0-956a-e9759326355e\"}];\n",
       "  root.Bokeh.embed.embed_items_notebook(docs_json, render_items);\n",
       "\n",
       "  }\n",
       "  if (root.Bokeh !== undefined) {\n",
       "    embed_document(root);\n",
       "  } else {\n",
       "    var attempts = 0;\n",
       "    var timer = setInterval(function(root) {\n",
       "      if (root.Bokeh !== undefined) {\n",
       "        embed_document(root);\n",
       "        clearInterval(timer);\n",
       "      }\n",
       "      attempts++;\n",
       "      if (attempts > 100) {\n",
       "        console.log(\"Bokeh: ERROR: Unable to run BokehJS code because BokehJS library is missing\")\n",
       "        clearInterval(timer);\n",
       "      }\n",
       "    }, 10, root)\n",
       "  }\n",
       "})(window);"
      ],
      "application/vnd.bokehjs_exec.v0+json": ""
     },
     "metadata": {
      "application/vnd.bokehjs_exec.v0+json": {
       "id": "46878742-aa37-49b0-956a-e9759326355e"
      }
     },
     "output_type": "display_data"
    }
   ],
   "source": [
    "p = figure()\n",
    "p.line(calibration, spec)\n",
    "show(p)"
   ]
  }
 ],
 "metadata": {
  "kernelspec": {
   "display_name": "Python 3",
   "language": "python",
   "name": "python3"
  },
  "language_info": {
   "codemirror_mode": {
    "name": "ipython",
    "version": 3
   },
   "file_extension": ".py",
   "mimetype": "text/x-python",
   "name": "python",
   "nbconvert_exporter": "python",
   "pygments_lexer": "ipython3",
   "version": "3.6.4+"
  }
 },
 "nbformat": 4,
 "nbformat_minor": 2
}
