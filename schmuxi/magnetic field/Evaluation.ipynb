{
 "cells": [
  {
   "cell_type": "code",
   "execution_count": 88,
   "metadata": {},
   "outputs": [],
   "source": [
    "import numpy as np\n",
    "import pandas as pd\n",
    "import matplotlib.pyplot as plt\n",
    "from scipy.optimize import curve_fit\n",
    "from glob import glob\n",
    "from bokeh.layouts import gridplot\n",
    "from bokeh.plotting import figure, show\n",
    "from bokeh.io import output_notebook\n",
    "from scipy import stats"
   ]
  },
  {
   "cell_type": "code",
   "execution_count": 89,
   "metadata": {},
   "outputs": [
    {
     "data": {
      "text/plain": [
       "5.7883818012e-05"
      ]
     },
     "execution_count": 89,
     "metadata": {},
     "output_type": "execute_result"
    }
   ],
   "source": [
    "mu_b = 5.7883818012 * 10**(-5)\n",
    "mu_b"
   ]
  },
  {
   "cell_type": "code",
   "execution_count": 90,
   "metadata": {},
   "outputs": [],
   "source": [
    "list_sweepVT = sorted(glob('*Voltage_Sweep.tsv.gz'))"
   ]
  },
  {
   "cell_type": "code",
   "execution_count": 91,
   "metadata": {},
   "outputs": [],
   "source": [
    "list_calibration = glob('*.wlen_to_px.tsv.gz')"
   ]
  },
  {
   "cell_type": "code",
   "execution_count": 92,
   "metadata": {},
   "outputs": [],
   "source": [
    "calibration = 1230.8 / (pd.read_csv(list_calibration[0], header=None).as_matrix().transpose())[0]"
   ]
  },
  {
   "cell_type": "code",
   "execution_count": 93,
   "metadata": {},
   "outputs": [],
   "source": [
    "sweepVT_sigmam = np.array([pd.read_csv(file, sep='\\t', header=None).as_matrix() for file in list_sweepVT[:9]])\n",
    "sweepVT_sigmap = np.array([pd.read_csv(file, sep='\\t', header=None).as_matrix() for file in list_sweepVT[9:]])"
   ]
  },
  {
   "cell_type": "code",
   "execution_count": 94,
   "metadata": {},
   "outputs": [
    {
     "data": {
      "text/plain": [
       "(9, 81, 1340)"
      ]
     },
     "execution_count": 94,
     "metadata": {},
     "output_type": "execute_result"
    }
   ],
   "source": [
    "np.shape(sweepVT_sigmam)\n"
   ]
  },
  {
   "cell_type": "code",
   "execution_count": 95,
   "metadata": {},
   "outputs": [
    {
     "data": {
      "text/plain": [
       "(9, 81, 1340)"
      ]
     },
     "execution_count": 95,
     "metadata": {},
     "output_type": "execute_result"
    }
   ],
   "source": [
    "np.shape(sweepVT_sigmap)"
   ]
  },
  {
   "cell_type": "code",
   "execution_count": 96,
   "metadata": {},
   "outputs": [
    {
     "data": {
      "text/plain": [
       "(1340,)"
      ]
     },
     "execution_count": 96,
     "metadata": {},
     "output_type": "execute_result"
    }
   ],
   "source": [
    "np.shape(sweepVT_sigmap[0,0,:])"
   ]
  },
  {
   "cell_type": "code",
   "execution_count": 97,
   "metadata": {},
   "outputs": [
    {
     "data": {
      "text/plain": [
       "array([1.85623947, 1.85587281, 1.85550909, ..., 1.47222415, 1.47199701,\n",
       "       1.47177171])"
      ]
     },
     "execution_count": 97,
     "metadata": {},
     "output_type": "execute_result"
    }
   ],
   "source": [
    "spec = sweepVT_sigmap[0,15,:]\n",
    "calibration"
   ]
  },
  {
   "cell_type": "code",
   "execution_count": 98,
   "metadata": {},
   "outputs": [
    {
     "data": {
      "text/html": [
       "\n",
       "    <div class=\"bk-root\">\n",
       "        <a href=\"https://bokeh.pydata.org\" target=\"_blank\" class=\"bk-logo bk-logo-small bk-logo-notebook\"></a>\n",
       "        <span id=\"92fab56a-c42e-45f0-8a98-47fa5358ac58\">Loading BokehJS ...</span>\n",
       "    </div>"
      ]
     },
     "metadata": {},
     "output_type": "display_data"
    },
    {
     "data": {
      "application/javascript": [
       "\n",
       "(function(root) {\n",
       "  function now() {\n",
       "    return new Date();\n",
       "  }\n",
       "\n",
       "  var force = true;\n",
       "\n",
       "  if (typeof (root._bokeh_onload_callbacks) === \"undefined\" || force === true) {\n",
       "    root._bokeh_onload_callbacks = [];\n",
       "    root._bokeh_is_loading = undefined;\n",
       "  }\n",
       "\n",
       "  var JS_MIME_TYPE = 'application/javascript';\n",
       "  var HTML_MIME_TYPE = 'text/html';\n",
       "  var EXEC_MIME_TYPE = 'application/vnd.bokehjs_exec.v0+json';\n",
       "  var CLASS_NAME = 'output_bokeh rendered_html';\n",
       "\n",
       "  /**\n",
       "   * Render data to the DOM node\n",
       "   */\n",
       "  function render(props, node) {\n",
       "    var script = document.createElement(\"script\");\n",
       "    node.appendChild(script);\n",
       "  }\n",
       "\n",
       "  /**\n",
       "   * Handle when an output is cleared or removed\n",
       "   */\n",
       "  function handleClearOutput(event, handle) {\n",
       "    var cell = handle.cell;\n",
       "\n",
       "    var id = cell.output_area._bokeh_element_id;\n",
       "    var server_id = cell.output_area._bokeh_server_id;\n",
       "    // Clean up Bokeh references\n",
       "    if (id !== undefined) {\n",
       "      Bokeh.index[id].model.document.clear();\n",
       "      delete Bokeh.index[id];\n",
       "    }\n",
       "\n",
       "    if (server_id !== undefined) {\n",
       "      // Clean up Bokeh references\n",
       "      var cmd = \"from bokeh.io.state import curstate; print(curstate().uuid_to_server['\" + server_id + \"'].get_sessions()[0].document.roots[0]._id)\";\n",
       "      cell.notebook.kernel.execute(cmd, {\n",
       "        iopub: {\n",
       "          output: function(msg) {\n",
       "            var element_id = msg.content.text.trim();\n",
       "            Bokeh.index[element_id].model.document.clear();\n",
       "            delete Bokeh.index[element_id];\n",
       "          }\n",
       "        }\n",
       "      });\n",
       "      // Destroy server and session\n",
       "      var cmd = \"import bokeh.io.notebook as ion; ion.destroy_server('\" + server_id + \"')\";\n",
       "      cell.notebook.kernel.execute(cmd);\n",
       "    }\n",
       "  }\n",
       "\n",
       "  /**\n",
       "   * Handle when a new output is added\n",
       "   */\n",
       "  function handleAddOutput(event, handle) {\n",
       "    var output_area = handle.output_area;\n",
       "    var output = handle.output;\n",
       "\n",
       "    // limit handleAddOutput to display_data with EXEC_MIME_TYPE content only\n",
       "    if ((output.output_type != \"display_data\") || (!output.data.hasOwnProperty(EXEC_MIME_TYPE))) {\n",
       "      return\n",
       "    }\n",
       "\n",
       "    var toinsert = output_area.element.find(\".\" + CLASS_NAME.split(' ')[0]);\n",
       "\n",
       "    if (output.metadata[EXEC_MIME_TYPE][\"id\"] !== undefined) {\n",
       "      toinsert[0].firstChild.textContent = output.data[JS_MIME_TYPE];\n",
       "      // store reference to embed id on output_area\n",
       "      output_area._bokeh_element_id = output.metadata[EXEC_MIME_TYPE][\"id\"];\n",
       "    }\n",
       "    if (output.metadata[EXEC_MIME_TYPE][\"server_id\"] !== undefined) {\n",
       "      var bk_div = document.createElement(\"div\");\n",
       "      bk_div.innerHTML = output.data[HTML_MIME_TYPE];\n",
       "      var script_attrs = bk_div.children[0].attributes;\n",
       "      for (var i = 0; i < script_attrs.length; i++) {\n",
       "        toinsert[0].firstChild.setAttribute(script_attrs[i].name, script_attrs[i].value);\n",
       "      }\n",
       "      // store reference to server id on output_area\n",
       "      output_area._bokeh_server_id = output.metadata[EXEC_MIME_TYPE][\"server_id\"];\n",
       "    }\n",
       "  }\n",
       "\n",
       "  function register_renderer(events, OutputArea) {\n",
       "\n",
       "    function append_mime(data, metadata, element) {\n",
       "      // create a DOM node to render to\n",
       "      var toinsert = this.create_output_subarea(\n",
       "        metadata,\n",
       "        CLASS_NAME,\n",
       "        EXEC_MIME_TYPE\n",
       "      );\n",
       "      this.keyboard_manager.register_events(toinsert);\n",
       "      // Render to node\n",
       "      var props = {data: data, metadata: metadata[EXEC_MIME_TYPE]};\n",
       "      render(props, toinsert[0]);\n",
       "      element.append(toinsert);\n",
       "      return toinsert\n",
       "    }\n",
       "\n",
       "    /* Handle when an output is cleared or removed */\n",
       "    events.on('clear_output.CodeCell', handleClearOutput);\n",
       "    events.on('delete.Cell', handleClearOutput);\n",
       "\n",
       "    /* Handle when a new output is added */\n",
       "    events.on('output_added.OutputArea', handleAddOutput);\n",
       "\n",
       "    /**\n",
       "     * Register the mime type and append_mime function with output_area\n",
       "     */\n",
       "    OutputArea.prototype.register_mime_type(EXEC_MIME_TYPE, append_mime, {\n",
       "      /* Is output safe? */\n",
       "      safe: true,\n",
       "      /* Index of renderer in `output_area.display_order` */\n",
       "      index: 0\n",
       "    });\n",
       "  }\n",
       "\n",
       "  // register the mime type if in Jupyter Notebook environment and previously unregistered\n",
       "  if (root.Jupyter !== undefined) {\n",
       "    var events = require('base/js/events');\n",
       "    var OutputArea = require('notebook/js/outputarea').OutputArea;\n",
       "\n",
       "    if (OutputArea.prototype.mime_types().indexOf(EXEC_MIME_TYPE) == -1) {\n",
       "      register_renderer(events, OutputArea);\n",
       "    }\n",
       "  }\n",
       "\n",
       "  \n",
       "  if (typeof (root._bokeh_timeout) === \"undefined\" || force === true) {\n",
       "    root._bokeh_timeout = Date.now() + 5000;\n",
       "    root._bokeh_failed_load = false;\n",
       "  }\n",
       "\n",
       "  var NB_LOAD_WARNING = {'data': {'text/html':\n",
       "     \"<div style='background-color: #fdd'>\\n\"+\n",
       "     \"<p>\\n\"+\n",
       "     \"BokehJS does not appear to have successfully loaded. If loading BokehJS from CDN, this \\n\"+\n",
       "     \"may be due to a slow or bad network connection. Possible fixes:\\n\"+\n",
       "     \"</p>\\n\"+\n",
       "     \"<ul>\\n\"+\n",
       "     \"<li>re-rerun `output_notebook()` to attempt to load from CDN again, or</li>\\n\"+\n",
       "     \"<li>use INLINE resources instead, as so:</li>\\n\"+\n",
       "     \"</ul>\\n\"+\n",
       "     \"<code>\\n\"+\n",
       "     \"from bokeh.resources import INLINE\\n\"+\n",
       "     \"output_notebook(resources=INLINE)\\n\"+\n",
       "     \"</code>\\n\"+\n",
       "     \"</div>\"}};\n",
       "\n",
       "  function display_loaded() {\n",
       "    var el = document.getElementById(\"92fab56a-c42e-45f0-8a98-47fa5358ac58\");\n",
       "    if (el != null) {\n",
       "      el.textContent = \"BokehJS is loading...\";\n",
       "    }\n",
       "    if (root.Bokeh !== undefined) {\n",
       "      if (el != null) {\n",
       "        el.textContent = \"BokehJS \" + root.Bokeh.version + \" successfully loaded.\";\n",
       "      }\n",
       "    } else if (Date.now() < root._bokeh_timeout) {\n",
       "      setTimeout(display_loaded, 100)\n",
       "    }\n",
       "  }\n",
       "\n",
       "\n",
       "  function run_callbacks() {\n",
       "    try {\n",
       "      root._bokeh_onload_callbacks.forEach(function(callback) { callback() });\n",
       "    }\n",
       "    finally {\n",
       "      delete root._bokeh_onload_callbacks\n",
       "    }\n",
       "    console.info(\"Bokeh: all callbacks have finished\");\n",
       "  }\n",
       "\n",
       "  function load_libs(js_urls, callback) {\n",
       "    root._bokeh_onload_callbacks.push(callback);\n",
       "    if (root._bokeh_is_loading > 0) {\n",
       "      console.log(\"Bokeh: BokehJS is being loaded, scheduling callback at\", now());\n",
       "      return null;\n",
       "    }\n",
       "    if (js_urls == null || js_urls.length === 0) {\n",
       "      run_callbacks();\n",
       "      return null;\n",
       "    }\n",
       "    console.log(\"Bokeh: BokehJS not loaded, scheduling load and callback at\", now());\n",
       "    root._bokeh_is_loading = js_urls.length;\n",
       "    for (var i = 0; i < js_urls.length; i++) {\n",
       "      var url = js_urls[i];\n",
       "      var s = document.createElement('script');\n",
       "      s.src = url;\n",
       "      s.async = false;\n",
       "      s.onreadystatechange = s.onload = function() {\n",
       "        root._bokeh_is_loading--;\n",
       "        if (root._bokeh_is_loading === 0) {\n",
       "          console.log(\"Bokeh: all BokehJS libraries loaded\");\n",
       "          run_callbacks()\n",
       "        }\n",
       "      };\n",
       "      s.onerror = function() {\n",
       "        console.warn(\"failed to load library \" + url);\n",
       "      };\n",
       "      console.log(\"Bokeh: injecting script tag for BokehJS library: \", url);\n",
       "      document.getElementsByTagName(\"head\")[0].appendChild(s);\n",
       "    }\n",
       "  };var element = document.getElementById(\"92fab56a-c42e-45f0-8a98-47fa5358ac58\");\n",
       "  if (element == null) {\n",
       "    console.log(\"Bokeh: ERROR: autoload.js configured with elementid '92fab56a-c42e-45f0-8a98-47fa5358ac58' but no matching script tag was found. \")\n",
       "    return false;\n",
       "  }\n",
       "\n",
       "  var js_urls = [\"https://cdn.pydata.org/bokeh/release/bokeh-0.12.14.min.js\", \"https://cdn.pydata.org/bokeh/release/bokeh-widgets-0.12.14.min.js\", \"https://cdn.pydata.org/bokeh/release/bokeh-tables-0.12.14.min.js\", \"https://cdn.pydata.org/bokeh/release/bokeh-gl-0.12.14.min.js\"];\n",
       "\n",
       "  var inline_js = [\n",
       "    function(Bokeh) {\n",
       "      Bokeh.set_log_level(\"info\");\n",
       "    },\n",
       "    \n",
       "    function(Bokeh) {\n",
       "      \n",
       "    },\n",
       "    function(Bokeh) {\n",
       "      console.log(\"Bokeh: injecting CSS: https://cdn.pydata.org/bokeh/release/bokeh-0.12.14.min.css\");\n",
       "      Bokeh.embed.inject_css(\"https://cdn.pydata.org/bokeh/release/bokeh-0.12.14.min.css\");\n",
       "      console.log(\"Bokeh: injecting CSS: https://cdn.pydata.org/bokeh/release/bokeh-widgets-0.12.14.min.css\");\n",
       "      Bokeh.embed.inject_css(\"https://cdn.pydata.org/bokeh/release/bokeh-widgets-0.12.14.min.css\");\n",
       "      console.log(\"Bokeh: injecting CSS: https://cdn.pydata.org/bokeh/release/bokeh-tables-0.12.14.min.css\");\n",
       "      Bokeh.embed.inject_css(\"https://cdn.pydata.org/bokeh/release/bokeh-tables-0.12.14.min.css\");\n",
       "    }\n",
       "  ];\n",
       "\n",
       "  function run_inline_js() {\n",
       "    \n",
       "    if ((root.Bokeh !== undefined) || (force === true)) {\n",
       "      for (var i = 0; i < inline_js.length; i++) {\n",
       "        inline_js[i].call(root, root.Bokeh);\n",
       "      }if (force === true) {\n",
       "        display_loaded();\n",
       "      }} else if (Date.now() < root._bokeh_timeout) {\n",
       "      setTimeout(run_inline_js, 100);\n",
       "    } else if (!root._bokeh_failed_load) {\n",
       "      console.log(\"Bokeh: BokehJS failed to load within specified timeout.\");\n",
       "      root._bokeh_failed_load = true;\n",
       "    } else if (force !== true) {\n",
       "      var cell = $(document.getElementById(\"92fab56a-c42e-45f0-8a98-47fa5358ac58\")).parents('.cell').data().cell;\n",
       "      cell.output_area.append_execute_result(NB_LOAD_WARNING)\n",
       "    }\n",
       "\n",
       "  }\n",
       "\n",
       "  if (root._bokeh_is_loading === 0) {\n",
       "    console.log(\"Bokeh: BokehJS loaded, going straight to plotting\");\n",
       "    run_inline_js();\n",
       "  } else {\n",
       "    load_libs(js_urls, function() {\n",
       "      console.log(\"Bokeh: BokehJS plotting callback run at\", now());\n",
       "      run_inline_js();\n",
       "    });\n",
       "  }\n",
       "}(window));"
      ],
      "application/vnd.bokehjs_load.v0+json": "\n(function(root) {\n  function now() {\n    return new Date();\n  }\n\n  var force = true;\n\n  if (typeof (root._bokeh_onload_callbacks) === \"undefined\" || force === true) {\n    root._bokeh_onload_callbacks = [];\n    root._bokeh_is_loading = undefined;\n  }\n\n  \n\n  \n  if (typeof (root._bokeh_timeout) === \"undefined\" || force === true) {\n    root._bokeh_timeout = Date.now() + 5000;\n    root._bokeh_failed_load = false;\n  }\n\n  var NB_LOAD_WARNING = {'data': {'text/html':\n     \"<div style='background-color: #fdd'>\\n\"+\n     \"<p>\\n\"+\n     \"BokehJS does not appear to have successfully loaded. If loading BokehJS from CDN, this \\n\"+\n     \"may be due to a slow or bad network connection. Possible fixes:\\n\"+\n     \"</p>\\n\"+\n     \"<ul>\\n\"+\n     \"<li>re-rerun `output_notebook()` to attempt to load from CDN again, or</li>\\n\"+\n     \"<li>use INLINE resources instead, as so:</li>\\n\"+\n     \"</ul>\\n\"+\n     \"<code>\\n\"+\n     \"from bokeh.resources import INLINE\\n\"+\n     \"output_notebook(resources=INLINE)\\n\"+\n     \"</code>\\n\"+\n     \"</div>\"}};\n\n  function display_loaded() {\n    var el = document.getElementById(\"92fab56a-c42e-45f0-8a98-47fa5358ac58\");\n    if (el != null) {\n      el.textContent = \"BokehJS is loading...\";\n    }\n    if (root.Bokeh !== undefined) {\n      if (el != null) {\n        el.textContent = \"BokehJS \" + root.Bokeh.version + \" successfully loaded.\";\n      }\n    } else if (Date.now() < root._bokeh_timeout) {\n      setTimeout(display_loaded, 100)\n    }\n  }\n\n\n  function run_callbacks() {\n    try {\n      root._bokeh_onload_callbacks.forEach(function(callback) { callback() });\n    }\n    finally {\n      delete root._bokeh_onload_callbacks\n    }\n    console.info(\"Bokeh: all callbacks have finished\");\n  }\n\n  function load_libs(js_urls, callback) {\n    root._bokeh_onload_callbacks.push(callback);\n    if (root._bokeh_is_loading > 0) {\n      console.log(\"Bokeh: BokehJS is being loaded, scheduling callback at\", now());\n      return null;\n    }\n    if (js_urls == null || js_urls.length === 0) {\n      run_callbacks();\n      return null;\n    }\n    console.log(\"Bokeh: BokehJS not loaded, scheduling load and callback at\", now());\n    root._bokeh_is_loading = js_urls.length;\n    for (var i = 0; i < js_urls.length; i++) {\n      var url = js_urls[i];\n      var s = document.createElement('script');\n      s.src = url;\n      s.async = false;\n      s.onreadystatechange = s.onload = function() {\n        root._bokeh_is_loading--;\n        if (root._bokeh_is_loading === 0) {\n          console.log(\"Bokeh: all BokehJS libraries loaded\");\n          run_callbacks()\n        }\n      };\n      s.onerror = function() {\n        console.warn(\"failed to load library \" + url);\n      };\n      console.log(\"Bokeh: injecting script tag for BokehJS library: \", url);\n      document.getElementsByTagName(\"head\")[0].appendChild(s);\n    }\n  };var element = document.getElementById(\"92fab56a-c42e-45f0-8a98-47fa5358ac58\");\n  if (element == null) {\n    console.log(\"Bokeh: ERROR: autoload.js configured with elementid '92fab56a-c42e-45f0-8a98-47fa5358ac58' but no matching script tag was found. \")\n    return false;\n  }\n\n  var js_urls = [\"https://cdn.pydata.org/bokeh/release/bokeh-0.12.14.min.js\", \"https://cdn.pydata.org/bokeh/release/bokeh-widgets-0.12.14.min.js\", \"https://cdn.pydata.org/bokeh/release/bokeh-tables-0.12.14.min.js\", \"https://cdn.pydata.org/bokeh/release/bokeh-gl-0.12.14.min.js\"];\n\n  var inline_js = [\n    function(Bokeh) {\n      Bokeh.set_log_level(\"info\");\n    },\n    \n    function(Bokeh) {\n      \n    },\n    function(Bokeh) {\n      console.log(\"Bokeh: injecting CSS: https://cdn.pydata.org/bokeh/release/bokeh-0.12.14.min.css\");\n      Bokeh.embed.inject_css(\"https://cdn.pydata.org/bokeh/release/bokeh-0.12.14.min.css\");\n      console.log(\"Bokeh: injecting CSS: https://cdn.pydata.org/bokeh/release/bokeh-widgets-0.12.14.min.css\");\n      Bokeh.embed.inject_css(\"https://cdn.pydata.org/bokeh/release/bokeh-widgets-0.12.14.min.css\");\n      console.log(\"Bokeh: injecting CSS: https://cdn.pydata.org/bokeh/release/bokeh-tables-0.12.14.min.css\");\n      Bokeh.embed.inject_css(\"https://cdn.pydata.org/bokeh/release/bokeh-tables-0.12.14.min.css\");\n    }\n  ];\n\n  function run_inline_js() {\n    \n    if ((root.Bokeh !== undefined) || (force === true)) {\n      for (var i = 0; i < inline_js.length; i++) {\n        inline_js[i].call(root, root.Bokeh);\n      }if (force === true) {\n        display_loaded();\n      }} else if (Date.now() < root._bokeh_timeout) {\n      setTimeout(run_inline_js, 100);\n    } else if (!root._bokeh_failed_load) {\n      console.log(\"Bokeh: BokehJS failed to load within specified timeout.\");\n      root._bokeh_failed_load = true;\n    } else if (force !== true) {\n      var cell = $(document.getElementById(\"92fab56a-c42e-45f0-8a98-47fa5358ac58\")).parents('.cell').data().cell;\n      cell.output_area.append_execute_result(NB_LOAD_WARNING)\n    }\n\n  }\n\n  if (root._bokeh_is_loading === 0) {\n    console.log(\"Bokeh: BokehJS loaded, going straight to plotting\");\n    run_inline_js();\n  } else {\n    load_libs(js_urls, function() {\n      console.log(\"Bokeh: BokehJS plotting callback run at\", now());\n      run_inline_js();\n    });\n  }\n}(window));"
     },
     "metadata": {},
     "output_type": "display_data"
    }
   ],
   "source": [
    "output_notebook()"
   ]
  },
  {
   "cell_type": "code",
   "execution_count": null,
   "metadata": {},
   "outputs": [],
   "source": []
  },
  {
   "cell_type": "code",
   "execution_count": 99,
   "metadata": {},
   "outputs": [],
   "source": [
    "def lorentz(x, x_n, G):\n",
    "    X = (x_n - x)/(G/2)\n",
    "    return 1/(1+X**2)"
   ]
  },
  {
   "cell_type": "code",
   "execution_count": 100,
   "metadata": {},
   "outputs": [],
   "source": [
    "a_min, a_max = 1.69, 1.72"
   ]
  },
  {
   "cell_type": "code",
   "execution_count": 101,
   "metadata": {},
   "outputs": [],
   "source": [
    "def fit_a(data,\n",
    "          cal=calibration,\n",
    "          a_min=1.695,\n",
    "          a_max=1.72,\n",
    "          base_function=lorentz,\n",
    "          p0=[1.70, 0.05]):\n",
    "    data_slice = data[np.logical_and(cal>a_min, cal<a_max)]\n",
    "    data_slice = data_slice/data_slice.max()\n",
    "    cal_slice = cal[np.logical_and(cal>a_min, cal<a_max)]\n",
    "    popt, pcov = curve_fit(lorentz, cal_slice, data_slice, p0=p0)\n",
    "    return popt[0]  "
   ]
  },
  {
   "cell_type": "code",
   "execution_count": 102,
   "metadata": {},
   "outputs": [
    {
     "data": {
      "text/plain": [
       "array([1.70597598, 1.70607911, 1.70624622, 1.7065384 , 1.70678533,\n",
       "       1.70704057, 1.70738065, 1.70771908, 1.70853236])"
      ]
     },
     "execution_count": 102,
     "metadata": {},
     "output_type": "execute_result"
    }
   ],
   "source": [
    "a_energies_sp = np.array([fit_a(field) for field in sweepVT_sigmap[:,27,:]])\n",
    "a_energies_sm = np.array([fit_a(field) for field in sweepVT_sigmam[:,27,:]])\n",
    "#g_factors = (a_energies_sm - a_energies_sp)/(mu_b * np.arange(9))\n",
    "a_energies_sp"
   ]
  },
  {
   "cell_type": "code",
   "execution_count": 103,
   "metadata": {},
   "outputs": [
    {
     "data": {
      "text/html": [
       "\n",
       "<div class=\"bk-root\">\n",
       "    <div class=\"bk-plotdiv\" id=\"6a7a5835-50e2-4878-9526-33b1f6ecc8af\"></div>\n",
       "</div>"
      ]
     },
     "metadata": {},
     "output_type": "display_data"
    },
    {
     "data": {
      "application/javascript": [
       "(function(root) {\n",
       "  function embed_document(root) {\n",
       "    \n",
       "  var docs_json = {\"7be2f866-c2e6-4ef6-a738-fee204d76ec5\":{\"roots\":{\"references\":[{\"attributes\":{\"callback\":null,\"column_names\":[\"x\",\"y\"],\"data\":{\"x\":[0,1,2,3,4,5,6,7,8],\"y\":{\"__ndarray__\":\"pz9kn7VN+z+hHLRxRE37Pz1XebERTfs/B6aXoWJN+z+K/Du71037P86FemRVTvs/cNfZXR5P+z/8hoFe8E/7P31R2BeDT/s/\",\"dtype\":\"float64\",\"shape\":[9]}}},\"id\":\"be2c8511-9ef6-4a03-9681-e970f9a49f36\",\"type\":\"ColumnDataSource\"},{\"attributes\":{\"callback\":null},\"id\":\"37c86245-fcc8-4967-8396-60c0e2f36558\",\"type\":\"DataRange1d\"},{\"attributes\":{},\"id\":\"1a6c5fab-a823-4bc3-8bb1-e9012419b5ef\",\"type\":\"HelpTool\"},{\"attributes\":{},\"id\":\"7340d554-60c1-4766-a77d-a6098bea3225\",\"type\":\"ResetTool\"},{\"attributes\":{\"callback\":null,\"end\":1.709,\"start\":1.705},\"id\":\"04bd48cd-f3a1-481c-b951-8ca084b68873\",\"type\":\"Range1d\"},{\"attributes\":{\"bottom_units\":\"screen\",\"fill_alpha\":{\"value\":0.5},\"fill_color\":{\"value\":\"lightgrey\"},\"left_units\":\"screen\",\"level\":\"overlay\",\"line_alpha\":{\"value\":1.0},\"line_color\":{\"value\":\"black\"},\"line_dash\":[4,4],\"line_width\":{\"value\":2},\"plot\":null,\"render_mode\":\"css\",\"right_units\":\"screen\",\"top_units\":\"screen\"},\"id\":\"9f229570-82a3-463d-b534-2d253bfacd72\",\"type\":\"BoxAnnotation\"},{\"attributes\":{},\"id\":\"35e0d491-f4cb-4e42-a8d4-189fa9fdcc8b\",\"type\":\"LinearScale\"},{\"attributes\":{},\"id\":\"d3489244-6767-4264-b4b4-adad4e9ab12e\",\"type\":\"LinearScale\"},{\"attributes\":{},\"id\":\"d3460a19-4fc3-4a93-9058-ccc19931e1af\",\"type\":\"BasicTickFormatter\"},{\"attributes\":{\"plot\":{\"id\":\"cd9d9bfd-7bcd-47b6-9ad4-9b35fd2c9098\",\"subtype\":\"Figure\",\"type\":\"Plot\"},\"ticker\":{\"id\":\"93f66391-ed32-46f9-918c-dbef496703b2\",\"type\":\"BasicTicker\"}},\"id\":\"90226af1-dfef-42a7-93f7-6ba30959519d\",\"type\":\"Grid\"},{\"attributes\":{\"callback\":null,\"column_names\":[\"x\",\"y\"],\"data\":{\"x\":[0,1,2,3,4,5,6,7,8],\"y\":{\"__ndarray__\":\"kHRSd61L+z/UHBqdGUz7P+iizdXITPs/VU2PNftN+z+pykch/k77P3+zvcUJUPs/Sf7WXm5R+z9lq7U90VL7P6ofGgYmVvs/\",\"dtype\":\"float64\",\"shape\":[9]}}},\"id\":\"6ef771c4-16f7-4587-a851-1a81c46ea81b\",\"type\":\"ColumnDataSource\"},{\"attributes\":{\"formatter\":{\"id\":\"5f4899e0-5227-4f8f-9861-99fbc46dc4e9\",\"type\":\"BasicTickFormatter\"},\"plot\":{\"id\":\"cd9d9bfd-7bcd-47b6-9ad4-9b35fd2c9098\",\"subtype\":\"Figure\",\"type\":\"Plot\"},\"ticker\":{\"id\":\"93f66391-ed32-46f9-918c-dbef496703b2\",\"type\":\"BasicTicker\"}},\"id\":\"649228b8-038a-43b2-afd5-95a3f299477d\",\"type\":\"LinearAxis\"},{\"attributes\":{\"source\":{\"id\":\"be2c8511-9ef6-4a03-9681-e970f9a49f36\",\"type\":\"ColumnDataSource\"}},\"id\":\"44f63b25-b4df-40bb-8c47-059be3e197b7\",\"type\":\"CDSView\"},{\"attributes\":{},\"id\":\"93f66391-ed32-46f9-918c-dbef496703b2\",\"type\":\"BasicTicker\"},{\"attributes\":{\"fill_color\":{\"value\":\"#1f77b4\"},\"line_color\":{\"value\":\"#1f77b4\"},\"x\":{\"field\":\"x\"},\"y\":{\"field\":\"y\"}},\"id\":\"4d306320-fafb-4510-b640-254809fb8236\",\"type\":\"Circle\"},{\"attributes\":{\"formatter\":{\"id\":\"d3460a19-4fc3-4a93-9058-ccc19931e1af\",\"type\":\"BasicTickFormatter\"},\"plot\":{\"id\":\"cd9d9bfd-7bcd-47b6-9ad4-9b35fd2c9098\",\"subtype\":\"Figure\",\"type\":\"Plot\"},\"ticker\":{\"id\":\"0070c381-89fb-4715-9a0c-b5637c6ee0b5\",\"type\":\"BasicTicker\"}},\"id\":\"81ef3b22-f6d8-45b1-9a63-cd865553024b\",\"type\":\"LinearAxis\"},{\"attributes\":{},\"id\":\"5f4899e0-5227-4f8f-9861-99fbc46dc4e9\",\"type\":\"BasicTickFormatter\"},{\"attributes\":{},\"id\":\"0070c381-89fb-4715-9a0c-b5637c6ee0b5\",\"type\":\"BasicTicker\"},{\"attributes\":{\"plot\":null,\"text\":\"\"},\"id\":\"669619ab-e26d-47ef-9734-0bcbdfb106e9\",\"type\":\"Title\"},{\"attributes\":{\"dimension\":1,\"plot\":{\"id\":\"cd9d9bfd-7bcd-47b6-9ad4-9b35fd2c9098\",\"subtype\":\"Figure\",\"type\":\"Plot\"},\"ticker\":{\"id\":\"0070c381-89fb-4715-9a0c-b5637c6ee0b5\",\"type\":\"BasicTicker\"}},\"id\":\"e37cbb0f-dc9b-4052-b49c-2a3b32c5b531\",\"type\":\"Grid\"},{\"attributes\":{\"data_source\":{\"id\":\"be2c8511-9ef6-4a03-9681-e970f9a49f36\",\"type\":\"ColumnDataSource\"},\"glyph\":{\"id\":\"4d306320-fafb-4510-b640-254809fb8236\",\"type\":\"Circle\"},\"hover_glyph\":null,\"muted_glyph\":null,\"nonselection_glyph\":{\"id\":\"1a2b9101-85ce-4dbb-8a1b-f1f2de67baaf\",\"type\":\"Circle\"},\"selection_glyph\":null,\"view\":{\"id\":\"44f63b25-b4df-40bb-8c47-059be3e197b7\",\"type\":\"CDSView\"}},\"id\":\"652eef93-caea-4c47-b8ce-699ee8e037f7\",\"type\":\"GlyphRenderer\"},{\"attributes\":{\"fill_alpha\":{\"value\":0.1},\"fill_color\":{\"value\":\"#1f77b4\"},\"line_alpha\":{\"value\":0.1},\"line_color\":{\"value\":\"#1f77b4\"},\"x\":{\"field\":\"x\"},\"y\":{\"field\":\"y\"}},\"id\":\"1a2b9101-85ce-4dbb-8a1b-f1f2de67baaf\",\"type\":\"Circle\"},{\"attributes\":{\"fill_color\":{\"value\":\"red\"},\"line_color\":{\"value\":\"red\"},\"x\":{\"field\":\"x\"},\"y\":{\"field\":\"y\"}},\"id\":\"2af2d262-8ae4-4748-b9df-3d009da8c0dc\",\"type\":\"Circle\"},{\"attributes\":{\"fill_alpha\":{\"value\":0.1},\"fill_color\":{\"value\":\"#1f77b4\"},\"line_alpha\":{\"value\":0.1},\"line_color\":{\"value\":\"#1f77b4\"},\"x\":{\"field\":\"x\"},\"y\":{\"field\":\"y\"}},\"id\":\"512f478a-2052-4848-a6da-31bbfb8c70b8\",\"type\":\"Circle\"},{\"attributes\":{},\"id\":\"600065a6-0025-4950-b147-02bc7c0777ad\",\"type\":\"PanTool\"},{\"attributes\":{},\"id\":\"a28f85bf-4e07-49c2-b4eb-79a237af9d0a\",\"type\":\"WheelZoomTool\"},{\"attributes\":{\"data_source\":{\"id\":\"6ef771c4-16f7-4587-a851-1a81c46ea81b\",\"type\":\"ColumnDataSource\"},\"glyph\":{\"id\":\"2af2d262-8ae4-4748-b9df-3d009da8c0dc\",\"type\":\"Circle\"},\"hover_glyph\":null,\"muted_glyph\":null,\"nonselection_glyph\":{\"id\":\"512f478a-2052-4848-a6da-31bbfb8c70b8\",\"type\":\"Circle\"},\"selection_glyph\":null,\"view\":{\"id\":\"b272a870-c6af-486c-9910-517a43505e9e\",\"type\":\"CDSView\"}},\"id\":\"55097ccb-f396-4990-87d7-afd7eb76bd5e\",\"type\":\"GlyphRenderer\"},{\"attributes\":{\"overlay\":{\"id\":\"9f229570-82a3-463d-b534-2d253bfacd72\",\"type\":\"BoxAnnotation\"}},\"id\":\"fa09f575-f8fc-4528-9827-1d13ea7a977e\",\"type\":\"BoxZoomTool\"},{\"attributes\":{},\"id\":\"8faf4caf-7266-4494-a397-7a9c225e3280\",\"type\":\"SaveTool\"},{\"attributes\":{\"source\":{\"id\":\"6ef771c4-16f7-4587-a851-1a81c46ea81b\",\"type\":\"ColumnDataSource\"}},\"id\":\"b272a870-c6af-486c-9910-517a43505e9e\",\"type\":\"CDSView\"},{\"attributes\":{\"active_drag\":\"auto\",\"active_inspect\":\"auto\",\"active_scroll\":\"auto\",\"active_tap\":\"auto\",\"tools\":[{\"id\":\"600065a6-0025-4950-b147-02bc7c0777ad\",\"type\":\"PanTool\"},{\"id\":\"a28f85bf-4e07-49c2-b4eb-79a237af9d0a\",\"type\":\"WheelZoomTool\"},{\"id\":\"fa09f575-f8fc-4528-9827-1d13ea7a977e\",\"type\":\"BoxZoomTool\"},{\"id\":\"8faf4caf-7266-4494-a397-7a9c225e3280\",\"type\":\"SaveTool\"},{\"id\":\"7340d554-60c1-4766-a77d-a6098bea3225\",\"type\":\"ResetTool\"},{\"id\":\"1a6c5fab-a823-4bc3-8bb1-e9012419b5ef\",\"type\":\"HelpTool\"}]},\"id\":\"85e0161d-d6c6-47a2-b5d0-55ac1f5cb6e2\",\"type\":\"Toolbar\"},{\"attributes\":{\"below\":[{\"id\":\"649228b8-038a-43b2-afd5-95a3f299477d\",\"type\":\"LinearAxis\"}],\"left\":[{\"id\":\"81ef3b22-f6d8-45b1-9a63-cd865553024b\",\"type\":\"LinearAxis\"}],\"renderers\":[{\"id\":\"649228b8-038a-43b2-afd5-95a3f299477d\",\"type\":\"LinearAxis\"},{\"id\":\"90226af1-dfef-42a7-93f7-6ba30959519d\",\"type\":\"Grid\"},{\"id\":\"81ef3b22-f6d8-45b1-9a63-cd865553024b\",\"type\":\"LinearAxis\"},{\"id\":\"e37cbb0f-dc9b-4052-b49c-2a3b32c5b531\",\"type\":\"Grid\"},{\"id\":\"9f229570-82a3-463d-b534-2d253bfacd72\",\"type\":\"BoxAnnotation\"},{\"id\":\"652eef93-caea-4c47-b8ce-699ee8e037f7\",\"type\":\"GlyphRenderer\"},{\"id\":\"55097ccb-f396-4990-87d7-afd7eb76bd5e\",\"type\":\"GlyphRenderer\"}],\"title\":{\"id\":\"669619ab-e26d-47ef-9734-0bcbdfb106e9\",\"type\":\"Title\"},\"toolbar\":{\"id\":\"85e0161d-d6c6-47a2-b5d0-55ac1f5cb6e2\",\"type\":\"Toolbar\"},\"x_range\":{\"id\":\"37c86245-fcc8-4967-8396-60c0e2f36558\",\"type\":\"DataRange1d\"},\"x_scale\":{\"id\":\"35e0d491-f4cb-4e42-a8d4-189fa9fdcc8b\",\"type\":\"LinearScale\"},\"y_range\":{\"id\":\"04bd48cd-f3a1-481c-b951-8ca084b68873\",\"type\":\"Range1d\"},\"y_scale\":{\"id\":\"d3489244-6767-4264-b4b4-adad4e9ab12e\",\"type\":\"LinearScale\"}},\"id\":\"cd9d9bfd-7bcd-47b6-9ad4-9b35fd2c9098\",\"subtype\":\"Figure\",\"type\":\"Plot\"}],\"root_ids\":[\"cd9d9bfd-7bcd-47b6-9ad4-9b35fd2c9098\"]},\"title\":\"Bokeh Application\",\"version\":\"0.12.14\"}};\n",
       "  var render_items = [{\"docid\":\"7be2f866-c2e6-4ef6-a738-fee204d76ec5\",\"elementid\":\"6a7a5835-50e2-4878-9526-33b1f6ecc8af\",\"modelid\":\"cd9d9bfd-7bcd-47b6-9ad4-9b35fd2c9098\"}];\n",
       "  root.Bokeh.embed.embed_items_notebook(docs_json, render_items);\n",
       "\n",
       "  }\n",
       "  if (root.Bokeh !== undefined) {\n",
       "    embed_document(root);\n",
       "  } else {\n",
       "    var attempts = 0;\n",
       "    var timer = setInterval(function(root) {\n",
       "      if (root.Bokeh !== undefined) {\n",
       "        embed_document(root);\n",
       "        clearInterval(timer);\n",
       "      }\n",
       "      attempts++;\n",
       "      if (attempts > 100) {\n",
       "        console.log(\"Bokeh: ERROR: Unable to run BokehJS code because BokehJS library is missing\")\n",
       "        clearInterval(timer);\n",
       "      }\n",
       "    }, 10, root)\n",
       "  }\n",
       "})(window);"
      ],
      "application/vnd.bokehjs_exec.v0+json": ""
     },
     "metadata": {
      "application/vnd.bokehjs_exec.v0+json": {
       "id": "cd9d9bfd-7bcd-47b6-9ad4-9b35fd2c9098"
      }
     },
     "output_type": "display_data"
    }
   ],
   "source": [
    "p = figure(y_range=(1.705, 1.709))\n",
    "xxx = np.arange(0,9,1)\n",
    "p.scatter(xxx, a_energies_sm)\n",
    "p.scatter(xxx, a_energies_sp, color='red')\n",
    "show(p)"
   ]
  },
  {
   "cell_type": "code",
   "execution_count": 122,
   "metadata": {},
   "outputs": [
    {
     "name": "stderr",
     "output_type": "stream",
     "text": [
      "/usr/lib/python3/dist-packages/scipy/optimize/minpack.py:779: OptimizeWarning: Covariance of the parameters could not be estimated\n",
      "  category=OptimizeWarning)\n"
     ]
    },
    {
     "data": {
      "text/plain": [
       "array([ 1.64393084e+00,  1.63988411e+00,  1.66214303e+00,  1.66496096e+00,\n",
       "        1.65579595e+00,  1.63851251e+00,  1.61581697e+00, -1.74796531e+05,\n",
       "       -5.79589143e+05, -9.00608835e+05, -7.38835577e+05, -5.67679631e+05,\n",
       "        1.71147712e+00,  1.71024201e+00,  1.70943933e+00,  1.92377738e+00,\n",
       "        1.99226229e+00,  1.70862409e+00,  2.10522136e+00,  1.70867166e+00,\n",
       "        1.70864918e+00,  1.70855940e+00,  1.70846143e+00,  1.70855424e+00,\n",
       "        1.70854637e+00,  1.70846544e+00,  1.70844795e+00,  1.70853236e+00,\n",
       "        1.70854477e+00,  1.70846499e+00,  1.70847413e+00,  1.70870203e+00,\n",
       "        1.70920274e+00,  1.70924333e+00,  1.70955573e+00,  1.70987077e+00,\n",
       "        1.71026149e+00,  1.71064506e+00,  1.71073262e+00,  1.71116454e+00,\n",
       "        1.71157690e+00,  1.71174626e+00,  1.71185399e+00,  1.71246844e+00,\n",
       "       -8.62716846e+05, -1.21714594e+06, -8.02789969e+05, -5.04189247e+05,\n",
       "       -8.22734865e+05, -8.88546547e+05, -9.58110177e+05, -9.32946185e+05,\n",
       "       -5.50511535e+05, -9.51099112e+05, -5.30544056e+05, -6.69731703e+05,\n",
       "       -2.88847136e+05,  1.36739529e+00,  1.65545830e+00,  1.57268918e+00,\n",
       "        1.63442049e+00,  1.63247209e+00,  1.66903584e+00,  1.59917294e+00,\n",
       "        1.67240079e+00,  1.64929587e+00,  1.53086734e+00,  1.66133354e+00,\n",
       "        1.66235835e+00,  1.65956129e+00,  1.67956543e+00,  1.61996930e+00,\n",
       "        1.67004660e+00,  1.65372865e+00,  1.67661939e+00,  1.59246150e+00,\n",
       "        1.54020923e+00,  1.65415583e+00,  1.65065383e+00,  1.65782828e+00,\n",
       "        1.65699692e+00])"
      ]
     },
     "execution_count": 122,
     "metadata": {},
     "output_type": "execute_result"
    }
   ],
   "source": [
    "#a_energies_sp = np.array([fit_a(field) for field in sweepVT_sigmap[:,23,:]])\n",
    "#a_energies_sm = np.array([fit_a(field) for field in sweepVT_sigmam[:,23,:]])\n",
    "#g_factors = (a_energies_sm - a_energies_sp)/(mu_b * np.arange(9))\n",
    "#a_energies_sp\n",
    "a_energies_sp = np.array([fit_a(field) for field in sweepVT_sigmap[8,:,:]])\n",
    "a_energies_sm = np.array([fit_a(field) for field in sweepVT_sigmam[8,:,:]])\n",
    "#g_factors = (a_energies_sm - a_energies_sp)/(mu_b * np.arange(9))\n",
    "a_energies_sp"
   ]
  },
  {
   "cell_type": "code",
   "execution_count": 123,
   "metadata": {},
   "outputs": [
    {
     "data": {
      "text/html": [
       "\n",
       "<div class=\"bk-root\">\n",
       "    <div class=\"bk-plotdiv\" id=\"a3e4ef09-0d3a-4e0a-9d99-2c3c641bb3d0\"></div>\n",
       "</div>"
      ]
     },
     "metadata": {},
     "output_type": "display_data"
    },
    {
     "data": {
      "application/javascript": [
       "(function(root) {\n",
       "  function embed_document(root) {\n",
       "    \n",
       "  var docs_json = {\"0cd1512a-6975-45e8-9eb0-47f9b9de71a2\":{\"roots\":{\"references\":[{\"attributes\":{\"active_drag\":\"auto\",\"active_inspect\":\"auto\",\"active_scroll\":\"auto\",\"active_tap\":\"auto\",\"tools\":[{\"id\":\"62add56a-f8f6-4550-ad36-339314c9bcc2\",\"type\":\"PanTool\"},{\"id\":\"5ad0c2c7-ec61-4821-b560-52a28dada367\",\"type\":\"WheelZoomTool\"},{\"id\":\"c0f656b8-ceab-43ac-a045-03f621391529\",\"type\":\"BoxZoomTool\"},{\"id\":\"23fcc754-7489-42ab-aed6-500a05e846ab\",\"type\":\"SaveTool\"},{\"id\":\"1c30c554-1934-443b-b001-548944fb34a0\",\"type\":\"ResetTool\"},{\"id\":\"dcb371c8-c9b3-4211-8991-34a11fb5b568\",\"type\":\"HelpTool\"}]},\"id\":\"94dc0f76-80b0-4319-9320-76d77ea66aa1\",\"type\":\"Toolbar\"},{\"attributes\":{\"callback\":null,\"column_names\":[\"x\",\"y\"],\"data\":{\"x\":[0,1,2,3,4,5,6,7,8,9,10,11,12,13,14,15,16,17,18,19,20,21,22,23,24,25,26,27,28,29,30,31,32,33,34,35,36,37,38,39,40,41,42,43,44,45,46,47,48,49,50,51,52,53,54,55,56,57,58,59,60,61,62,63,64,65,66,67,68,69,70,71,72,73,74,75,76,77,78,79,80],\"y\":{\"__ndarray__\":\"RrtRgYuz+j8vVvBObcDBwPntLD8Zf/o/qo8FpqB6+j+VOG+pa0j6PxP7lD5TwPg/qbYLDuWJ+j++VTiCcQMRwQL18c76DT3Bm8VR+/j3M8GmBiWUFPwlwUlSRCC3YPs/OYYwmHVX+z/7mfPNMFL7P9d9FCGCUfs/rIO0feZQ+z8CDFRSzlD7P8MQfBWEUPs/2s3c6h5Q+z88dSkizk/7P7vfihrOT/s/j9chIpVP+z/k1AyL30/7Px+t6jqMT/s/8pHd4uJP+z/qQg0qg0/7P8FJIHJ+T/s/fVHYF4NP+z/rybfucU/7P1oOw2rNT/s/ewLU4KJP+z8zyKydN1D7PxwyZJGBUPs/sI+0IihR+z+Ja0I711H7P8dV/9vkUvs/vbkmUYJT+z93XL6ERVT7P7c5WfY/Vfs/sTScfPVW+z+tTa4ofVf7P8mvqbAJWfs/cZ3DDlhb+z/ks/Xfz1v7P/lZXHAzXfs/JP+vVeZf+z+TZGesr2H7P/qbYuCOZfs/WtYaxBFp+z+lz0Wz1wEswcqLvTpo0DbB3MkmtMbaKsHEbNF+6Vs5wZhFuoFtWTrBShZtyLAzIsFJH5hpN0kwwdz4lIPaZOnA254uiIRW+j/nGJLjDOX4P2mALQqBvPg/7HE9z6Kr+j9WT/Ti7bimP5vli9sBevo/1GGqDzY++j88/4n1xOP5Pz3EPC+MZ/o/thn43MJx+j9W2ZxKd+b5P/tHxm8No/U/mW36jOkA+j8ZfXVsZUj6PynGKQzYePo/yXZw4zB3+j+yXkkfrs36P0xIvI5fP/s/H4H6c4RN1MDsrf3XecD4PwA43gjniPo/2QMJxrd++j/VbaWuSrT5P9gRqgqsi/o/\",\"dtype\":\"float64\",\"shape\":[81]}}},\"id\":\"ec593c89-4c84-4a84-bd03-03bc31532436\",\"type\":\"ColumnDataSource\"},{\"attributes\":{\"fill_color\":{\"value\":\"#1f77b4\"},\"line_color\":{\"value\":\"#1f77b4\"},\"x\":{\"field\":\"x\"},\"y\":{\"field\":\"y\"}},\"id\":\"c42803e9-7204-4a7b-b1cb-fbf5ff92e342\",\"type\":\"Circle\"},{\"attributes\":{},\"id\":\"edaacff1-dd8e-4570-ae3f-710d6a6de6d3\",\"type\":\"LinearScale\"},{\"attributes\":{\"callback\":null},\"id\":\"fde83c15-1b12-4ce1-b792-f6bd730126e9\",\"type\":\"DataRange1d\"},{\"attributes\":{},\"id\":\"824866df-0cd6-470d-97ef-b1c1f72f48a4\",\"type\":\"LinearScale\"},{\"attributes\":{\"callback\":null,\"end\":1.71,\"start\":1.705},\"id\":\"ea776fcc-18c6-46a6-9654-b4c7245b9274\",\"type\":\"Range1d\"},{\"attributes\":{\"plot\":{\"id\":\"02955a08-0d87-4557-9f0f-7d3b8fde91b9\",\"subtype\":\"Figure\",\"type\":\"Plot\"},\"ticker\":{\"id\":\"5d9f27da-6a50-4f4f-9788-7d370c1b5fe6\",\"type\":\"BasicTicker\"}},\"id\":\"0669e114-1d0f-43b8-b0a7-80077f5fd6e6\",\"type\":\"Grid\"},{\"attributes\":{\"formatter\":{\"id\":\"4afda260-a614-448b-9fdd-98d1acafd89a\",\"type\":\"BasicTickFormatter\"},\"plot\":{\"id\":\"02955a08-0d87-4557-9f0f-7d3b8fde91b9\",\"subtype\":\"Figure\",\"type\":\"Plot\"},\"ticker\":{\"id\":\"5d9f27da-6a50-4f4f-9788-7d370c1b5fe6\",\"type\":\"BasicTicker\"}},\"id\":\"a2694718-8186-46c1-976a-0624ca038edf\",\"type\":\"LinearAxis\"},{\"attributes\":{},\"id\":\"5d9f27da-6a50-4f4f-9788-7d370c1b5fe6\",\"type\":\"BasicTicker\"},{\"attributes\":{\"formatter\":{\"id\":\"d91751c5-6cc7-47c3-b777-1dfe8086474c\",\"type\":\"BasicTickFormatter\"},\"plot\":{\"id\":\"02955a08-0d87-4557-9f0f-7d3b8fde91b9\",\"subtype\":\"Figure\",\"type\":\"Plot\"},\"ticker\":{\"id\":\"4dac34d1-5fb2-4e7f-a346-62ba518e229e\",\"type\":\"BasicTicker\"}},\"id\":\"5fa005ff-7678-4537-bf22-47a81c153f1c\",\"type\":\"LinearAxis\"},{\"attributes\":{},\"id\":\"4dac34d1-5fb2-4e7f-a346-62ba518e229e\",\"type\":\"BasicTicker\"},{\"attributes\":{\"dimension\":1,\"plot\":{\"id\":\"02955a08-0d87-4557-9f0f-7d3b8fde91b9\",\"subtype\":\"Figure\",\"type\":\"Plot\"},\"ticker\":{\"id\":\"4dac34d1-5fb2-4e7f-a346-62ba518e229e\",\"type\":\"BasicTicker\"}},\"id\":\"02c5a886-88d5-42f7-a992-b724ca8fc06f\",\"type\":\"Grid\"},{\"attributes\":{\"fill_alpha\":{\"value\":0.1},\"fill_color\":{\"value\":\"#1f77b4\"},\"line_alpha\":{\"value\":0.1},\"line_color\":{\"value\":\"#1f77b4\"},\"x\":{\"field\":\"x\"},\"y\":{\"field\":\"y\"}},\"id\":\"ab5dacbe-0eaf-4691-9681-6e029741a721\",\"type\":\"Circle\"},{\"attributes\":{},\"id\":\"d91751c5-6cc7-47c3-b777-1dfe8086474c\",\"type\":\"BasicTickFormatter\"},{\"attributes\":{\"callback\":null,\"column_names\":[\"x\",\"y\"],\"data\":{\"x\":[0,1,2,3,4,5,6,7,8,9,10,11,12,13,14,15,16,17,18,19,20,21,22,23,24,25,26,27,28,29,30,31,32,33,34,35,36,37,38,39,40,41,42,43,44,45,46,47,48,49,50,51,52,53,54,55,56,57,58,59,60,61,62,63,64,65,66,67,68,69,70,71,72,73,74,75,76,77,78,79,80],\"y\":{\"__ndarray__\":\"s7BibYpN+j/Mxjwe9zz6P+kHSkojmPo/5EhFGa6j+j8KFCHlI376P1yHmOVYN/o/wCf+5GLa+T8Ovas/ZFYFwaorW0kKsCHBitTFqwF8K8EyvGYnJ4wmweiZ5UL/UiHBtAb91TVi+z/iTsu5Jl37P0LTJw3dWfs/lFhTycrH/j+5EzhrTuD/P+TNlzeGVvs/yvkVTH7XAECE0CQZuFb7Pwqb94agVvs/H4oZYUJW+z9MWmmn21X7P4/7f/k8Vvs/WzAmtzRW+z8prkLc31X7P51Ev4PNVfs/qh8aBiZW+z92f20KM1b7P3nXoGHfVfs/Ir7j9uhV+z9UfsTv11b7PzI+xvnkWPs/aKnTiQ9Z+z9X+uYcV1r7P6CY7nShW/s/VEisJjtd+z+800ZbzV77Py708ikpX/s/T4nPEu5g+z/t/uJ0nmL7P2RrgAtQY/s/ENDBAsFj+z9BTJBPRWb7P9A2GbH5UyrBECMB8XmSMsFNTBbwy38owcp/6/z0xR7BrEf0up0bKcEoPRYYxR0rwbqBZ1o8PS3BO2vjXqR4LME5xK8R38wgwX4WmDl2Bi3BE0ChHOAwIME4MxloR3AkwQzCZIs8oRHBEdO64dng9T/L+nbWwXz6Py4wUiK8Kfk/RcSyGZYm+j9tMjUOmx76P01wV+1etPo/8OapXjaW+T/fX+ZVJ8L6PwnKXBCEY/o/Sw7TwG5++D+pY+F50pT6P5He/hIFmfo/10OzJJCN+j/Kqsv/f9/6Pxu+1+5k6/k/0HPDx4K4+j86OqEsrHX6P26WMNtu0/o/ZsgJ6rh6+T8PWd5tsqT4P8kzQxlsd/o/hEna/RNp+j/zDwjydob6P/WkHTMPg/o/\",\"dtype\":\"float64\",\"shape\":[81]}}},\"id\":\"ff076968-c863-4444-b67f-7dedd2c5cc65\",\"type\":\"ColumnDataSource\"},{\"attributes\":{\"below\":[{\"id\":\"a2694718-8186-46c1-976a-0624ca038edf\",\"type\":\"LinearAxis\"}],\"left\":[{\"id\":\"5fa005ff-7678-4537-bf22-47a81c153f1c\",\"type\":\"LinearAxis\"}],\"renderers\":[{\"id\":\"a2694718-8186-46c1-976a-0624ca038edf\",\"type\":\"LinearAxis\"},{\"id\":\"0669e114-1d0f-43b8-b0a7-80077f5fd6e6\",\"type\":\"Grid\"},{\"id\":\"5fa005ff-7678-4537-bf22-47a81c153f1c\",\"type\":\"LinearAxis\"},{\"id\":\"02c5a886-88d5-42f7-a992-b724ca8fc06f\",\"type\":\"Grid\"},{\"id\":\"3eb3526f-6308-481d-bc59-323a5332fae3\",\"type\":\"BoxAnnotation\"},{\"id\":\"5b86d2d7-9514-4164-b018-14bddfe275d4\",\"type\":\"GlyphRenderer\"},{\"id\":\"5c57c4b9-efb6-4566-825f-4d6a4da7b1fb\",\"type\":\"GlyphRenderer\"}],\"title\":{\"id\":\"3ee4e64d-51bd-4790-b7b4-7efde31f47a4\",\"type\":\"Title\"},\"toolbar\":{\"id\":\"94dc0f76-80b0-4319-9320-76d77ea66aa1\",\"type\":\"Toolbar\"},\"x_range\":{\"id\":\"fde83c15-1b12-4ce1-b792-f6bd730126e9\",\"type\":\"DataRange1d\"},\"x_scale\":{\"id\":\"edaacff1-dd8e-4570-ae3f-710d6a6de6d3\",\"type\":\"LinearScale\"},\"y_range\":{\"id\":\"ea776fcc-18c6-46a6-9654-b4c7245b9274\",\"type\":\"Range1d\"},\"y_scale\":{\"id\":\"824866df-0cd6-470d-97ef-b1c1f72f48a4\",\"type\":\"LinearScale\"}},\"id\":\"02955a08-0d87-4557-9f0f-7d3b8fde91b9\",\"subtype\":\"Figure\",\"type\":\"Plot\"},{\"attributes\":{\"bottom_units\":\"screen\",\"fill_alpha\":{\"value\":0.5},\"fill_color\":{\"value\":\"lightgrey\"},\"left_units\":\"screen\",\"level\":\"overlay\",\"line_alpha\":{\"value\":1.0},\"line_color\":{\"value\":\"black\"},\"line_dash\":[4,4],\"line_width\":{\"value\":2},\"plot\":null,\"render_mode\":\"css\",\"right_units\":\"screen\",\"top_units\":\"screen\"},\"id\":\"3eb3526f-6308-481d-bc59-323a5332fae3\",\"type\":\"BoxAnnotation\"},{\"attributes\":{},\"id\":\"62add56a-f8f6-4550-ad36-339314c9bcc2\",\"type\":\"PanTool\"},{\"attributes\":{\"data_source\":{\"id\":\"ec593c89-4c84-4a84-bd03-03bc31532436\",\"type\":\"ColumnDataSource\"},\"glyph\":{\"id\":\"c42803e9-7204-4a7b-b1cb-fbf5ff92e342\",\"type\":\"Circle\"},\"hover_glyph\":null,\"muted_glyph\":null,\"nonselection_glyph\":{\"id\":\"ab5dacbe-0eaf-4691-9681-6e029741a721\",\"type\":\"Circle\"},\"selection_glyph\":null,\"view\":{\"id\":\"32038cf7-9275-4967-8b76-bee74fc4980a\",\"type\":\"CDSView\"}},\"id\":\"5b86d2d7-9514-4164-b018-14bddfe275d4\",\"type\":\"GlyphRenderer\"},{\"attributes\":{},\"id\":\"5ad0c2c7-ec61-4821-b560-52a28dada367\",\"type\":\"WheelZoomTool\"},{\"attributes\":{\"overlay\":{\"id\":\"3eb3526f-6308-481d-bc59-323a5332fae3\",\"type\":\"BoxAnnotation\"}},\"id\":\"c0f656b8-ceab-43ac-a045-03f621391529\",\"type\":\"BoxZoomTool\"},{\"attributes\":{},\"id\":\"23fcc754-7489-42ab-aed6-500a05e846ab\",\"type\":\"SaveTool\"},{\"attributes\":{},\"id\":\"1c30c554-1934-443b-b001-548944fb34a0\",\"type\":\"ResetTool\"},{\"attributes\":{},\"id\":\"dcb371c8-c9b3-4211-8991-34a11fb5b568\",\"type\":\"HelpTool\"},{\"attributes\":{\"plot\":null,\"text\":\"\"},\"id\":\"3ee4e64d-51bd-4790-b7b4-7efde31f47a4\",\"type\":\"Title\"},{\"attributes\":{\"source\":{\"id\":\"ec593c89-4c84-4a84-bd03-03bc31532436\",\"type\":\"ColumnDataSource\"}},\"id\":\"32038cf7-9275-4967-8b76-bee74fc4980a\",\"type\":\"CDSView\"},{\"attributes\":{},\"id\":\"4afda260-a614-448b-9fdd-98d1acafd89a\",\"type\":\"BasicTickFormatter\"},{\"attributes\":{\"fill_color\":{\"value\":\"red\"},\"line_color\":{\"value\":\"red\"},\"x\":{\"field\":\"x\"},\"y\":{\"field\":\"y\"}},\"id\":\"0be5944e-15d4-4c88-b09f-6ce939c7c8e3\",\"type\":\"Circle\"},{\"attributes\":{\"fill_alpha\":{\"value\":0.1},\"fill_color\":{\"value\":\"#1f77b4\"},\"line_alpha\":{\"value\":0.1},\"line_color\":{\"value\":\"#1f77b4\"},\"x\":{\"field\":\"x\"},\"y\":{\"field\":\"y\"}},\"id\":\"e0c280c9-91d4-457b-9c92-27eab4c77fb1\",\"type\":\"Circle\"},{\"attributes\":{\"data_source\":{\"id\":\"ff076968-c863-4444-b67f-7dedd2c5cc65\",\"type\":\"ColumnDataSource\"},\"glyph\":{\"id\":\"0be5944e-15d4-4c88-b09f-6ce939c7c8e3\",\"type\":\"Circle\"},\"hover_glyph\":null,\"muted_glyph\":null,\"nonselection_glyph\":{\"id\":\"e0c280c9-91d4-457b-9c92-27eab4c77fb1\",\"type\":\"Circle\"},\"selection_glyph\":null,\"view\":{\"id\":\"71851764-b369-4ee6-9672-afdace2ee7ed\",\"type\":\"CDSView\"}},\"id\":\"5c57c4b9-efb6-4566-825f-4d6a4da7b1fb\",\"type\":\"GlyphRenderer\"},{\"attributes\":{\"source\":{\"id\":\"ff076968-c863-4444-b67f-7dedd2c5cc65\",\"type\":\"ColumnDataSource\"}},\"id\":\"71851764-b369-4ee6-9672-afdace2ee7ed\",\"type\":\"CDSView\"}],\"root_ids\":[\"02955a08-0d87-4557-9f0f-7d3b8fde91b9\"]},\"title\":\"Bokeh Application\",\"version\":\"0.12.14\"}};\n",
       "  var render_items = [{\"docid\":\"0cd1512a-6975-45e8-9eb0-47f9b9de71a2\",\"elementid\":\"a3e4ef09-0d3a-4e0a-9d99-2c3c641bb3d0\",\"modelid\":\"02955a08-0d87-4557-9f0f-7d3b8fde91b9\"}];\n",
       "  root.Bokeh.embed.embed_items_notebook(docs_json, render_items);\n",
       "\n",
       "  }\n",
       "  if (root.Bokeh !== undefined) {\n",
       "    embed_document(root);\n",
       "  } else {\n",
       "    var attempts = 0;\n",
       "    var timer = setInterval(function(root) {\n",
       "      if (root.Bokeh !== undefined) {\n",
       "        embed_document(root);\n",
       "        clearInterval(timer);\n",
       "      }\n",
       "      attempts++;\n",
       "      if (attempts > 100) {\n",
       "        console.log(\"Bokeh: ERROR: Unable to run BokehJS code because BokehJS library is missing\")\n",
       "        clearInterval(timer);\n",
       "      }\n",
       "    }, 10, root)\n",
       "  }\n",
       "})(window);"
      ],
      "application/vnd.bokehjs_exec.v0+json": ""
     },
     "metadata": {
      "application/vnd.bokehjs_exec.v0+json": {
       "id": "02955a08-0d87-4557-9f0f-7d3b8fde91b9"
      }
     },
     "output_type": "display_data"
    }
   ],
   "source": [
    "p = figure(y_range=(1.705, 1.71))\n",
    "xxx = np.arange(0,81,1)\n",
    "p.scatter(xxx, a_energies_sm)\n",
    "p.scatter(xxx, a_energies_sp, color='red')\n",
    "show(p)"
   ]
  },
  {
   "cell_type": "code",
   "execution_count": null,
   "metadata": {},
   "outputs": [],
   "source": []
  },
  {
   "cell_type": "code",
   "execution_count": 106,
   "metadata": {},
   "outputs": [
    {
     "ename": "ValueError",
     "evalue": "all the input array dimensions except for the concatenation axis must match exactly",
     "output_type": "error",
     "traceback": [
      "\u001b[0;31m---------------------------------------------------------------------------\u001b[0m",
      "\u001b[0;31mValueError\u001b[0m                                Traceback (most recent call last)",
      "\u001b[0;32m<ipython-input-106-2b8f283b4607>\u001b[0m in \u001b[0;36m<module>\u001b[0;34m()\u001b[0m\n\u001b[1;32m      1\u001b[0m \u001b[0mp\u001b[0m \u001b[0;34m=\u001b[0m \u001b[0mfigure\u001b[0m\u001b[0;34m(\u001b[0m\u001b[0;34m)\u001b[0m\u001b[0;34m\u001b[0m\u001b[0m\n\u001b[0;32m----> 2\u001b[0;31m \u001b[0mslope\u001b[0m\u001b[0;34m,\u001b[0m \u001b[0mintercept\u001b[0m\u001b[0;34m,\u001b[0m \u001b[0mr_value\u001b[0m\u001b[0;34m,\u001b[0m \u001b[0mp_value\u001b[0m\u001b[0;34m,\u001b[0m \u001b[0mstd_err\u001b[0m \u001b[0;34m=\u001b[0m \u001b[0mstats\u001b[0m\u001b[0;34m.\u001b[0m\u001b[0mlinregress\u001b[0m\u001b[0;34m(\u001b[0m\u001b[0mnp\u001b[0m\u001b[0;34m.\u001b[0m\u001b[0marange\u001b[0m\u001b[0;34m(\u001b[0m\u001b[0;36m9\u001b[0m\u001b[0;34m)\u001b[0m \u001b[0;34m*\u001b[0m \u001b[0mmu_b\u001b[0m\u001b[0;34m,\u001b[0m \u001b[0ma_energies_sm\u001b[0m\u001b[0;34m)\u001b[0m\u001b[0;34m\u001b[0m\u001b[0m\n\u001b[0m\u001b[1;32m      3\u001b[0m \u001b[0mteslas\u001b[0m \u001b[0;34m=\u001b[0m \u001b[0mnp\u001b[0m\u001b[0;34m.\u001b[0m\u001b[0marange\u001b[0m\u001b[0;34m(\u001b[0m\u001b[0;36m9\u001b[0m\u001b[0;34m)\u001b[0m \u001b[0;34m*\u001b[0m \u001b[0mmu_b\u001b[0m\u001b[0;34m\u001b[0m\u001b[0m\n\u001b[1;32m      4\u001b[0m \u001b[0mlinear\u001b[0m \u001b[0;34m=\u001b[0m \u001b[0mslope\u001b[0m \u001b[0;34m*\u001b[0m \u001b[0mteslas\u001b[0m \u001b[0;34m+\u001b[0m \u001b[0mintercept\u001b[0m\u001b[0;34m\u001b[0m\u001b[0m\n\u001b[1;32m      5\u001b[0m \u001b[0mp\u001b[0m\u001b[0;34m.\u001b[0m\u001b[0mscatter\u001b[0m\u001b[0;34m(\u001b[0m\u001b[0mteslas\u001b[0m\u001b[0;34m,\u001b[0m \u001b[0ma_energies_sm\u001b[0m\u001b[0;34m)\u001b[0m\u001b[0;34m\u001b[0m\u001b[0m\n",
      "\u001b[0;32m/usr/lib/python3/dist-packages/scipy/stats/_stats_mstats_common.py\u001b[0m in \u001b[0;36mlinregress\u001b[0;34m(x, y)\u001b[0m\n\u001b[1;32m     90\u001b[0m \u001b[0;34m\u001b[0m\u001b[0m\n\u001b[1;32m     91\u001b[0m     \u001b[0;31m# average sum of squares:\u001b[0m\u001b[0;34m\u001b[0m\u001b[0;34m\u001b[0m\u001b[0m\n\u001b[0;32m---> 92\u001b[0;31m     \u001b[0mssxm\u001b[0m\u001b[0;34m,\u001b[0m \u001b[0mssxym\u001b[0m\u001b[0;34m,\u001b[0m \u001b[0mssyxm\u001b[0m\u001b[0;34m,\u001b[0m \u001b[0mssym\u001b[0m \u001b[0;34m=\u001b[0m \u001b[0mnp\u001b[0m\u001b[0;34m.\u001b[0m\u001b[0mcov\u001b[0m\u001b[0;34m(\u001b[0m\u001b[0mx\u001b[0m\u001b[0;34m,\u001b[0m \u001b[0my\u001b[0m\u001b[0;34m,\u001b[0m \u001b[0mbias\u001b[0m\u001b[0;34m=\u001b[0m\u001b[0;36m1\u001b[0m\u001b[0;34m)\u001b[0m\u001b[0;34m.\u001b[0m\u001b[0mflat\u001b[0m\u001b[0;34m\u001b[0m\u001b[0m\n\u001b[0m\u001b[1;32m     93\u001b[0m     \u001b[0mr_num\u001b[0m \u001b[0;34m=\u001b[0m \u001b[0mssxym\u001b[0m\u001b[0;34m\u001b[0m\u001b[0m\n\u001b[1;32m     94\u001b[0m     \u001b[0mr_den\u001b[0m \u001b[0;34m=\u001b[0m \u001b[0mnp\u001b[0m\u001b[0;34m.\u001b[0m\u001b[0msqrt\u001b[0m\u001b[0;34m(\u001b[0m\u001b[0mssxm\u001b[0m \u001b[0;34m*\u001b[0m \u001b[0mssym\u001b[0m\u001b[0;34m)\u001b[0m\u001b[0;34m\u001b[0m\u001b[0m\n",
      "\u001b[0;32m/usr/local/lib/python3.6/dist-packages/numpy/lib/function_base.py\u001b[0m in \u001b[0;36mcov\u001b[0;34m(m, y, rowvar, bias, ddof, fweights, aweights)\u001b[0m\n\u001b[1;32m   3042\u001b[0m         \u001b[0;32mif\u001b[0m \u001b[0;32mnot\u001b[0m \u001b[0mrowvar\u001b[0m \u001b[0;32mand\u001b[0m \u001b[0my\u001b[0m\u001b[0;34m.\u001b[0m\u001b[0mshape\u001b[0m\u001b[0;34m[\u001b[0m\u001b[0;36m0\u001b[0m\u001b[0;34m]\u001b[0m \u001b[0;34m!=\u001b[0m \u001b[0;36m1\u001b[0m\u001b[0;34m:\u001b[0m\u001b[0;34m\u001b[0m\u001b[0m\n\u001b[1;32m   3043\u001b[0m             \u001b[0my\u001b[0m \u001b[0;34m=\u001b[0m \u001b[0my\u001b[0m\u001b[0;34m.\u001b[0m\u001b[0mT\u001b[0m\u001b[0;34m\u001b[0m\u001b[0m\n\u001b[0;32m-> 3044\u001b[0;31m         \u001b[0mX\u001b[0m \u001b[0;34m=\u001b[0m \u001b[0mnp\u001b[0m\u001b[0;34m.\u001b[0m\u001b[0mconcatenate\u001b[0m\u001b[0;34m(\u001b[0m\u001b[0;34m(\u001b[0m\u001b[0mX\u001b[0m\u001b[0;34m,\u001b[0m \u001b[0my\u001b[0m\u001b[0;34m)\u001b[0m\u001b[0;34m,\u001b[0m \u001b[0maxis\u001b[0m\u001b[0;34m=\u001b[0m\u001b[0;36m0\u001b[0m\u001b[0;34m)\u001b[0m\u001b[0;34m\u001b[0m\u001b[0m\n\u001b[0m\u001b[1;32m   3045\u001b[0m \u001b[0;34m\u001b[0m\u001b[0m\n\u001b[1;32m   3046\u001b[0m     \u001b[0;32mif\u001b[0m \u001b[0mddof\u001b[0m \u001b[0;32mis\u001b[0m \u001b[0;32mNone\u001b[0m\u001b[0;34m:\u001b[0m\u001b[0;34m\u001b[0m\u001b[0m\n",
      "\u001b[0;31mValueError\u001b[0m: all the input array dimensions except for the concatenation axis must match exactly"
     ]
    }
   ],
   "source": [
    "p = figure()\n",
    "slope, intercept, r_value, p_value, std_err = stats.linregress(np.arange(9) * mu_b, a_energies_sm)\n",
    "teslas = np.arange(9) * mu_b\n",
    "linear = slope * teslas + intercept\n",
    "p.scatter(teslas, a_energies_sm)\n",
    "p.line(mu_b * np.arange(9), linear, color='red')\n",
    "print(slope)\n",
    "#plt.plot(calibration, y)\n",
    "show(p)"
   ]
  },
  {
   "cell_type": "code",
   "execution_count": null,
   "metadata": {},
   "outputs": [],
   "source": [
    "sweepVT_sigmap[:,15,:]"
   ]
  },
  {
   "cell_type": "code",
   "execution_count": null,
   "metadata": {},
   "outputs": [],
   "source": [
    "p = figure()\n",
    "p.line(calibration, spec)\n",
    "show(p)"
   ]
  }
 ],
 "metadata": {
  "kernelspec": {
   "display_name": "Python 3",
   "language": "python",
   "name": "python3"
  },
  "language_info": {
   "codemirror_mode": {
    "name": "ipython",
    "version": 3
   },
   "file_extension": ".py",
   "mimetype": "text/x-python",
   "name": "python",
   "nbconvert_exporter": "python",
   "pygments_lexer": "ipython3",
   "version": "3.6.4+"
  }
 },
 "nbformat": 4,
 "nbformat_minor": 2
}
